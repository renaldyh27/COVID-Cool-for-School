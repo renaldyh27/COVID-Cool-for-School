{
 "cells": [
  {
   "cell_type": "code",
   "execution_count": 118,
   "metadata": {},
   "outputs": [
    {
     "name": "stdout",
     "output_type": "stream",
     "text": [
      "The autoreload extension is already loaded. To reload it, use:\n",
      "  %reload_ext autoreload\n"
     ]
    }
   ],
   "source": [
    "%load_ext autoreload\n",
    "%autoreload 2\n",
    "\n",
    "%matplotlib inline\n",
    "import pandas as pd\n",
    "import numpy as np\n",
    "import seaborn as sns\n",
    "import os\n",
    "\n",
    "from sklearn.linear_model import LinearRegression\n",
    "from sklearn.preprocessing import FunctionTransformer\n",
    "from sklearn.preprocessing import OneHotEncoder\n",
    "from sklearn.pipeline import Pipeline\n",
    "from sklearn.compose import ColumnTransformer\n",
    "\n",
    "from sklearn.tree import DecisionTreeRegressor\n",
    "from sklearn.model_selection import train_test_split\n",
    "from sklearn.neighbors import KNeighborsRegressor\n",
    "from sklearn.model_selection import train_test_split"
   ]
  },
  {
   "cell_type": "code",
   "execution_count": 119,
   "metadata": {},
   "outputs": [],
   "source": [
    "from sklearn import preprocessing"
   ]
  },
  {
   "cell_type": "markdown",
   "metadata": {},
   "source": [
    "Benjamin: cumulative_enrollment, stats_sd\n",
    "\n",
    "Andrew: pubschools_info\n",
    "\n",
    "Alex: border_crossings"
   ]
  },
  {
   "cell_type": "code",
   "execution_count": 120,
   "metadata": {},
   "outputs": [],
   "source": [
    "border_crossings_path = os.path.join('Datasets', 'border_crossings.csv')\n",
    "border_crossings = pd.read_csv(border_crossings_path, low_memory=False)\n",
    "\n",
    "cumulative_enrollment_path = os.path.join('Datasets', 'cumulative_enrollment.csv')\n",
    "cumulative_enrollment = pd.read_csv(cumulative_enrollment_path, low_memory=False)\n",
    "\n",
    "pubschools_info_path = os.path.join('Datasets', 'pubschools_info.csv')\n",
    "pubschools_info = pd.read_csv(pubschools_info_path, low_memory=False)\n",
    "\n",
    "stats_sd_path = os.path.join('Datasets', 'COVID_19_Statistics_San_Diego_County.csv')\n",
    "stats_sd = pd.read_csv(stats_sd_path, low_memory=False)\n",
    "\n",
    "#I'm having a bit of trouble loading this one in for some reason, I'll check it out later.\n",
    "#age_stats_sd_path = os.path.join('Datasets', 'COVID-19_Age_Statistics_by_ZIP_Code')\n",
    "#age_stats_sd = pd.read_csv(age_stats_sd_path, low_memory=False)"
   ]
  },
  {
   "cell_type": "markdown",
   "metadata": {},
   "source": [
    "### Checklist:\n",
    "    1. Get dtypes in order\n",
    "        change dates to object datetime\n",
    "        natural numbers to int\n",
    "        decimals to float\n",
    "    2. Remove columns that are not relevant\n",
    "    3. Remove the unneeded symbols from string data\n",
    "    4. Replace null/blank/missing values with NaN\n",
    "    5. Look for and understand suspicious or out of place values for each column\n",
    "    6. Fill missing values or drop them as needed (for this one we can discuss among us which is the best method to deal with \n",
    "       missingness for each dataset, as there are a lot of ways to do them.\n",
    "                                        "
   ]
  },
  {
   "cell_type": "markdown",
   "metadata": {},
   "source": [
    "### Cumulative Enrollment"
   ]
  },
  {
   "cell_type": "code",
   "execution_count": 121,
   "metadata": {
    "scrolled": true
   },
   "outputs": [],
   "source": [
    "# #Removed insignificant columns\n",
    "# #Changed all * values (missing for student privacy) to NaN, rest of CumulativeEnrollment to float.\n",
    "# cumulative_clean = cumulative_enrollment.drop(['AcademicYear',\"CountyCode\", \"DistrictCode\", \"SchoolCode\"], axis=1) #Dropped codes\n",
    "# cumulative_clean[\"CumulativeEnrollment\"] = pd.to_numeric(cumulative_clean[\"CumulativeEnrollment\"], errors='coerce')\n",
    "# cumulative_clean[\"School, District\"] = cumulative_clean[\"SchoolName\"] + \", \" + cumulative_clean[\"DistrictName\"]"
   ]
  },
  {
   "cell_type": "code",
   "execution_count": 122,
   "metadata": {},
   "outputs": [],
   "source": [
    "#Removed insignificant columns\n",
    "#Changed all * values (missing for student privacy) to NaN, rest of CumulativeEnrollment to float.\n",
    "cumulative_clean = cumulative_enrollment.drop([\"AcademicYear\", \"CountyCode\", \"DistrictCode\", \"SchoolCode\"], axis=1) #Dropped codes\n",
    "cumulative_clean[\"CumulativeEnrollment\"] = pd.to_numeric(cumulative_clean[\"CumulativeEnrollment\"], errors='coerce')"
   ]
  },
  {
   "cell_type": "code",
   "execution_count": 123,
   "metadata": {},
   "outputs": [],
   "source": [
    "cumulative_clean[\"School, District\"] = cumulative_clean[\"SchoolName\"] + \", \" + cumulative_clean[\"DistrictName\"]\n",
    "cumulative_clean = cumulative_clean[cumulative_clean[\"AggregateLevel\"] == \"S\"]\n",
    "cumulative_clean = cumulative_clean[cumulative_clean[\"CountyName\"] == \"San Diego\"]\n",
    "cumulative_clean = cumulative_clean.rename(columns={'SchoolName': \"School\"})\n",
    "cumulative_clean = cumulative_clean[cumulative_clean[\"Charter\"] == \"No \"]\n",
    "cumulative_clean = cumulative_clean.drop([\"Charter\"], axis=1)\n",
    "\n",
    "latino = cumulative_clean.copy(deep=True)\n",
    "\n",
    "cumulative_clean = cumulative_clean[cumulative_clean[\"ReportingCategory\"] == \"TA\"]\n",
    "\n",
    "\n",
    "latino = latino[latino[\"ReportingCategory\"] == \"RH\"]\n",
    "latino = latino[[\"ReportingCategory\", \"CumulativeEnrollment\", \"School, District\"]]\n",
    "latino_enrollment = cumulative_clean.merge(latino, on=\"School, District\")\n",
    "latino_enrollment[\"Latino%\"] = latino_enrollment[\"CumulativeEnrollment_y\"] / latino_enrollment[\"CumulativeEnrollment_x\"]\n",
    "latino_enrollment = latino_enrollment.drop(columns=[\"ReportingCategory_x\", \"ReportingCategory_y\", \"CumulativeEnrollment_y\"])\n",
    "latino_enrollment = latino_enrollment.rename(columns={\"CumulativeEnrollment_x\": \"CumulativeEnrollment\"})\n",
    "cumulative_clean = latino_enrollment"
   ]
  },
  {
   "cell_type": "code",
   "execution_count": 124,
   "metadata": {},
   "outputs": [],
   "source": [
    "# latinos = cumulative_clean[cumulative_clean['ReportingCategory'] == 'RH']\n",
    "# latinos[latinos['CumulativeEnrollment'].isna() == False]\n",
    "# # len(latinos)"
   ]
  },
  {
   "cell_type": "markdown",
   "metadata": {},
   "source": [
    "### COVID-19 Stats in San Diego "
   ]
  },
  {
   "cell_type": "code",
   "execution_count": 125,
   "metadata": {
    "scrolled": true
   },
   "outputs": [],
   "source": [
    "stats_sd[\"date\"] = pd.to_datetime(stats_sd[\"date\"])"
   ]
  },
  {
   "cell_type": "markdown",
   "metadata": {},
   "source": [
    "### Border Crossing"
   ]
  },
  {
   "cell_type": "code",
   "execution_count": 126,
   "metadata": {
    "scrolled": false
   },
   "outputs": [],
   "source": [
    "months = [\"January\", \"February\", \"March\", \"April\", \"May\", \"June\", \"July\"]\n",
    "border = pd.read_csv(\"Datasets/border_crossings.csv\")\n",
    "#Dropped nans\n",
    "border = border.dropna(axis=0)\n",
    "for month in months:\n",
    "    border[month] = border[month].str.replace(',', '').astype(int)"
   ]
  },
  {
   "cell_type": "markdown",
   "metadata": {},
   "source": [
    "### Public Schools"
   ]
  },
  {
   "cell_type": "code",
   "execution_count": 127,
   "metadata": {
    "scrolled": true
   },
   "outputs": [
    {
     "name": "stderr",
     "output_type": "stream",
     "text": [
      "C:\\Users\\Andrew Chin\\Anaconda3\\lib\\site-packages\\IPython\\core\\interactiveshell.py:3049: DtypeWarning: Columns (0) have mixed types. Specify dtype option on import or set low_memory=False.\n",
      "  interactivity=interactivity, compiler=compiler, result=result)\n"
     ]
    }
   ],
   "source": [
    "schools = pd.read_csv('Datasets/pubschools_info.csv')\n",
    "\n",
    "schools = schools.loc[schools['County'] == 'San Diego']\n",
    "\n",
    "cols_to_drop = [\"NCESDist\",\"NCESSchool\",\"StreetAbr\",\"MailStreet\",\"MailStrAbr\",\"MailCity\",\n",
    "               \"MailZip\",\"MailState\",\"Ext\",\"FaxNumber\",\"Email\",\"Phone\",\"CharterNum\",\n",
    "                \"FundingType\",\"DOC\",\"DOCType\",\"EdOpsCode\",\"EdOpsName\",\"Magnet\",\"FederalDFCDistrictID\",\n",
    "                \"AdmFName\",\"AdmLName\",\"AdmEmail\",\"YearRoundYN\",'State', \n",
    "                'OpenDate',\"SOC\", \"SOCType\",\"GSoffered\",\"GSserved\",'ClosedDate']\n",
    "\n",
    "schools = schools.drop(cols_to_drop, axis=1)"
   ]
  },
  {
   "cell_type": "code",
   "execution_count": 128,
   "metadata": {},
   "outputs": [
    {
     "name": "stderr",
     "output_type": "stream",
     "text": [
      "C:\\Users\\Andrew Chin\\Anaconda3\\lib\\site-packages\\ipykernel_launcher.py:3: SettingWithCopyWarning: \n",
      "A value is trying to be set on a copy of a slice from a DataFrame.\n",
      "Try using .loc[row_indexer,col_indexer] = value instead\n",
      "\n",
      "See the caveats in the documentation: http://pandas.pydata.org/pandas-docs/stable/indexing.html#indexing-view-versus-copy\n",
      "  This is separate from the ipykernel package so we can avoid doing imports until\n"
     ]
    }
   ],
   "source": [
    "clean1 = schools.loc[schools['StatusType'] == 'Active'] #Keeps only active schools\n",
    "clean3 = clean1.loc[clean1['School'] != 'No Data'] #drops district records - nonschools\n",
    "clean3['LastUpDate'] = pd.to_datetime(clean3['LastUpDate']) #change lastUpDate to datetime obj col\n",
    "clean3 = clean3.reset_index().drop('index',axis = 1)\n",
    "schools = clean3\n",
    "\n",
    "schools = schools.replace(\"No Data\",np.nan) #changed \"No Data\" into NaNs\n",
    "schools['Latitude'] = schools['Latitude'].astype(float) #changed latitutde to float dtype\n",
    "schools['Longitude'] = schools['Longitude'].astype(float) #changed longitude to float dtype\n",
    "schools = schools.drop(['StatusType','County'],axis = 1) #dropped statustype and county col since its all active and SD county\n",
    "\n",
    "# small_zip = schools['Zip'].str.slice(0,5).astype(float)\n",
    "# schools = schools.assign(SmallZip=small_zip)"
   ]
  },
  {
   "cell_type": "code",
   "execution_count": 129,
   "metadata": {},
   "outputs": [],
   "source": [
    "address = schools['Street'] + ',' + schools['City'] + \",CA,\" + schools['Zip'].str.slice(0,5)\n",
    "schools = schools.assign(Address = address).drop([\"Street\",'City'],axis = 1)\n",
    "schools = schools.assign(Zipcode = schools['Zip'].str.slice(0,5))\n",
    "schools['Zipcode'] = schools['Zipcode'].astype(int)"
   ]
  },
  {
   "cell_type": "code",
   "execution_count": 130,
   "metadata": {
    "scrolled": true
   },
   "outputs": [],
   "source": [
    "schools = schools.drop(columns=[\"Virtual\"], axis=1)"
   ]
  },
  {
   "cell_type": "code",
   "execution_count": 131,
   "metadata": {},
   "outputs": [],
   "source": [
    "type_of_schools = ['ELEM','HS','INTMIDJR','ELEMHIGH']\n",
    "schools = schools[schools.EILCode.isin(type_of_schools)]\n",
    "\n",
    "schools = schools.loc[schools['Charter'] == 'N']\n",
    "schools = schools.drop(['EILCode','Charter'],axis = 1)\n"
   ]
  },
  {
   "cell_type": "code",
   "execution_count": 132,
   "metadata": {},
   "outputs": [],
   "source": [
    "num_schools = len(schools)\n",
    "unique_small_zips = schools['Zipcode'].nunique()\n",
    "unique_zips = len(schools['Zip'].unique())\n",
    "total_zips = len(schools['Zip'])"
   ]
  },
  {
   "cell_type": "code",
   "execution_count": 133,
   "metadata": {},
   "outputs": [
    {
     "name": "stdout",
     "output_type": "stream",
     "text": [
      "There are 90 unique Zipcodes out of 634\n",
      "There are 577 unique Zips out of 634.\n"
     ]
    }
   ],
   "source": [
    "print(\"There are {} unique Zipcodes out of {}\".format(unique_small_zips, total_zips))\n",
    "print(\"There are {} unique Zips out of {}.\".format(unique_zips,total_zips))"
   ]
  },
  {
   "cell_type": "code",
   "execution_count": 134,
   "metadata": {},
   "outputs": [],
   "source": [
    "schools[\"School, District\"] = schools[\"School\"] + \", \" + schools[\"District\"]"
   ]
  },
  {
   "cell_type": "code",
   "execution_count": 135,
   "metadata": {},
   "outputs": [
    {
     "data": {
      "text/html": [
       "<div>\n",
       "<style scoped>\n",
       "    .dataframe tbody tr th:only-of-type {\n",
       "        vertical-align: middle;\n",
       "    }\n",
       "\n",
       "    .dataframe tbody tr th {\n",
       "        vertical-align: top;\n",
       "    }\n",
       "\n",
       "    .dataframe thead th {\n",
       "        text-align: right;\n",
       "    }\n",
       "</style>\n",
       "<table border=\"1\" class=\"dataframe\">\n",
       "  <thead>\n",
       "    <tr style=\"text-align: right;\">\n",
       "      <th></th>\n",
       "      <th>CDSCode</th>\n",
       "      <th>District</th>\n",
       "      <th>School</th>\n",
       "      <th>Zip</th>\n",
       "      <th>WebSite</th>\n",
       "      <th>EILName</th>\n",
       "      <th>Latitude</th>\n",
       "      <th>Longitude</th>\n",
       "      <th>LastUpDate</th>\n",
       "      <th>Address</th>\n",
       "      <th>Zipcode</th>\n",
       "      <th>School, District</th>\n",
       "    </tr>\n",
       "  </thead>\n",
       "  <tbody>\n",
       "    <tr>\n",
       "      <th>1</th>\n",
       "      <td>37103710115998</td>\n",
       "      <td>San Diego County Office of Education</td>\n",
       "      <td>San Pasqual Academy</td>\n",
       "      <td>92025-5301</td>\n",
       "      <td>http://www.sanpasqualacademy.org</td>\n",
       "      <td>High School</td>\n",
       "      <td>33.090580</td>\n",
       "      <td>-116.95009</td>\n",
       "      <td>2019-02-13</td>\n",
       "      <td>17701 San Pasqual Valley Road,Escondido,CA,92025</td>\n",
       "      <td>92025</td>\n",
       "      <td>San Pasqual Academy, San Diego County Office o...</td>\n",
       "    </tr>\n",
       "    <tr>\n",
       "      <th>2</th>\n",
       "      <td>37103710120485</td>\n",
       "      <td>San Diego County Office of Education</td>\n",
       "      <td>Davila Day</td>\n",
       "      <td>91910-3604</td>\n",
       "      <td>NaN</td>\n",
       "      <td>Elementary</td>\n",
       "      <td>32.635041</td>\n",
       "      <td>-117.08832</td>\n",
       "      <td>2019-02-13</td>\n",
       "      <td>540 G Street,Chula Vista,CA,91910</td>\n",
       "      <td>91910</td>\n",
       "      <td>Davila Day, San Diego County Office of Education</td>\n",
       "    </tr>\n",
       "    <tr>\n",
       "      <th>3</th>\n",
       "      <td>37103710120493</td>\n",
       "      <td>San Diego County Office of Education</td>\n",
       "      <td>Monarch</td>\n",
       "      <td>92113-1012</td>\n",
       "      <td>http://www.monarchschools.org</td>\n",
       "      <td>Elementary-High Combination</td>\n",
       "      <td>32.702375</td>\n",
       "      <td>-117.15045</td>\n",
       "      <td>2020-08-24</td>\n",
       "      <td>1625 Newton Avenue,San Diego,CA,92113</td>\n",
       "      <td>92113</td>\n",
       "      <td>Monarch, San Diego County Office of Education</td>\n",
       "    </tr>\n",
       "    <tr>\n",
       "      <th>4</th>\n",
       "      <td>37103710128520</td>\n",
       "      <td>San Diego County Office of Education</td>\n",
       "      <td>San Diego County Community</td>\n",
       "      <td>92111-7399</td>\n",
       "      <td>http://www.sdcoe.net</td>\n",
       "      <td>Elementary-High Combination</td>\n",
       "      <td>32.769578</td>\n",
       "      <td>-117.17984</td>\n",
       "      <td>2020-08-21</td>\n",
       "      <td>6401 Linda Vista Road, Room 216,San Diego,CA,9...</td>\n",
       "      <td>92111</td>\n",
       "      <td>San Diego County Community, San Diego County O...</td>\n",
       "    </tr>\n",
       "    <tr>\n",
       "      <th>5</th>\n",
       "      <td>37103710128538</td>\n",
       "      <td>San Diego County Office of Education</td>\n",
       "      <td>San Diego County Court</td>\n",
       "      <td>92123</td>\n",
       "      <td>http://www.sdcoe.net/jccs</td>\n",
       "      <td>High School</td>\n",
       "      <td>32.794147</td>\n",
       "      <td>-117.15396</td>\n",
       "      <td>2019-02-13</td>\n",
       "      <td>2801 Meadow Lark Drive,San Diego,CA,92123</td>\n",
       "      <td>92123</td>\n",
       "      <td>San Diego County Court, San Diego County Offic...</td>\n",
       "    </tr>\n",
       "    <tr>\n",
       "      <th>14</th>\n",
       "      <td>37103711996545</td>\n",
       "      <td>San Diego County Office of Education</td>\n",
       "      <td>North Coastal Consortium Schools</td>\n",
       "      <td>92069-3709</td>\n",
       "      <td>http://nccse.org</td>\n",
       "      <td>Elementary-High Combination</td>\n",
       "      <td>33.142539</td>\n",
       "      <td>-117.16504</td>\n",
       "      <td>2019-02-13</td>\n",
       "      <td>255 Pico Avenue, Room 220,San Marcos,CA,92069</td>\n",
       "      <td>92069</td>\n",
       "      <td>North Coastal Consortium Schools, San Diego Co...</td>\n",
       "    </tr>\n",
       "    <tr>\n",
       "      <th>15</th>\n",
       "      <td>37103716069355</td>\n",
       "      <td>San Diego County Office of Education</td>\n",
       "      <td>San Diego County Special Education</td>\n",
       "      <td>92111-7319</td>\n",
       "      <td>http://www.sdcoe.net</td>\n",
       "      <td>Elementary-High Combination</td>\n",
       "      <td>32.769409</td>\n",
       "      <td>-117.17960</td>\n",
       "      <td>2019-11-20</td>\n",
       "      <td>6401 Linda Vista Road, Room 409,San Diego,CA,9...</td>\n",
       "      <td>92111</td>\n",
       "      <td>San Diego County Special Education, San Diego ...</td>\n",
       "    </tr>\n",
       "    <tr>\n",
       "      <th>17</th>\n",
       "      <td>37679676037535</td>\n",
       "      <td>Alpine Union Elementary</td>\n",
       "      <td>Joan MacQueen Middle</td>\n",
       "      <td>91901-3129</td>\n",
       "      <td>http://www.alpineschools.net/joanmac</td>\n",
       "      <td>Intermediate/Middle/Junior High</td>\n",
       "      <td>32.825432</td>\n",
       "      <td>-116.77538</td>\n",
       "      <td>2019-02-13</td>\n",
       "      <td>2001 Tavern Road,Alpine,CA,91901</td>\n",
       "      <td>91901</td>\n",
       "      <td>Joan MacQueen Middle, Alpine Union Elementary</td>\n",
       "    </tr>\n",
       "    <tr>\n",
       "      <th>18</th>\n",
       "      <td>37679676106256</td>\n",
       "      <td>Alpine Union Elementary</td>\n",
       "      <td>Shadow Hills Elementary</td>\n",
       "      <td>91901-2615</td>\n",
       "      <td>http://www.alpineschools.net/shadowhills</td>\n",
       "      <td>Elementary</td>\n",
       "      <td>32.831900</td>\n",
       "      <td>-116.81522</td>\n",
       "      <td>2019-02-26</td>\n",
       "      <td>8770 Harbison Canyon Road,Alpine,CA,91901</td>\n",
       "      <td>91901</td>\n",
       "      <td>Shadow Hills Elementary, Alpine Union Elementary</td>\n",
       "    </tr>\n",
       "    <tr>\n",
       "      <th>19</th>\n",
       "      <td>37679676109086</td>\n",
       "      <td>Alpine Union Elementary</td>\n",
       "      <td>Boulder Oaks Elementary</td>\n",
       "      <td>91901-3134</td>\n",
       "      <td>http://www.alpineschools.net/boulderoaks</td>\n",
       "      <td>Elementary</td>\n",
       "      <td>32.819163</td>\n",
       "      <td>-116.77617</td>\n",
       "      <td>2020-08-13</td>\n",
       "      <td>2320 Tavern Road,Alpine,CA,91901</td>\n",
       "      <td>91901</td>\n",
       "      <td>Boulder Oaks Elementary, Alpine Union Elementary</td>\n",
       "    </tr>\n",
       "    <tr>\n",
       "      <th>20</th>\n",
       "      <td>37679676109953</td>\n",
       "      <td>Alpine Union Elementary</td>\n",
       "      <td>Mountain View Learning Academy</td>\n",
       "      <td>91901-2615</td>\n",
       "      <td>http://www.alpineschools.net/mountainview</td>\n",
       "      <td>Elementary</td>\n",
       "      <td>32.832208</td>\n",
       "      <td>-116.81507</td>\n",
       "      <td>2020-08-13</td>\n",
       "      <td>8770 Harbison Canyon Road,Alpine,CA,91901</td>\n",
       "      <td>91901</td>\n",
       "      <td>Mountain View Learning Academy, Alpine Union E...</td>\n",
       "    </tr>\n",
       "    <tr>\n",
       "      <th>21</th>\n",
       "      <td>37679676118723</td>\n",
       "      <td>Alpine Union Elementary</td>\n",
       "      <td>Creekside Early Learning Center</td>\n",
       "      <td>91901-2616</td>\n",
       "      <td>http://www.alpineschools.net/creekside</td>\n",
       "      <td>Elementary</td>\n",
       "      <td>32.832208</td>\n",
       "      <td>-116.81507</td>\n",
       "      <td>2019-02-13</td>\n",
       "      <td>8818 Harbison Canyon Road,Alpine,CA,91901</td>\n",
       "      <td>91901</td>\n",
       "      <td>Creekside Early Learning Center, Alpine Union ...</td>\n",
       "    </tr>\n",
       "    <tr>\n",
       "      <th>23</th>\n",
       "      <td>37679833730447</td>\n",
       "      <td>Borrego Springs Unified</td>\n",
       "      <td>Borrego Springs High</td>\n",
       "      <td>92004-0235</td>\n",
       "      <td>http://www.bsusd.net</td>\n",
       "      <td>High School</td>\n",
       "      <td>33.265514</td>\n",
       "      <td>-116.38373</td>\n",
       "      <td>2019-11-06</td>\n",
       "      <td>2281 Diegueno Road,Borrego Springs,CA,92004</td>\n",
       "      <td>92004</td>\n",
       "      <td>Borrego Springs High, Borrego Springs Unified</td>\n",
       "    </tr>\n",
       "    <tr>\n",
       "      <th>24</th>\n",
       "      <td>37679836037550</td>\n",
       "      <td>Borrego Springs Unified</td>\n",
       "      <td>Borrego Springs Elementary</td>\n",
       "      <td>92004-0235</td>\n",
       "      <td>NaN</td>\n",
       "      <td>Elementary</td>\n",
       "      <td>33.256865</td>\n",
       "      <td>-116.34685</td>\n",
       "      <td>2019-02-13</td>\n",
       "      <td>1315 Palm Canyon Drive,Borrego Springs,CA,92004</td>\n",
       "      <td>92004</td>\n",
       "      <td>Borrego Springs Elementary, Borrego Springs Un...</td>\n",
       "    </tr>\n",
       "    <tr>\n",
       "      <th>25</th>\n",
       "      <td>37679836115315</td>\n",
       "      <td>Borrego Springs Unified</td>\n",
       "      <td>Borrego Springs Middle</td>\n",
       "      <td>92004</td>\n",
       "      <td>NaN</td>\n",
       "      <td>Intermediate/Middle/Junior High</td>\n",
       "      <td>33.264682</td>\n",
       "      <td>-116.38367</td>\n",
       "      <td>2019-11-06</td>\n",
       "      <td>2255 Diegueno Road,Borrego Springs,CA,92004</td>\n",
       "      <td>92004</td>\n",
       "      <td>Borrego Springs Middle, Borrego Springs Unified</td>\n",
       "    </tr>\n",
       "    <tr>\n",
       "      <th>27</th>\n",
       "      <td>37679910111005</td>\n",
       "      <td>Cajon Valley Union</td>\n",
       "      <td>Los Coches Creek Middle</td>\n",
       "      <td>92021-2619</td>\n",
       "      <td>NaN</td>\n",
       "      <td>Intermediate/Middle/Junior High</td>\n",
       "      <td>32.858622</td>\n",
       "      <td>-116.81938</td>\n",
       "      <td>2020-08-13</td>\n",
       "      <td>9669 Dunbar Lane,El Cajon,CA,92021</td>\n",
       "      <td>92021</td>\n",
       "      <td>Los Coches Creek Middle, Cajon Valley Union</td>\n",
       "    </tr>\n",
       "    <tr>\n",
       "      <th>29</th>\n",
       "      <td>37679910136176</td>\n",
       "      <td>Cajon Valley Union</td>\n",
       "      <td>Empower</td>\n",
       "      <td>92020-4015</td>\n",
       "      <td>http://www.cajonvalley.net</td>\n",
       "      <td>Intermediate/Middle/Junior High</td>\n",
       "      <td>32.795836</td>\n",
       "      <td>-116.95489</td>\n",
       "      <td>2020-08-13</td>\n",
       "      <td>165 Roanoke Road,El Cajon,CA,92020</td>\n",
       "      <td>92020</td>\n",
       "      <td>Empower, Cajon Valley Union</td>\n",
       "    </tr>\n",
       "    <tr>\n",
       "      <th>31</th>\n",
       "      <td>37679916037568</td>\n",
       "      <td>Cajon Valley Union</td>\n",
       "      <td>Anza Elementary</td>\n",
       "      <td>92020-8602</td>\n",
       "      <td>NaN</td>\n",
       "      <td>Elementary</td>\n",
       "      <td>32.786000</td>\n",
       "      <td>-116.94780</td>\n",
       "      <td>2020-08-13</td>\n",
       "      <td>1005 South Anza Street,El Cajon,CA,92020</td>\n",
       "      <td>92020</td>\n",
       "      <td>Anza Elementary, Cajon Valley Union</td>\n",
       "    </tr>\n",
       "    <tr>\n",
       "      <th>32</th>\n",
       "      <td>37679916037576</td>\n",
       "      <td>Cajon Valley Union</td>\n",
       "      <td>Bostonia Language Academy</td>\n",
       "      <td>92021-5812</td>\n",
       "      <td>NaN</td>\n",
       "      <td>Elementary</td>\n",
       "      <td>32.807818</td>\n",
       "      <td>-116.93171</td>\n",
       "      <td>2019-08-22</td>\n",
       "      <td>1390 East Broadway,El Cajon,CA,92021</td>\n",
       "      <td>92021</td>\n",
       "      <td>Bostonia Language Academy, Cajon Valley Union</td>\n",
       "    </tr>\n",
       "    <tr>\n",
       "      <th>33</th>\n",
       "      <td>37679916037584</td>\n",
       "      <td>Cajon Valley Union</td>\n",
       "      <td>Cajon Valley Middle</td>\n",
       "      <td>92020-3922</td>\n",
       "      <td>NaN</td>\n",
       "      <td>Intermediate/Middle/Junior High</td>\n",
       "      <td>32.798383</td>\n",
       "      <td>-116.95555</td>\n",
       "      <td>2020-08-13</td>\n",
       "      <td>550 Park Avenue,El Cajon,CA,92020</td>\n",
       "      <td>92020</td>\n",
       "      <td>Cajon Valley Middle, Cajon Valley Union</td>\n",
       "    </tr>\n",
       "    <tr>\n",
       "      <th>34</th>\n",
       "      <td>37679916037592</td>\n",
       "      <td>Cajon Valley Union</td>\n",
       "      <td>Chase Avenue Elementary</td>\n",
       "      <td>92020-6201</td>\n",
       "      <td>NaN</td>\n",
       "      <td>Elementary</td>\n",
       "      <td>32.780336</td>\n",
       "      <td>-116.96003</td>\n",
       "      <td>2020-08-13</td>\n",
       "      <td>195 East Chase Avenue,El Cajon,CA,92020</td>\n",
       "      <td>92020</td>\n",
       "      <td>Chase Avenue Elementary, Cajon Valley Union</td>\n",
       "    </tr>\n",
       "    <tr>\n",
       "      <th>35</th>\n",
       "      <td>37679916037600</td>\n",
       "      <td>Cajon Valley Union</td>\n",
       "      <td>Crest Elementary</td>\n",
       "      <td>92021-4249</td>\n",
       "      <td>NaN</td>\n",
       "      <td>Elementary</td>\n",
       "      <td>32.805538</td>\n",
       "      <td>-116.86647</td>\n",
       "      <td>2020-08-14</td>\n",
       "      <td>2000 Suncrest Boulevard,El Cajon,CA,92021</td>\n",
       "      <td>92021</td>\n",
       "      <td>Crest Elementary, Cajon Valley Union</td>\n",
       "    </tr>\n",
       "    <tr>\n",
       "      <th>36</th>\n",
       "      <td>37679916037626</td>\n",
       "      <td>Cajon Valley Union</td>\n",
       "      <td>Emerald Middle</td>\n",
       "      <td>92020-7315</td>\n",
       "      <td>NaN</td>\n",
       "      <td>Intermediate/Middle/Junior High</td>\n",
       "      <td>32.778996</td>\n",
       "      <td>-116.96869</td>\n",
       "      <td>2020-08-14</td>\n",
       "      <td>1221 South Emerald Avenue,El Cajon,CA,92020</td>\n",
       "      <td>92020</td>\n",
       "      <td>Emerald Middle, Cajon Valley Union</td>\n",
       "    </tr>\n",
       "    <tr>\n",
       "      <th>37</th>\n",
       "      <td>37679916037634</td>\n",
       "      <td>Cajon Valley Union</td>\n",
       "      <td>Flying Hills School of Arts</td>\n",
       "      <td>92020-1433</td>\n",
       "      <td>NaN</td>\n",
       "      <td>Elementary</td>\n",
       "      <td>32.811827</td>\n",
       "      <td>-116.98240</td>\n",
       "      <td>2020-08-13</td>\n",
       "      <td>1251 Finch Street,El Cajon,CA,92020</td>\n",
       "      <td>92020</td>\n",
       "      <td>Flying Hills School of Arts, Cajon Valley Union</td>\n",
       "    </tr>\n",
       "    <tr>\n",
       "      <th>38</th>\n",
       "      <td>37679916037642</td>\n",
       "      <td>Cajon Valley Union</td>\n",
       "      <td>Fuerte Elementary</td>\n",
       "      <td>92020-8309</td>\n",
       "      <td>NaN</td>\n",
       "      <td>Elementary</td>\n",
       "      <td>32.762217</td>\n",
       "      <td>-116.94678</td>\n",
       "      <td>2020-08-13</td>\n",
       "      <td>11625 Fuerte Drive,El Cajon,CA,92020</td>\n",
       "      <td>92020</td>\n",
       "      <td>Fuerte Elementary, Cajon Valley Union</td>\n",
       "    </tr>\n",
       "    <tr>\n",
       "      <th>39</th>\n",
       "      <td>37679916037659</td>\n",
       "      <td>Cajon Valley Union</td>\n",
       "      <td>Greenfield Middle</td>\n",
       "      <td>92021-3414</td>\n",
       "      <td>NaN</td>\n",
       "      <td>Intermediate/Middle/Junior High</td>\n",
       "      <td>32.811048</td>\n",
       "      <td>-116.92834</td>\n",
       "      <td>2020-08-14</td>\n",
       "      <td>1495 Greenfield Drive,El Cajon,CA,92021</td>\n",
       "      <td>92021</td>\n",
       "      <td>Greenfield Middle, Cajon Valley Union</td>\n",
       "    </tr>\n",
       "    <tr>\n",
       "      <th>40</th>\n",
       "      <td>37679916037675</td>\n",
       "      <td>Cajon Valley Union</td>\n",
       "      <td>Johnson Elementary</td>\n",
       "      <td>92020-3211</td>\n",
       "      <td>NaN</td>\n",
       "      <td>Elementary</td>\n",
       "      <td>32.800800</td>\n",
       "      <td>-116.95620</td>\n",
       "      <td>2019-02-13</td>\n",
       "      <td>500 West Madison,El Cajon,CA,92020</td>\n",
       "      <td>92020</td>\n",
       "      <td>Johnson Elementary, Cajon Valley Union</td>\n",
       "    </tr>\n",
       "    <tr>\n",
       "      <th>41</th>\n",
       "      <td>37679916037683</td>\n",
       "      <td>Cajon Valley Union</td>\n",
       "      <td>Lexington Elementary</td>\n",
       "      <td>92019-4739</td>\n",
       "      <td>NaN</td>\n",
       "      <td>Elementary</td>\n",
       "      <td>32.791145</td>\n",
       "      <td>-116.94234</td>\n",
       "      <td>2020-08-14</td>\n",
       "      <td>1145 Redwood Avenue,El Cajon,CA,92019</td>\n",
       "      <td>92019</td>\n",
       "      <td>Lexington Elementary, Cajon Valley Union</td>\n",
       "    </tr>\n",
       "    <tr>\n",
       "      <th>42</th>\n",
       "      <td>37679916037691</td>\n",
       "      <td>Cajon Valley Union</td>\n",
       "      <td>Madison Avenue Elementary</td>\n",
       "      <td>92019-1046</td>\n",
       "      <td>NaN</td>\n",
       "      <td>Elementary</td>\n",
       "      <td>32.800143</td>\n",
       "      <td>-116.92200</td>\n",
       "      <td>2020-08-13</td>\n",
       "      <td>1615 East Madison Avenue,El Cajon,CA,92019</td>\n",
       "      <td>92019</td>\n",
       "      <td>Madison Avenue Elementary, Cajon Valley Union</td>\n",
       "    </tr>\n",
       "    <tr>\n",
       "      <th>43</th>\n",
       "      <td>37679916037709</td>\n",
       "      <td>Cajon Valley Union</td>\n",
       "      <td>Magnolia Elementary</td>\n",
       "      <td>92021-2957</td>\n",
       "      <td>NaN</td>\n",
       "      <td>Elementary</td>\n",
       "      <td>32.813388</td>\n",
       "      <td>-116.95404</td>\n",
       "      <td>2020-08-13</td>\n",
       "      <td>650 Greenfield Drive,El Cajon,CA,92021</td>\n",
       "      <td>92021</td>\n",
       "      <td>Magnolia Elementary, Cajon Valley Union</td>\n",
       "    </tr>\n",
       "    <tr>\n",
       "      <th>...</th>\n",
       "      <td>...</td>\n",
       "      <td>...</td>\n",
       "      <td>...</td>\n",
       "      <td>...</td>\n",
       "      <td>...</td>\n",
       "      <td>...</td>\n",
       "      <td>...</td>\n",
       "      <td>...</td>\n",
       "      <td>...</td>\n",
       "      <td>...</td>\n",
       "      <td>...</td>\n",
       "      <td>...</td>\n",
       "    </tr>\n",
       "    <tr>\n",
       "      <th>736</th>\n",
       "      <td>37737913730793</td>\n",
       "      <td>San Marcos Unified</td>\n",
       "      <td>Foothills High</td>\n",
       "      <td>92069-9702</td>\n",
       "      <td>http://www.smusd.org</td>\n",
       "      <td>High School</td>\n",
       "      <td>33.180651</td>\n",
       "      <td>-117.15868</td>\n",
       "      <td>2020-08-13</td>\n",
       "      <td>158 Cassou Road,San Marcos,CA,92069</td>\n",
       "      <td>92069</td>\n",
       "      <td>Foothills High, San Marcos Unified</td>\n",
       "    </tr>\n",
       "    <tr>\n",
       "      <th>737</th>\n",
       "      <td>37737913730918</td>\n",
       "      <td>San Marcos Unified</td>\n",
       "      <td>San Marcos Adult</td>\n",
       "      <td>92069-9702</td>\n",
       "      <td>http://www.smusd.org</td>\n",
       "      <td>High School</td>\n",
       "      <td>33.178187</td>\n",
       "      <td>-117.15659</td>\n",
       "      <td>2020-08-13</td>\n",
       "      <td>158 Cassou Road,San Marcos,CA,92069</td>\n",
       "      <td>92069</td>\n",
       "      <td>San Marcos Adult, San Marcos Unified</td>\n",
       "    </tr>\n",
       "    <tr>\n",
       "      <th>738</th>\n",
       "      <td>37737913737632</td>\n",
       "      <td>San Marcos Unified</td>\n",
       "      <td>San Marcos High</td>\n",
       "      <td>92078-4020</td>\n",
       "      <td>http://www.smusd.org</td>\n",
       "      <td>High School</td>\n",
       "      <td>33.131215</td>\n",
       "      <td>-117.20543</td>\n",
       "      <td>2020-08-13</td>\n",
       "      <td>1615 San Marcos Boulevard,San Marcos,CA,92078</td>\n",
       "      <td>92078</td>\n",
       "      <td>San Marcos High, San Marcos Unified</td>\n",
       "    </tr>\n",
       "    <tr>\n",
       "      <th>739</th>\n",
       "      <td>37737916039069</td>\n",
       "      <td>San Marcos Unified</td>\n",
       "      <td>La Mirada Academy</td>\n",
       "      <td>92078-2312</td>\n",
       "      <td>http://www.smusd.org</td>\n",
       "      <td>Elementary</td>\n",
       "      <td>33.143808</td>\n",
       "      <td>-117.20381</td>\n",
       "      <td>2019-02-13</td>\n",
       "      <td>3697 La Mirada Drive,San Marcos,CA,92078</td>\n",
       "      <td>92078</td>\n",
       "      <td>La Mirada Academy, San Marcos Unified</td>\n",
       "    </tr>\n",
       "    <tr>\n",
       "      <th>740</th>\n",
       "      <td>37737916039077</td>\n",
       "      <td>San Marcos Unified</td>\n",
       "      <td>Richland Elementary</td>\n",
       "      <td>92069-2199</td>\n",
       "      <td>http://www.smusd.org</td>\n",
       "      <td>Elementary</td>\n",
       "      <td>33.154751</td>\n",
       "      <td>-117.14016</td>\n",
       "      <td>2020-08-13</td>\n",
       "      <td>910 Borden Road,San Marcos,CA,92069</td>\n",
       "      <td>92069</td>\n",
       "      <td>Richland Elementary, San Marcos Unified</td>\n",
       "    </tr>\n",
       "    <tr>\n",
       "      <th>741</th>\n",
       "      <td>37737916039085</td>\n",
       "      <td>San Marcos Unified</td>\n",
       "      <td>San Marcos Elementary</td>\n",
       "      <td>92069-2703</td>\n",
       "      <td>http://www.smusd.org</td>\n",
       "      <td>Elementary</td>\n",
       "      <td>33.141280</td>\n",
       "      <td>-117.16829</td>\n",
       "      <td>2020-08-13</td>\n",
       "      <td>1 Tiger Way,San Marcos,CA,92069</td>\n",
       "      <td>92069</td>\n",
       "      <td>San Marcos Elementary, San Marcos Unified</td>\n",
       "    </tr>\n",
       "    <tr>\n",
       "      <th>742</th>\n",
       "      <td>37737916039093</td>\n",
       "      <td>San Marcos Unified</td>\n",
       "      <td>San Marcos Middle</td>\n",
       "      <td>92069-1555</td>\n",
       "      <td>http://www.smusd.org</td>\n",
       "      <td>Intermediate/Middle/Junior High</td>\n",
       "      <td>33.145673</td>\n",
       "      <td>-117.17490</td>\n",
       "      <td>2020-08-13</td>\n",
       "      <td>650 West Mission Road,San Marcos,CA,92069</td>\n",
       "      <td>92069</td>\n",
       "      <td>San Marcos Middle, San Marcos Unified</td>\n",
       "    </tr>\n",
       "    <tr>\n",
       "      <th>743</th>\n",
       "      <td>37737916095061</td>\n",
       "      <td>San Marcos Unified</td>\n",
       "      <td>Woodland Park Middle</td>\n",
       "      <td>92069-3220</td>\n",
       "      <td>http://www.smusd.org</td>\n",
       "      <td>Intermediate/Middle/Junior High</td>\n",
       "      <td>33.147436</td>\n",
       "      <td>-117.12958</td>\n",
       "      <td>2020-08-13</td>\n",
       "      <td>1270 Rock Springs Road,San Marcos,CA,92069</td>\n",
       "      <td>92069</td>\n",
       "      <td>Woodland Park Middle, San Marcos Unified</td>\n",
       "    </tr>\n",
       "    <tr>\n",
       "      <th>744</th>\n",
       "      <td>37737916105993</td>\n",
       "      <td>San Marcos Unified</td>\n",
       "      <td>La Costa Meadows Elementary</td>\n",
       "      <td>92009-5923</td>\n",
       "      <td>http://www.smusd.org</td>\n",
       "      <td>Elementary</td>\n",
       "      <td>33.104542</td>\n",
       "      <td>-117.23995</td>\n",
       "      <td>2020-08-13</td>\n",
       "      <td>6889 El Fuerte Street,Carlsbad,CA,92009</td>\n",
       "      <td>92009</td>\n",
       "      <td>La Costa Meadows Elementary, San Marcos Unified</td>\n",
       "    </tr>\n",
       "    <tr>\n",
       "      <th>745</th>\n",
       "      <td>37737916107148</td>\n",
       "      <td>San Marcos Unified</td>\n",
       "      <td>Knob Hill Elementary</td>\n",
       "      <td>92069-3301</td>\n",
       "      <td>http://www.smusd.org</td>\n",
       "      <td>Elementary</td>\n",
       "      <td>33.139633</td>\n",
       "      <td>-117.11971</td>\n",
       "      <td>2020-08-13</td>\n",
       "      <td>1825 Knob Hill Road,San Marcos,CA,92069</td>\n",
       "      <td>92069</td>\n",
       "      <td>Knob Hill Elementary, San Marcos Unified</td>\n",
       "    </tr>\n",
       "    <tr>\n",
       "      <th>746</th>\n",
       "      <td>37737916108872</td>\n",
       "      <td>San Marcos Unified</td>\n",
       "      <td>Paloma Elementary</td>\n",
       "      <td>92069-7323</td>\n",
       "      <td>http://www.smusd.org</td>\n",
       "      <td>Elementary</td>\n",
       "      <td>33.159796</td>\n",
       "      <td>-117.18482</td>\n",
       "      <td>2020-08-13</td>\n",
       "      <td>660 Camino Magnifico,San Marcos,CA,92069</td>\n",
       "      <td>92069</td>\n",
       "      <td>Paloma Elementary, San Marcos Unified</td>\n",
       "    </tr>\n",
       "    <tr>\n",
       "      <th>747</th>\n",
       "      <td>37737916114169</td>\n",
       "      <td>San Marcos Unified</td>\n",
       "      <td>Discovery Elementary</td>\n",
       "      <td>92078-4969</td>\n",
       "      <td>http://www.smusd.org</td>\n",
       "      <td>Elementary</td>\n",
       "      <td>33.129296</td>\n",
       "      <td>-117.19050</td>\n",
       "      <td>2020-08-13</td>\n",
       "      <td>730 Applewilde Drive,San Marcos,CA,92078</td>\n",
       "      <td>92078</td>\n",
       "      <td>Discovery Elementary, San Marcos Unified</td>\n",
       "    </tr>\n",
       "    <tr>\n",
       "      <th>748</th>\n",
       "      <td>37737916115349</td>\n",
       "      <td>San Marcos Unified</td>\n",
       "      <td>Twin Oaks Elementary</td>\n",
       "      <td>92069-9831</td>\n",
       "      <td>http://www.smusd.org</td>\n",
       "      <td>Elementary</td>\n",
       "      <td>33.178528</td>\n",
       "      <td>-117.15544</td>\n",
       "      <td>2020-08-13</td>\n",
       "      <td>1 Cassou Road,San Marcos,CA,92069</td>\n",
       "      <td>92069</td>\n",
       "      <td>Twin Oaks Elementary, San Marcos Unified</td>\n",
       "    </tr>\n",
       "    <tr>\n",
       "      <th>749</th>\n",
       "      <td>37737916116206</td>\n",
       "      <td>San Marcos Unified</td>\n",
       "      <td>Carrillo Elementary</td>\n",
       "      <td>92009-3041</td>\n",
       "      <td>http://www.smusd.org</td>\n",
       "      <td>Elementary</td>\n",
       "      <td>33.119466</td>\n",
       "      <td>-117.24190</td>\n",
       "      <td>2020-08-13</td>\n",
       "      <td>2875 Poinsettia Lane,Carlsbad,CA,92009</td>\n",
       "      <td>92009</td>\n",
       "      <td>Carrillo Elementary, San Marcos Unified</td>\n",
       "    </tr>\n",
       "    <tr>\n",
       "      <th>757</th>\n",
       "      <td>37754163730975</td>\n",
       "      <td>Warner Unified</td>\n",
       "      <td>Warner Junior/Senior High</td>\n",
       "      <td>92086</td>\n",
       "      <td>http://www.warnerusd.net</td>\n",
       "      <td>High School</td>\n",
       "      <td>33.292294</td>\n",
       "      <td>-116.68489</td>\n",
       "      <td>2020-08-13</td>\n",
       "      <td>30951 Highway 79,Warner Springs,CA,92086</td>\n",
       "      <td>92086</td>\n",
       "      <td>Warner Junior/Senior High, Warner Unified</td>\n",
       "    </tr>\n",
       "    <tr>\n",
       "      <th>758</th>\n",
       "      <td>37754163731015</td>\n",
       "      <td>Warner Unified</td>\n",
       "      <td>San Jose Valley Continuation High</td>\n",
       "      <td>92086</td>\n",
       "      <td>NaN</td>\n",
       "      <td>High School</td>\n",
       "      <td>33.292294</td>\n",
       "      <td>-116.68489</td>\n",
       "      <td>2017-05-26</td>\n",
       "      <td>30951 Highway 79,Warner Springs,CA,92086</td>\n",
       "      <td>92086</td>\n",
       "      <td>San Jose Valley Continuation High, Warner Unified</td>\n",
       "    </tr>\n",
       "    <tr>\n",
       "      <th>759</th>\n",
       "      <td>37754166040661</td>\n",
       "      <td>Warner Unified</td>\n",
       "      <td>Warner Elementary</td>\n",
       "      <td>92086-0008</td>\n",
       "      <td>http://www.warnerusd.net</td>\n",
       "      <td>Elementary</td>\n",
       "      <td>33.346655</td>\n",
       "      <td>-116.73027</td>\n",
       "      <td>2020-08-13</td>\n",
       "      <td>30951 Highway 79,Warner Springs,CA,92086</td>\n",
       "      <td>92086</td>\n",
       "      <td>Warner Elementary, Warner Unified</td>\n",
       "    </tr>\n",
       "    <tr>\n",
       "      <th>761</th>\n",
       "      <td>37756140100511</td>\n",
       "      <td>Valley Center-Pauma Unified</td>\n",
       "      <td>Lilac</td>\n",
       "      <td>92082-3318</td>\n",
       "      <td>http://lilac.vcpusd.org</td>\n",
       "      <td>Elementary</td>\n",
       "      <td>33.256624</td>\n",
       "      <td>-117.06917</td>\n",
       "      <td>2019-08-21</td>\n",
       "      <td>30109 Lilac Road,Valley Center,CA,92082</td>\n",
       "      <td>92082</td>\n",
       "      <td>Lilac, Valley Center-Pauma Unified</td>\n",
       "    </tr>\n",
       "    <tr>\n",
       "      <th>762</th>\n",
       "      <td>37756143731114</td>\n",
       "      <td>Valley Center-Pauma Unified</td>\n",
       "      <td>Valley Center High</td>\n",
       "      <td>92082-3867</td>\n",
       "      <td>http://vchs.vcpusd.org</td>\n",
       "      <td>High School</td>\n",
       "      <td>33.279829</td>\n",
       "      <td>-117.02379</td>\n",
       "      <td>2020-08-13</td>\n",
       "      <td>31322 Cole Grade Road,Valley Center,CA,92082</td>\n",
       "      <td>92082</td>\n",
       "      <td>Valley Center High, Valley Center-Pauma Unified</td>\n",
       "    </tr>\n",
       "    <tr>\n",
       "      <th>763</th>\n",
       "      <td>37756143731312</td>\n",
       "      <td>Valley Center-Pauma Unified</td>\n",
       "      <td>Oak Glen High</td>\n",
       "      <td>92082-4123</td>\n",
       "      <td>http://oghs.vcpusd.org</td>\n",
       "      <td>High School</td>\n",
       "      <td>33.282007</td>\n",
       "      <td>-117.02401</td>\n",
       "      <td>2020-08-13</td>\n",
       "      <td>14172 West Oak Glen Road,Valley Center,CA,92082</td>\n",
       "      <td>92082</td>\n",
       "      <td>Oak Glen High, Valley Center-Pauma Unified</td>\n",
       "    </tr>\n",
       "    <tr>\n",
       "      <th>764</th>\n",
       "      <td>37756143731338</td>\n",
       "      <td>Valley Center-Pauma Unified</td>\n",
       "      <td>Valley Center-Pauma Adult</td>\n",
       "      <td>92082</td>\n",
       "      <td>NaN</td>\n",
       "      <td>High School</td>\n",
       "      <td>33.280020</td>\n",
       "      <td>-117.02398</td>\n",
       "      <td>2018-07-12</td>\n",
       "      <td>31322 Cole Grade Road,Valley Center,CA,92082</td>\n",
       "      <td>92082</td>\n",
       "      <td>Valley Center-Pauma Adult, Valley Center-Pauma...</td>\n",
       "    </tr>\n",
       "    <tr>\n",
       "      <th>765</th>\n",
       "      <td>37756143731601</td>\n",
       "      <td>Valley Center-Pauma Unified</td>\n",
       "      <td>Valley Center Prep</td>\n",
       "      <td>92082</td>\n",
       "      <td>http://vcprep.vcpusd.org</td>\n",
       "      <td>Elementary-High Combination</td>\n",
       "      <td>33.236018</td>\n",
       "      <td>-117.02144</td>\n",
       "      <td>2020-08-13</td>\n",
       "      <td>28751-U Cole Grade Road,Valley Center,CA,92082</td>\n",
       "      <td>92082</td>\n",
       "      <td>Valley Center Prep, Valley Center-Pauma Unified</td>\n",
       "    </tr>\n",
       "    <tr>\n",
       "      <th>766</th>\n",
       "      <td>37756146038962</td>\n",
       "      <td>Valley Center-Pauma Unified</td>\n",
       "      <td>Pauma Elementary</td>\n",
       "      <td>92061-9578</td>\n",
       "      <td>http://pauma.vcpusd.org</td>\n",
       "      <td>Elementary</td>\n",
       "      <td>33.315897</td>\n",
       "      <td>-116.99873</td>\n",
       "      <td>2019-08-21</td>\n",
       "      <td>33158 Cole Grade Road,Pauma Valley,CA,92061</td>\n",
       "      <td>92061</td>\n",
       "      <td>Pauma Elementary, Valley Center-Pauma Unified</td>\n",
       "    </tr>\n",
       "    <tr>\n",
       "      <th>767</th>\n",
       "      <td>37756146093272</td>\n",
       "      <td>Valley Center-Pauma Unified</td>\n",
       "      <td>Valley Center Middle</td>\n",
       "      <td>92082-6740</td>\n",
       "      <td>http://vcms.vcpusd.org</td>\n",
       "      <td>Intermediate/Middle/Junior High</td>\n",
       "      <td>33.224381</td>\n",
       "      <td>-116.97567</td>\n",
       "      <td>2019-08-21</td>\n",
       "      <td>28102 North Lake Wohlford Road,Valley Center,C...</td>\n",
       "      <td>92082</td>\n",
       "      <td>Valley Center Middle, Valley Center-Pauma Unified</td>\n",
       "    </tr>\n",
       "    <tr>\n",
       "      <th>768</th>\n",
       "      <td>37756146106124</td>\n",
       "      <td>Valley Center-Pauma Unified</td>\n",
       "      <td>Valley Center Primary</td>\n",
       "      <td>92082-5907</td>\n",
       "      <td>http://vcps.vcpusd.org</td>\n",
       "      <td>Elementary</td>\n",
       "      <td>33.239526</td>\n",
       "      <td>-117.02157</td>\n",
       "      <td>2019-08-21</td>\n",
       "      <td>14249 Fruitvale Road,Valley Center,CA,92082</td>\n",
       "      <td>92082</td>\n",
       "      <td>Valley Center Primary, Valley Center-Pauma Uni...</td>\n",
       "    </tr>\n",
       "    <tr>\n",
       "      <th>769</th>\n",
       "      <td>37756146112494</td>\n",
       "      <td>Valley Center-Pauma Unified</td>\n",
       "      <td>Valley Center Elementary</td>\n",
       "      <td>92082-6575</td>\n",
       "      <td>http://vceus.vcpusd.org</td>\n",
       "      <td>Elementary</td>\n",
       "      <td>33.234769</td>\n",
       "      <td>-117.02397</td>\n",
       "      <td>2019-08-21</td>\n",
       "      <td>28751 Cole Grade Road,Valley Center,CA,92082</td>\n",
       "      <td>92082</td>\n",
       "      <td>Valley Center Elementary, Valley Center-Pauma ...</td>\n",
       "    </tr>\n",
       "    <tr>\n",
       "      <th>779</th>\n",
       "      <td>37768510110122</td>\n",
       "      <td>Bonsall Unified</td>\n",
       "      <td>Bonsall West Elementary</td>\n",
       "      <td>92057-2704</td>\n",
       "      <td>http://www.bonsallusd.com</td>\n",
       "      <td>Elementary</td>\n",
       "      <td>33.263619</td>\n",
       "      <td>-117.29384</td>\n",
       "      <td>2020-08-13</td>\n",
       "      <td>5050 El Mirlo Drive,Oceanside,CA,92057</td>\n",
       "      <td>92057</td>\n",
       "      <td>Bonsall West Elementary, Bonsall Unified</td>\n",
       "    </tr>\n",
       "    <tr>\n",
       "      <th>780</th>\n",
       "      <td>37768510129320</td>\n",
       "      <td>Bonsall Unified</td>\n",
       "      <td>Bonsall High</td>\n",
       "      <td>92003-4316</td>\n",
       "      <td>http://www.bonsallhs.com</td>\n",
       "      <td>High School</td>\n",
       "      <td>33.296238</td>\n",
       "      <td>-117.17648</td>\n",
       "      <td>2020-08-13</td>\n",
       "      <td>7350 West Lilac Road,Bonsall,CA,92003</td>\n",
       "      <td>92003</td>\n",
       "      <td>Bonsall High, Bonsall Unified</td>\n",
       "    </tr>\n",
       "    <tr>\n",
       "      <th>781</th>\n",
       "      <td>37768516037543</td>\n",
       "      <td>Bonsall Unified</td>\n",
       "      <td>Bonsall Elementary</td>\n",
       "      <td>92003-5112</td>\n",
       "      <td>http://www.bonsallusd.com</td>\n",
       "      <td>Elementary</td>\n",
       "      <td>33.287143</td>\n",
       "      <td>-117.22078</td>\n",
       "      <td>2020-08-13</td>\n",
       "      <td>31555 Old River Road,Bonsall,CA,92003</td>\n",
       "      <td>92003</td>\n",
       "      <td>Bonsall Elementary, Bonsall Unified</td>\n",
       "    </tr>\n",
       "    <tr>\n",
       "      <th>782</th>\n",
       "      <td>37768516108567</td>\n",
       "      <td>Bonsall Unified</td>\n",
       "      <td>Norman L. Sullivan Middle</td>\n",
       "      <td>92003-5112</td>\n",
       "      <td>http://www.bonsallusd.com</td>\n",
       "      <td>Intermediate/Middle/Junior High</td>\n",
       "      <td>33.296116</td>\n",
       "      <td>-117.17507</td>\n",
       "      <td>2020-08-13</td>\n",
       "      <td>7350 West Lilac Road,Bonsall,CA,92003</td>\n",
       "      <td>92003</td>\n",
       "      <td>Norman L. Sullivan Middle, Bonsall Unified</td>\n",
       "    </tr>\n",
       "  </tbody>\n",
       "</table>\n",
       "<p>634 rows × 12 columns</p>\n",
       "</div>"
      ],
      "text/plain": [
       "            CDSCode                              District  \\\n",
       "1    37103710115998  San Diego County Office of Education   \n",
       "2    37103710120485  San Diego County Office of Education   \n",
       "3    37103710120493  San Diego County Office of Education   \n",
       "4    37103710128520  San Diego County Office of Education   \n",
       "5    37103710128538  San Diego County Office of Education   \n",
       "14   37103711996545  San Diego County Office of Education   \n",
       "15   37103716069355  San Diego County Office of Education   \n",
       "17   37679676037535               Alpine Union Elementary   \n",
       "18   37679676106256               Alpine Union Elementary   \n",
       "19   37679676109086               Alpine Union Elementary   \n",
       "20   37679676109953               Alpine Union Elementary   \n",
       "21   37679676118723               Alpine Union Elementary   \n",
       "23   37679833730447               Borrego Springs Unified   \n",
       "24   37679836037550               Borrego Springs Unified   \n",
       "25   37679836115315               Borrego Springs Unified   \n",
       "27   37679910111005                    Cajon Valley Union   \n",
       "29   37679910136176                    Cajon Valley Union   \n",
       "31   37679916037568                    Cajon Valley Union   \n",
       "32   37679916037576                    Cajon Valley Union   \n",
       "33   37679916037584                    Cajon Valley Union   \n",
       "34   37679916037592                    Cajon Valley Union   \n",
       "35   37679916037600                    Cajon Valley Union   \n",
       "36   37679916037626                    Cajon Valley Union   \n",
       "37   37679916037634                    Cajon Valley Union   \n",
       "38   37679916037642                    Cajon Valley Union   \n",
       "39   37679916037659                    Cajon Valley Union   \n",
       "40   37679916037675                    Cajon Valley Union   \n",
       "41   37679916037683                    Cajon Valley Union   \n",
       "42   37679916037691                    Cajon Valley Union   \n",
       "43   37679916037709                    Cajon Valley Union   \n",
       "..              ...                                   ...   \n",
       "736  37737913730793                    San Marcos Unified   \n",
       "737  37737913730918                    San Marcos Unified   \n",
       "738  37737913737632                    San Marcos Unified   \n",
       "739  37737916039069                    San Marcos Unified   \n",
       "740  37737916039077                    San Marcos Unified   \n",
       "741  37737916039085                    San Marcos Unified   \n",
       "742  37737916039093                    San Marcos Unified   \n",
       "743  37737916095061                    San Marcos Unified   \n",
       "744  37737916105993                    San Marcos Unified   \n",
       "745  37737916107148                    San Marcos Unified   \n",
       "746  37737916108872                    San Marcos Unified   \n",
       "747  37737916114169                    San Marcos Unified   \n",
       "748  37737916115349                    San Marcos Unified   \n",
       "749  37737916116206                    San Marcos Unified   \n",
       "757  37754163730975                        Warner Unified   \n",
       "758  37754163731015                        Warner Unified   \n",
       "759  37754166040661                        Warner Unified   \n",
       "761  37756140100511           Valley Center-Pauma Unified   \n",
       "762  37756143731114           Valley Center-Pauma Unified   \n",
       "763  37756143731312           Valley Center-Pauma Unified   \n",
       "764  37756143731338           Valley Center-Pauma Unified   \n",
       "765  37756143731601           Valley Center-Pauma Unified   \n",
       "766  37756146038962           Valley Center-Pauma Unified   \n",
       "767  37756146093272           Valley Center-Pauma Unified   \n",
       "768  37756146106124           Valley Center-Pauma Unified   \n",
       "769  37756146112494           Valley Center-Pauma Unified   \n",
       "779  37768510110122                       Bonsall Unified   \n",
       "780  37768510129320                       Bonsall Unified   \n",
       "781  37768516037543                       Bonsall Unified   \n",
       "782  37768516108567                       Bonsall Unified   \n",
       "\n",
       "                                 School         Zip  \\\n",
       "1                   San Pasqual Academy  92025-5301   \n",
       "2                            Davila Day  91910-3604   \n",
       "3                               Monarch  92113-1012   \n",
       "4            San Diego County Community  92111-7399   \n",
       "5                San Diego County Court       92123   \n",
       "14     North Coastal Consortium Schools  92069-3709   \n",
       "15   San Diego County Special Education  92111-7319   \n",
       "17                 Joan MacQueen Middle  91901-3129   \n",
       "18              Shadow Hills Elementary  91901-2615   \n",
       "19              Boulder Oaks Elementary  91901-3134   \n",
       "20       Mountain View Learning Academy  91901-2615   \n",
       "21      Creekside Early Learning Center  91901-2616   \n",
       "23                 Borrego Springs High  92004-0235   \n",
       "24           Borrego Springs Elementary  92004-0235   \n",
       "25               Borrego Springs Middle       92004   \n",
       "27              Los Coches Creek Middle  92021-2619   \n",
       "29                              Empower  92020-4015   \n",
       "31                      Anza Elementary  92020-8602   \n",
       "32            Bostonia Language Academy  92021-5812   \n",
       "33                  Cajon Valley Middle  92020-3922   \n",
       "34              Chase Avenue Elementary  92020-6201   \n",
       "35                     Crest Elementary  92021-4249   \n",
       "36                       Emerald Middle  92020-7315   \n",
       "37          Flying Hills School of Arts  92020-1433   \n",
       "38                    Fuerte Elementary  92020-8309   \n",
       "39                    Greenfield Middle  92021-3414   \n",
       "40                   Johnson Elementary  92020-3211   \n",
       "41                 Lexington Elementary  92019-4739   \n",
       "42            Madison Avenue Elementary  92019-1046   \n",
       "43                  Magnolia Elementary  92021-2957   \n",
       "..                                  ...         ...   \n",
       "736                      Foothills High  92069-9702   \n",
       "737                    San Marcos Adult  92069-9702   \n",
       "738                     San Marcos High  92078-4020   \n",
       "739                   La Mirada Academy  92078-2312   \n",
       "740                 Richland Elementary  92069-2199   \n",
       "741               San Marcos Elementary  92069-2703   \n",
       "742                   San Marcos Middle  92069-1555   \n",
       "743                Woodland Park Middle  92069-3220   \n",
       "744         La Costa Meadows Elementary  92009-5923   \n",
       "745                Knob Hill Elementary  92069-3301   \n",
       "746                   Paloma Elementary  92069-7323   \n",
       "747                Discovery Elementary  92078-4969   \n",
       "748                Twin Oaks Elementary  92069-9831   \n",
       "749                 Carrillo Elementary  92009-3041   \n",
       "757           Warner Junior/Senior High       92086   \n",
       "758   San Jose Valley Continuation High       92086   \n",
       "759                   Warner Elementary  92086-0008   \n",
       "761                               Lilac  92082-3318   \n",
       "762                  Valley Center High  92082-3867   \n",
       "763                       Oak Glen High  92082-4123   \n",
       "764           Valley Center-Pauma Adult       92082   \n",
       "765                  Valley Center Prep       92082   \n",
       "766                    Pauma Elementary  92061-9578   \n",
       "767                Valley Center Middle  92082-6740   \n",
       "768               Valley Center Primary  92082-5907   \n",
       "769            Valley Center Elementary  92082-6575   \n",
       "779             Bonsall West Elementary  92057-2704   \n",
       "780                        Bonsall High  92003-4316   \n",
       "781                  Bonsall Elementary  92003-5112   \n",
       "782           Norman L. Sullivan Middle  92003-5112   \n",
       "\n",
       "                                       WebSite  \\\n",
       "1             http://www.sanpasqualacademy.org   \n",
       "2                                          NaN   \n",
       "3                http://www.monarchschools.org   \n",
       "4                         http://www.sdcoe.net   \n",
       "5                    http://www.sdcoe.net/jccs   \n",
       "14                            http://nccse.org   \n",
       "15                        http://www.sdcoe.net   \n",
       "17        http://www.alpineschools.net/joanmac   \n",
       "18    http://www.alpineschools.net/shadowhills   \n",
       "19    http://www.alpineschools.net/boulderoaks   \n",
       "20   http://www.alpineschools.net/mountainview   \n",
       "21      http://www.alpineschools.net/creekside   \n",
       "23                        http://www.bsusd.net   \n",
       "24                                         NaN   \n",
       "25                                         NaN   \n",
       "27                                         NaN   \n",
       "29                  http://www.cajonvalley.net   \n",
       "31                                         NaN   \n",
       "32                                         NaN   \n",
       "33                                         NaN   \n",
       "34                                         NaN   \n",
       "35                                         NaN   \n",
       "36                                         NaN   \n",
       "37                                         NaN   \n",
       "38                                         NaN   \n",
       "39                                         NaN   \n",
       "40                                         NaN   \n",
       "41                                         NaN   \n",
       "42                                         NaN   \n",
       "43                                         NaN   \n",
       "..                                         ...   \n",
       "736                       http://www.smusd.org   \n",
       "737                       http://www.smusd.org   \n",
       "738                       http://www.smusd.org   \n",
       "739                       http://www.smusd.org   \n",
       "740                       http://www.smusd.org   \n",
       "741                       http://www.smusd.org   \n",
       "742                       http://www.smusd.org   \n",
       "743                       http://www.smusd.org   \n",
       "744                       http://www.smusd.org   \n",
       "745                       http://www.smusd.org   \n",
       "746                       http://www.smusd.org   \n",
       "747                       http://www.smusd.org   \n",
       "748                       http://www.smusd.org   \n",
       "749                       http://www.smusd.org   \n",
       "757                   http://www.warnerusd.net   \n",
       "758                                        NaN   \n",
       "759                   http://www.warnerusd.net   \n",
       "761                    http://lilac.vcpusd.org   \n",
       "762                     http://vchs.vcpusd.org   \n",
       "763                     http://oghs.vcpusd.org   \n",
       "764                                        NaN   \n",
       "765                   http://vcprep.vcpusd.org   \n",
       "766                    http://pauma.vcpusd.org   \n",
       "767                     http://vcms.vcpusd.org   \n",
       "768                     http://vcps.vcpusd.org   \n",
       "769                    http://vceus.vcpusd.org   \n",
       "779                  http://www.bonsallusd.com   \n",
       "780                   http://www.bonsallhs.com   \n",
       "781                  http://www.bonsallusd.com   \n",
       "782                  http://www.bonsallusd.com   \n",
       "\n",
       "                             EILName   Latitude  Longitude LastUpDate  \\\n",
       "1                        High School  33.090580 -116.95009 2019-02-13   \n",
       "2                         Elementary  32.635041 -117.08832 2019-02-13   \n",
       "3        Elementary-High Combination  32.702375 -117.15045 2020-08-24   \n",
       "4        Elementary-High Combination  32.769578 -117.17984 2020-08-21   \n",
       "5                        High School  32.794147 -117.15396 2019-02-13   \n",
       "14       Elementary-High Combination  33.142539 -117.16504 2019-02-13   \n",
       "15       Elementary-High Combination  32.769409 -117.17960 2019-11-20   \n",
       "17   Intermediate/Middle/Junior High  32.825432 -116.77538 2019-02-13   \n",
       "18                        Elementary  32.831900 -116.81522 2019-02-26   \n",
       "19                        Elementary  32.819163 -116.77617 2020-08-13   \n",
       "20                        Elementary  32.832208 -116.81507 2020-08-13   \n",
       "21                        Elementary  32.832208 -116.81507 2019-02-13   \n",
       "23                       High School  33.265514 -116.38373 2019-11-06   \n",
       "24                        Elementary  33.256865 -116.34685 2019-02-13   \n",
       "25   Intermediate/Middle/Junior High  33.264682 -116.38367 2019-11-06   \n",
       "27   Intermediate/Middle/Junior High  32.858622 -116.81938 2020-08-13   \n",
       "29   Intermediate/Middle/Junior High  32.795836 -116.95489 2020-08-13   \n",
       "31                        Elementary  32.786000 -116.94780 2020-08-13   \n",
       "32                        Elementary  32.807818 -116.93171 2019-08-22   \n",
       "33   Intermediate/Middle/Junior High  32.798383 -116.95555 2020-08-13   \n",
       "34                        Elementary  32.780336 -116.96003 2020-08-13   \n",
       "35                        Elementary  32.805538 -116.86647 2020-08-14   \n",
       "36   Intermediate/Middle/Junior High  32.778996 -116.96869 2020-08-14   \n",
       "37                        Elementary  32.811827 -116.98240 2020-08-13   \n",
       "38                        Elementary  32.762217 -116.94678 2020-08-13   \n",
       "39   Intermediate/Middle/Junior High  32.811048 -116.92834 2020-08-14   \n",
       "40                        Elementary  32.800800 -116.95620 2019-02-13   \n",
       "41                        Elementary  32.791145 -116.94234 2020-08-14   \n",
       "42                        Elementary  32.800143 -116.92200 2020-08-13   \n",
       "43                        Elementary  32.813388 -116.95404 2020-08-13   \n",
       "..                               ...        ...        ...        ...   \n",
       "736                      High School  33.180651 -117.15868 2020-08-13   \n",
       "737                      High School  33.178187 -117.15659 2020-08-13   \n",
       "738                      High School  33.131215 -117.20543 2020-08-13   \n",
       "739                       Elementary  33.143808 -117.20381 2019-02-13   \n",
       "740                       Elementary  33.154751 -117.14016 2020-08-13   \n",
       "741                       Elementary  33.141280 -117.16829 2020-08-13   \n",
       "742  Intermediate/Middle/Junior High  33.145673 -117.17490 2020-08-13   \n",
       "743  Intermediate/Middle/Junior High  33.147436 -117.12958 2020-08-13   \n",
       "744                       Elementary  33.104542 -117.23995 2020-08-13   \n",
       "745                       Elementary  33.139633 -117.11971 2020-08-13   \n",
       "746                       Elementary  33.159796 -117.18482 2020-08-13   \n",
       "747                       Elementary  33.129296 -117.19050 2020-08-13   \n",
       "748                       Elementary  33.178528 -117.15544 2020-08-13   \n",
       "749                       Elementary  33.119466 -117.24190 2020-08-13   \n",
       "757                      High School  33.292294 -116.68489 2020-08-13   \n",
       "758                      High School  33.292294 -116.68489 2017-05-26   \n",
       "759                       Elementary  33.346655 -116.73027 2020-08-13   \n",
       "761                       Elementary  33.256624 -117.06917 2019-08-21   \n",
       "762                      High School  33.279829 -117.02379 2020-08-13   \n",
       "763                      High School  33.282007 -117.02401 2020-08-13   \n",
       "764                      High School  33.280020 -117.02398 2018-07-12   \n",
       "765      Elementary-High Combination  33.236018 -117.02144 2020-08-13   \n",
       "766                       Elementary  33.315897 -116.99873 2019-08-21   \n",
       "767  Intermediate/Middle/Junior High  33.224381 -116.97567 2019-08-21   \n",
       "768                       Elementary  33.239526 -117.02157 2019-08-21   \n",
       "769                       Elementary  33.234769 -117.02397 2019-08-21   \n",
       "779                       Elementary  33.263619 -117.29384 2020-08-13   \n",
       "780                      High School  33.296238 -117.17648 2020-08-13   \n",
       "781                       Elementary  33.287143 -117.22078 2020-08-13   \n",
       "782  Intermediate/Middle/Junior High  33.296116 -117.17507 2020-08-13   \n",
       "\n",
       "                                               Address  Zipcode  \\\n",
       "1     17701 San Pasqual Valley Road,Escondido,CA,92025    92025   \n",
       "2                    540 G Street,Chula Vista,CA,91910    91910   \n",
       "3                1625 Newton Avenue,San Diego,CA,92113    92113   \n",
       "4    6401 Linda Vista Road, Room 216,San Diego,CA,9...    92111   \n",
       "5            2801 Meadow Lark Drive,San Diego,CA,92123    92123   \n",
       "14       255 Pico Avenue, Room 220,San Marcos,CA,92069    92069   \n",
       "15   6401 Linda Vista Road, Room 409,San Diego,CA,9...    92111   \n",
       "17                    2001 Tavern Road,Alpine,CA,91901    91901   \n",
       "18           8770 Harbison Canyon Road,Alpine,CA,91901    91901   \n",
       "19                    2320 Tavern Road,Alpine,CA,91901    91901   \n",
       "20           8770 Harbison Canyon Road,Alpine,CA,91901    91901   \n",
       "21           8818 Harbison Canyon Road,Alpine,CA,91901    91901   \n",
       "23         2281 Diegueno Road,Borrego Springs,CA,92004    92004   \n",
       "24     1315 Palm Canyon Drive,Borrego Springs,CA,92004    92004   \n",
       "25         2255 Diegueno Road,Borrego Springs,CA,92004    92004   \n",
       "27                  9669 Dunbar Lane,El Cajon,CA,92021    92021   \n",
       "29                  165 Roanoke Road,El Cajon,CA,92020    92020   \n",
       "31            1005 South Anza Street,El Cajon,CA,92020    92020   \n",
       "32                1390 East Broadway,El Cajon,CA,92021    92021   \n",
       "33                   550 Park Avenue,El Cajon,CA,92020    92020   \n",
       "34             195 East Chase Avenue,El Cajon,CA,92020    92020   \n",
       "35           2000 Suncrest Boulevard,El Cajon,CA,92021    92021   \n",
       "36         1221 South Emerald Avenue,El Cajon,CA,92020    92020   \n",
       "37                 1251 Finch Street,El Cajon,CA,92020    92020   \n",
       "38                11625 Fuerte Drive,El Cajon,CA,92020    92020   \n",
       "39             1495 Greenfield Drive,El Cajon,CA,92021    92021   \n",
       "40                  500 West Madison,El Cajon,CA,92020    92020   \n",
       "41               1145 Redwood Avenue,El Cajon,CA,92019    92019   \n",
       "42          1615 East Madison Avenue,El Cajon,CA,92019    92019   \n",
       "43              650 Greenfield Drive,El Cajon,CA,92021    92021   \n",
       "..                                                 ...      ...   \n",
       "736                158 Cassou Road,San Marcos,CA,92069    92069   \n",
       "737                158 Cassou Road,San Marcos,CA,92069    92069   \n",
       "738      1615 San Marcos Boulevard,San Marcos,CA,92078    92078   \n",
       "739           3697 La Mirada Drive,San Marcos,CA,92078    92078   \n",
       "740                910 Borden Road,San Marcos,CA,92069    92069   \n",
       "741                    1 Tiger Way,San Marcos,CA,92069    92069   \n",
       "742          650 West Mission Road,San Marcos,CA,92069    92069   \n",
       "743         1270 Rock Springs Road,San Marcos,CA,92069    92069   \n",
       "744            6889 El Fuerte Street,Carlsbad,CA,92009    92009   \n",
       "745            1825 Knob Hill Road,San Marcos,CA,92069    92069   \n",
       "746           660 Camino Magnifico,San Marcos,CA,92069    92069   \n",
       "747           730 Applewilde Drive,San Marcos,CA,92078    92078   \n",
       "748                  1 Cassou Road,San Marcos,CA,92069    92069   \n",
       "749             2875 Poinsettia Lane,Carlsbad,CA,92009    92009   \n",
       "757           30951 Highway 79,Warner Springs,CA,92086    92086   \n",
       "758           30951 Highway 79,Warner Springs,CA,92086    92086   \n",
       "759           30951 Highway 79,Warner Springs,CA,92086    92086   \n",
       "761            30109 Lilac Road,Valley Center,CA,92082    92082   \n",
       "762       31322 Cole Grade Road,Valley Center,CA,92082    92082   \n",
       "763    14172 West Oak Glen Road,Valley Center,CA,92082    92082   \n",
       "764       31322 Cole Grade Road,Valley Center,CA,92082    92082   \n",
       "765     28751-U Cole Grade Road,Valley Center,CA,92082    92082   \n",
       "766        33158 Cole Grade Road,Pauma Valley,CA,92061    92061   \n",
       "767  28102 North Lake Wohlford Road,Valley Center,C...    92082   \n",
       "768        14249 Fruitvale Road,Valley Center,CA,92082    92082   \n",
       "769       28751 Cole Grade Road,Valley Center,CA,92082    92082   \n",
       "779             5050 El Mirlo Drive,Oceanside,CA,92057    92057   \n",
       "780              7350 West Lilac Road,Bonsall,CA,92003    92003   \n",
       "781              31555 Old River Road,Bonsall,CA,92003    92003   \n",
       "782              7350 West Lilac Road,Bonsall,CA,92003    92003   \n",
       "\n",
       "                                      School, District  \n",
       "1    San Pasqual Academy, San Diego County Office o...  \n",
       "2     Davila Day, San Diego County Office of Education  \n",
       "3        Monarch, San Diego County Office of Education  \n",
       "4    San Diego County Community, San Diego County O...  \n",
       "5    San Diego County Court, San Diego County Offic...  \n",
       "14   North Coastal Consortium Schools, San Diego Co...  \n",
       "15   San Diego County Special Education, San Diego ...  \n",
       "17       Joan MacQueen Middle, Alpine Union Elementary  \n",
       "18    Shadow Hills Elementary, Alpine Union Elementary  \n",
       "19    Boulder Oaks Elementary, Alpine Union Elementary  \n",
       "20   Mountain View Learning Academy, Alpine Union E...  \n",
       "21   Creekside Early Learning Center, Alpine Union ...  \n",
       "23       Borrego Springs High, Borrego Springs Unified  \n",
       "24   Borrego Springs Elementary, Borrego Springs Un...  \n",
       "25     Borrego Springs Middle, Borrego Springs Unified  \n",
       "27         Los Coches Creek Middle, Cajon Valley Union  \n",
       "29                         Empower, Cajon Valley Union  \n",
       "31                 Anza Elementary, Cajon Valley Union  \n",
       "32       Bostonia Language Academy, Cajon Valley Union  \n",
       "33             Cajon Valley Middle, Cajon Valley Union  \n",
       "34         Chase Avenue Elementary, Cajon Valley Union  \n",
       "35                Crest Elementary, Cajon Valley Union  \n",
       "36                  Emerald Middle, Cajon Valley Union  \n",
       "37     Flying Hills School of Arts, Cajon Valley Union  \n",
       "38               Fuerte Elementary, Cajon Valley Union  \n",
       "39               Greenfield Middle, Cajon Valley Union  \n",
       "40              Johnson Elementary, Cajon Valley Union  \n",
       "41            Lexington Elementary, Cajon Valley Union  \n",
       "42       Madison Avenue Elementary, Cajon Valley Union  \n",
       "43             Magnolia Elementary, Cajon Valley Union  \n",
       "..                                                 ...  \n",
       "736                 Foothills High, San Marcos Unified  \n",
       "737               San Marcos Adult, San Marcos Unified  \n",
       "738                San Marcos High, San Marcos Unified  \n",
       "739              La Mirada Academy, San Marcos Unified  \n",
       "740            Richland Elementary, San Marcos Unified  \n",
       "741          San Marcos Elementary, San Marcos Unified  \n",
       "742              San Marcos Middle, San Marcos Unified  \n",
       "743           Woodland Park Middle, San Marcos Unified  \n",
       "744    La Costa Meadows Elementary, San Marcos Unified  \n",
       "745           Knob Hill Elementary, San Marcos Unified  \n",
       "746              Paloma Elementary, San Marcos Unified  \n",
       "747           Discovery Elementary, San Marcos Unified  \n",
       "748           Twin Oaks Elementary, San Marcos Unified  \n",
       "749            Carrillo Elementary, San Marcos Unified  \n",
       "757          Warner Junior/Senior High, Warner Unified  \n",
       "758  San Jose Valley Continuation High, Warner Unified  \n",
       "759                  Warner Elementary, Warner Unified  \n",
       "761                 Lilac, Valley Center-Pauma Unified  \n",
       "762    Valley Center High, Valley Center-Pauma Unified  \n",
       "763         Oak Glen High, Valley Center-Pauma Unified  \n",
       "764  Valley Center-Pauma Adult, Valley Center-Pauma...  \n",
       "765    Valley Center Prep, Valley Center-Pauma Unified  \n",
       "766      Pauma Elementary, Valley Center-Pauma Unified  \n",
       "767  Valley Center Middle, Valley Center-Pauma Unified  \n",
       "768  Valley Center Primary, Valley Center-Pauma Uni...  \n",
       "769  Valley Center Elementary, Valley Center-Pauma ...  \n",
       "779           Bonsall West Elementary, Bonsall Unified  \n",
       "780                      Bonsall High, Bonsall Unified  \n",
       "781                Bonsall Elementary, Bonsall Unified  \n",
       "782         Norman L. Sullivan Middle, Bonsall Unified  \n",
       "\n",
       "[634 rows x 12 columns]"
      ]
     },
     "execution_count": 135,
     "metadata": {},
     "output_type": "execute_result"
    }
   ],
   "source": [
    "schools"
   ]
  },
  {
   "attachments": {
    "image.png": {
     "image/png": "[encoded data removed]"
    }
   },
   "cell_type": "markdown",
   "metadata": {},
   "source": [
    "![image.png](attachment:image.png)"
   ]
  },
  {
   "cell_type": "markdown",
   "metadata": {},
   "source": [
    "### Incomes"
   ]
  },
  {
   "cell_type": "code",
   "execution_count": 136,
   "metadata": {},
   "outputs": [],
   "source": [
    "incomes_path = os.path.join('Datasets', 'suave_income.csv')\n",
    "incomes = pd.read_csv(incomes_path, low_memory=False)"
   ]
  },
  {
   "cell_type": "code",
   "execution_count": 137,
   "metadata": {
    "scrolled": true
   },
   "outputs": [],
   "source": [
    "incomes_classes = incomes[[\"ZIP\", \n",
    "         \"Hholds with income Less than $10,000#number\", \n",
    "         'Hholds with income $10,000 to $14,999#number',\n",
    "         'Hholds with income $15,000 to $24,999#number',\n",
    "         'Hholds with income $25,000 to $34,999#number',\n",
    "         'Hholds with income $35,000 to $49,999#number',\n",
    "         'Hholds with income $50,000 to $74,999#number',\n",
    "         'Hholds with income $75,000 to $99,999#number',\n",
    "         'Hholds with income $100,000 to $149,999#number',\n",
    "         'Hholds with income $150,000 to $199,999#number',\n",
    "         'Hholds with income $200,000 or more#number',\n",
    "         'Median family income (dollars)#number',\n",
    "         'Mean family income (dollars)#number',\n",
    "         'Health insurance coverage, % of civilian pop#number',\n",
    "         'No health insurance for civil pop#number',\n",
    "         'No health insurance coverage, %#number',\n",
    "         'Worked at home#number', 'Population 16+yo#number', 'Children of the hh 6-17 yo#number'\n",
    "         ]]\n",
    "incomes_clean = incomes_classes.copy()\n",
    "incomes_clean[\"Households with income $0-34,999\"] = (incomes_classes[\"Hholds with income Less than $10,000#number\"] \n",
    "                                               + incomes_classes[\"Hholds with income $10,000 to $14,999#number\"] \n",
    "                                               + incomes_classes[\"Hholds with income $15,000 to $24,999#number\"] \n",
    "                                               + incomes_classes[\"Hholds with income $25,000 to $34,999#number\"]\n",
    "                                              )\n",
    "incomes_clean[\"Households with income $35,000-99,999\"] = (incomes_classes[\"Hholds with income $35,000 to $49,999#number\"] \n",
    "                                               + incomes_classes[\"Hholds with income $50,000 to $74,999#number\"] \n",
    "                                               + incomes_classes[\"Hholds with income $75,000 to $99,999#number\"] \n",
    "                                              )\n",
    "incomes_clean[\"Households with income $100,000+\"] = (incomes_classes[\"Hholds with income $100,000 to $149,999#number\"] \n",
    "                                               + incomes_classes[\"Hholds with income $150,000 to $199,999#number\"]\n",
    "                                               + incomes_classes[\"Hholds with income $200,000 or more#number\"] \n",
    "                                              ) \n",
    "incomes_clean = incomes_clean.drop([\"Hholds with income Less than $10,000#number\", \n",
    "         'Hholds with income $10,000 to $14,999#number',\n",
    "         'Hholds with income $15,000 to $24,999#number',\n",
    "         'Hholds with income $25,000 to $34,999#number',\n",
    "         'Hholds with income $35,000 to $49,999#number',\n",
    "         'Hholds with income $50,000 to $74,999#number',\n",
    "         'Hholds with income $75,000 to $99,999#number',\n",
    "         'Hholds with income $100,000 to $149,999#number',\n",
    "         'Hholds with income $150,000 to $199,999#number',\n",
    "         'Hholds with income $200,000 or more#number',], axis=1)\n",
    "incomes_clean = incomes_clean.rename(columns={'Median family income (dollars)#number': 'Median family income (dollars)',\n",
    "                                             'Mean family income (dollars)#number' :'Mean family income (dollars)',\n",
    "                                             'Health insurance coverage, % of civilian pop#number':'Health insurance coverage, % of civilian pop',\n",
    "                                             'No health insurance for civil pop#number': 'No health insurance for civilian pop',\n",
    "                                             'No health insurance coverage, %#number': 'No health insurance coverage %',\n",
    "                                             'Worked at home#number': 'Worked at home',\n",
    "                                             'ZIP': 'Zipcode', 'Population 16+yo#number':'Population 16+', \n",
    "                                             'Children of the hh 6-17 yo#number': 'Children of the household 6-17'})\n"
   ]
  },
  {
   "cell_type": "code",
   "execution_count": 138,
   "metadata": {},
   "outputs": [],
   "source": [
    "pop = incomes_clean[[\"Zipcode\", \"Population 16+\"]]"
   ]
  },
  {
   "cell_type": "markdown",
   "metadata": {},
   "source": [
    "### Cleaned Demographics Data"
   ]
  },
  {
   "cell_type": "code",
   "execution_count": 139,
   "metadata": {
    "scrolled": true
   },
   "outputs": [],
   "source": [
    "cleaned_demo_path = os.path.join('Datasets', 'Cleaned_Demographics_Data.csv')\n",
    "cleaned_demo = pd.read_csv(cleaned_demo_path, low_memory=False)\n"
   ]
  },
  {
   "cell_type": "code",
   "execution_count": 140,
   "metadata": {},
   "outputs": [
    {
     "data": {
      "text/html": [
       "<div>\n",
       "<style scoped>\n",
       "    .dataframe tbody tr th:only-of-type {\n",
       "        vertical-align: middle;\n",
       "    }\n",
       "\n",
       "    .dataframe tbody tr th {\n",
       "        vertical-align: top;\n",
       "    }\n",
       "\n",
       "    .dataframe thead th {\n",
       "        text-align: right;\n",
       "    }\n",
       "</style>\n",
       "<table border=\"1\" class=\"dataframe\">\n",
       "  <thead>\n",
       "    <tr style=\"text-align: right;\">\n",
       "      <th></th>\n",
       "      <th>Unnamed: 0</th>\n",
       "      <th>date</th>\n",
       "      <th>age_9</th>\n",
       "      <th>age10_19</th>\n",
       "      <th>age20_29</th>\n",
       "      <th>age30_39</th>\n",
       "      <th>age40_49</th>\n",
       "      <th>age50_59</th>\n",
       "      <th>age60_69</th>\n",
       "      <th>age70_79</th>\n",
       "      <th>age80_plus</th>\n",
       "      <th>ageunknow</th>\n",
       "      <th>genderfemale</th>\n",
       "      <th>gendermale</th>\n",
       "      <th>newtests</th>\n",
       "      <th>newcases</th>\n",
       "      <th>test_positivity_rate</th>\n",
       "    </tr>\n",
       "  </thead>\n",
       "  <tbody>\n",
       "    <tr>\n",
       "      <th>0</th>\n",
       "      <td>14</td>\n",
       "      <td>2020/03/25 08:00:00+00</td>\n",
       "      <td>3</td>\n",
       "      <td>3</td>\n",
       "      <td>66</td>\n",
       "      <td>89</td>\n",
       "      <td>61</td>\n",
       "      <td>53</td>\n",
       "      <td>26</td>\n",
       "      <td>25</td>\n",
       "      <td>14</td>\n",
       "      <td>1</td>\n",
       "      <td>134</td>\n",
       "      <td>207</td>\n",
       "      <td>1087</td>\n",
       "      <td>58</td>\n",
       "      <td>0.053</td>\n",
       "    </tr>\n",
       "    <tr>\n",
       "      <th>1</th>\n",
       "      <td>15</td>\n",
       "      <td>2020/03/26 08:00:00+00</td>\n",
       "      <td>3</td>\n",
       "      <td>4</td>\n",
       "      <td>84</td>\n",
       "      <td>106</td>\n",
       "      <td>73</td>\n",
       "      <td>65</td>\n",
       "      <td>31</td>\n",
       "      <td>29</td>\n",
       "      <td>20</td>\n",
       "      <td>2</td>\n",
       "      <td>166</td>\n",
       "      <td>249</td>\n",
       "      <td>1023</td>\n",
       "      <td>76</td>\n",
       "      <td>0.074</td>\n",
       "    </tr>\n",
       "    <tr>\n",
       "      <th>2</th>\n",
       "      <td>16</td>\n",
       "      <td>2020/03/27 08:00:00+00</td>\n",
       "      <td>3</td>\n",
       "      <td>5</td>\n",
       "      <td>102</td>\n",
       "      <td>118</td>\n",
       "      <td>85</td>\n",
       "      <td>74</td>\n",
       "      <td>36</td>\n",
       "      <td>38</td>\n",
       "      <td>25</td>\n",
       "      <td>2</td>\n",
       "      <td>206</td>\n",
       "      <td>280</td>\n",
       "      <td>776</td>\n",
       "      <td>71</td>\n",
       "      <td>0.091</td>\n",
       "    </tr>\n",
       "    <tr>\n",
       "      <th>3</th>\n",
       "      <td>17</td>\n",
       "      <td>2020/03/28 08:00:00+00</td>\n",
       "      <td>4</td>\n",
       "      <td>6</td>\n",
       "      <td>107</td>\n",
       "      <td>130</td>\n",
       "      <td>90</td>\n",
       "      <td>79</td>\n",
       "      <td>37</td>\n",
       "      <td>39</td>\n",
       "      <td>26</td>\n",
       "      <td>1</td>\n",
       "      <td>219</td>\n",
       "      <td>298</td>\n",
       "      <td>1275</td>\n",
       "      <td>31</td>\n",
       "      <td>0.024</td>\n",
       "    </tr>\n",
       "    <tr>\n",
       "      <th>4</th>\n",
       "      <td>18</td>\n",
       "      <td>2020/03/29 08:00:00+00</td>\n",
       "      <td>4</td>\n",
       "      <td>6</td>\n",
       "      <td>121</td>\n",
       "      <td>148</td>\n",
       "      <td>105</td>\n",
       "      <td>91</td>\n",
       "      <td>52</td>\n",
       "      <td>45</td>\n",
       "      <td>29</td>\n",
       "      <td>2</td>\n",
       "      <td>256</td>\n",
       "      <td>345</td>\n",
       "      <td>687</td>\n",
       "      <td>84</td>\n",
       "      <td>0.122</td>\n",
       "    </tr>\n",
       "    <tr>\n",
       "      <th>5</th>\n",
       "      <td>19</td>\n",
       "      <td>2020/03/30 08:00:00+00</td>\n",
       "      <td>5</td>\n",
       "      <td>7</td>\n",
       "      <td>144</td>\n",
       "      <td>174</td>\n",
       "      <td>130</td>\n",
       "      <td>116</td>\n",
       "      <td>74</td>\n",
       "      <td>49</td>\n",
       "      <td>34</td>\n",
       "      <td>1</td>\n",
       "      <td>317</td>\n",
       "      <td>414</td>\n",
       "      <td>1538</td>\n",
       "      <td>131</td>\n",
       "      <td>0.085</td>\n",
       "    </tr>\n",
       "    <tr>\n",
       "      <th>6</th>\n",
       "      <td>20</td>\n",
       "      <td>2020/03/31 08:00:00+00</td>\n",
       "      <td>6</td>\n",
       "      <td>8</td>\n",
       "      <td>163</td>\n",
       "      <td>194</td>\n",
       "      <td>154</td>\n",
       "      <td>125</td>\n",
       "      <td>93</td>\n",
       "      <td>62</td>\n",
       "      <td>41</td>\n",
       "      <td>3</td>\n",
       "      <td>380</td>\n",
       "      <td>461</td>\n",
       "      <td>989</td>\n",
       "      <td>115</td>\n",
       "      <td>0.116</td>\n",
       "    </tr>\n",
       "    <tr>\n",
       "      <th>7</th>\n",
       "      <td>21</td>\n",
       "      <td>2020/04/01 08:00:00+00</td>\n",
       "      <td>8</td>\n",
       "      <td>9</td>\n",
       "      <td>187</td>\n",
       "      <td>216</td>\n",
       "      <td>170</td>\n",
       "      <td>149</td>\n",
       "      <td>108</td>\n",
       "      <td>71</td>\n",
       "      <td>45</td>\n",
       "      <td>3</td>\n",
       "      <td>439</td>\n",
       "      <td>514</td>\n",
       "      <td>2606</td>\n",
       "      <td>117</td>\n",
       "      <td>0.045</td>\n",
       "    </tr>\n",
       "    <tr>\n",
       "      <th>8</th>\n",
       "      <td>22</td>\n",
       "      <td>2020/04/02 08:00:00+00</td>\n",
       "      <td>10</td>\n",
       "      <td>12</td>\n",
       "      <td>198</td>\n",
       "      <td>238</td>\n",
       "      <td>192</td>\n",
       "      <td>177</td>\n",
       "      <td>136</td>\n",
       "      <td>88</td>\n",
       "      <td>55</td>\n",
       "      <td>6</td>\n",
       "      <td>519</td>\n",
       "      <td>585</td>\n",
       "      <td>1882</td>\n",
       "      <td>146</td>\n",
       "      <td>0.078</td>\n",
       "    </tr>\n",
       "    <tr>\n",
       "      <th>9</th>\n",
       "      <td>23</td>\n",
       "      <td>2020/04/03 08:00:00+00</td>\n",
       "      <td>10</td>\n",
       "      <td>14</td>\n",
       "      <td>209</td>\n",
       "      <td>251</td>\n",
       "      <td>212</td>\n",
       "      <td>202</td>\n",
       "      <td>152</td>\n",
       "      <td>91</td>\n",
       "      <td>64</td>\n",
       "      <td>4</td>\n",
       "      <td>570</td>\n",
       "      <td>630</td>\n",
       "      <td>1025</td>\n",
       "      <td>97</td>\n",
       "      <td>0.095</td>\n",
       "    </tr>\n",
       "    <tr>\n",
       "      <th>10</th>\n",
       "      <td>24</td>\n",
       "      <td>2020/04/04 08:00:00+00</td>\n",
       "      <td>10</td>\n",
       "      <td>15</td>\n",
       "      <td>226</td>\n",
       "      <td>286</td>\n",
       "      <td>237</td>\n",
       "      <td>222</td>\n",
       "      <td>162</td>\n",
       "      <td>99</td>\n",
       "      <td>66</td>\n",
       "      <td>3</td>\n",
       "      <td>609</td>\n",
       "      <td>710</td>\n",
       "      <td>807</td>\n",
       "      <td>117</td>\n",
       "      <td>0.145</td>\n",
       "    </tr>\n",
       "    <tr>\n",
       "      <th>11</th>\n",
       "      <td>25</td>\n",
       "      <td>2020/04/05 08:00:00+00</td>\n",
       "      <td>10</td>\n",
       "      <td>15</td>\n",
       "      <td>235</td>\n",
       "      <td>300</td>\n",
       "      <td>254</td>\n",
       "      <td>235</td>\n",
       "      <td>172</td>\n",
       "      <td>109</td>\n",
       "      <td>71</td>\n",
       "      <td>3</td>\n",
       "      <td>657</td>\n",
       "      <td>739</td>\n",
       "      <td>827</td>\n",
       "      <td>78</td>\n",
       "      <td>0.094</td>\n",
       "    </tr>\n",
       "    <tr>\n",
       "      <th>12</th>\n",
       "      <td>26</td>\n",
       "      <td>2020/04/06 08:00:00+00</td>\n",
       "      <td>10</td>\n",
       "      <td>16</td>\n",
       "      <td>240</td>\n",
       "      <td>288</td>\n",
       "      <td>259</td>\n",
       "      <td>255</td>\n",
       "      <td>190</td>\n",
       "      <td>115</td>\n",
       "      <td>79</td>\n",
       "      <td>2</td>\n",
       "      <td>701</td>\n",
       "      <td>747</td>\n",
       "      <td>1846</td>\n",
       "      <td>50</td>\n",
       "      <td>0.027</td>\n",
       "    </tr>\n",
       "    <tr>\n",
       "      <th>13</th>\n",
       "      <td>27</td>\n",
       "      <td>2020/04/07 08:00:00+00</td>\n",
       "      <td>10</td>\n",
       "      <td>16</td>\n",
       "      <td>244</td>\n",
       "      <td>301</td>\n",
       "      <td>268</td>\n",
       "      <td>278</td>\n",
       "      <td>201</td>\n",
       "      <td>123</td>\n",
       "      <td>86</td>\n",
       "      <td>3</td>\n",
       "      <td>737</td>\n",
       "      <td>785</td>\n",
       "      <td>842</td>\n",
       "      <td>76</td>\n",
       "      <td>0.090</td>\n",
       "    </tr>\n",
       "    <tr>\n",
       "      <th>14</th>\n",
       "      <td>32</td>\n",
       "      <td>2020/04/08 08:00:00+00</td>\n",
       "      <td>10</td>\n",
       "      <td>20</td>\n",
       "      <td>255</td>\n",
       "      <td>320</td>\n",
       "      <td>283</td>\n",
       "      <td>293</td>\n",
       "      <td>224</td>\n",
       "      <td>131</td>\n",
       "      <td>90</td>\n",
       "      <td>2</td>\n",
       "      <td>790</td>\n",
       "      <td>832</td>\n",
       "      <td>920</td>\n",
       "      <td>98</td>\n",
       "      <td>0.107</td>\n",
       "    </tr>\n",
       "    <tr>\n",
       "      <th>15</th>\n",
       "      <td>33</td>\n",
       "      <td>2020/04/09 08:00:00+00</td>\n",
       "      <td>10</td>\n",
       "      <td>21</td>\n",
       "      <td>264</td>\n",
       "      <td>335</td>\n",
       "      <td>292</td>\n",
       "      <td>305</td>\n",
       "      <td>235</td>\n",
       "      <td>137</td>\n",
       "      <td>92</td>\n",
       "      <td>2</td>\n",
       "      <td>821</td>\n",
       "      <td>867</td>\n",
       "      <td>1255</td>\n",
       "      <td>65</td>\n",
       "      <td>0.052</td>\n",
       "    </tr>\n",
       "    <tr>\n",
       "      <th>16</th>\n",
       "      <td>34</td>\n",
       "      <td>2020/04/10 08:00:00+00</td>\n",
       "      <td>10</td>\n",
       "      <td>22</td>\n",
       "      <td>270</td>\n",
       "      <td>343</td>\n",
       "      <td>304</td>\n",
       "      <td>318</td>\n",
       "      <td>245</td>\n",
       "      <td>143</td>\n",
       "      <td>104</td>\n",
       "      <td>2</td>\n",
       "      <td>853</td>\n",
       "      <td>902</td>\n",
       "      <td>1077</td>\n",
       "      <td>68</td>\n",
       "      <td>0.063</td>\n",
       "    </tr>\n",
       "    <tr>\n",
       "      <th>17</th>\n",
       "      <td>35</td>\n",
       "      <td>2020/04/11 08:00:00+00</td>\n",
       "      <td>10</td>\n",
       "      <td>22</td>\n",
       "      <td>273</td>\n",
       "      <td>352</td>\n",
       "      <td>312</td>\n",
       "      <td>328</td>\n",
       "      <td>250</td>\n",
       "      <td>145</td>\n",
       "      <td>109</td>\n",
       "      <td>3</td>\n",
       "      <td>877</td>\n",
       "      <td>922</td>\n",
       "      <td>804</td>\n",
       "      <td>43</td>\n",
       "      <td>0.053</td>\n",
       "    </tr>\n",
       "    <tr>\n",
       "      <th>18</th>\n",
       "      <td>36</td>\n",
       "      <td>2020/04/12 08:00:00+00</td>\n",
       "      <td>11</td>\n",
       "      <td>23</td>\n",
       "      <td>279</td>\n",
       "      <td>359</td>\n",
       "      <td>320</td>\n",
       "      <td>338</td>\n",
       "      <td>255</td>\n",
       "      <td>146</td>\n",
       "      <td>113</td>\n",
       "      <td>3</td>\n",
       "      <td>905</td>\n",
       "      <td>937</td>\n",
       "      <td>898</td>\n",
       "      <td>43</td>\n",
       "      <td>0.048</td>\n",
       "    </tr>\n",
       "    <tr>\n",
       "      <th>19</th>\n",
       "      <td>37</td>\n",
       "      <td>2020/04/13 08:00:00+00</td>\n",
       "      <td>12</td>\n",
       "      <td>24</td>\n",
       "      <td>292</td>\n",
       "      <td>367</td>\n",
       "      <td>339</td>\n",
       "      <td>352</td>\n",
       "      <td>265</td>\n",
       "      <td>155</td>\n",
       "      <td>121</td>\n",
       "      <td>3</td>\n",
       "      <td>954</td>\n",
       "      <td>971</td>\n",
       "      <td>919</td>\n",
       "      <td>83</td>\n",
       "      <td>0.090</td>\n",
       "    </tr>\n",
       "    <tr>\n",
       "      <th>20</th>\n",
       "      <td>38</td>\n",
       "      <td>2020/04/14 08:00:00+00</td>\n",
       "      <td>12</td>\n",
       "      <td>32</td>\n",
       "      <td>308</td>\n",
       "      <td>381</td>\n",
       "      <td>350</td>\n",
       "      <td>367</td>\n",
       "      <td>275</td>\n",
       "      <td>160</td>\n",
       "      <td>124</td>\n",
       "      <td>3</td>\n",
       "      <td>989</td>\n",
       "      <td>1017</td>\n",
       "      <td>836</td>\n",
       "      <td>82</td>\n",
       "      <td>0.098</td>\n",
       "    </tr>\n",
       "    <tr>\n",
       "      <th>21</th>\n",
       "      <td>39</td>\n",
       "      <td>2020/04/15 08:00:00+00</td>\n",
       "      <td>12</td>\n",
       "      <td>34</td>\n",
       "      <td>316</td>\n",
       "      <td>399</td>\n",
       "      <td>362</td>\n",
       "      <td>383</td>\n",
       "      <td>286</td>\n",
       "      <td>163</td>\n",
       "      <td>129</td>\n",
       "      <td>3</td>\n",
       "      <td>1034</td>\n",
       "      <td>1047</td>\n",
       "      <td>1248</td>\n",
       "      <td>75</td>\n",
       "      <td>0.060</td>\n",
       "    </tr>\n",
       "    <tr>\n",
       "      <th>22</th>\n",
       "      <td>40</td>\n",
       "      <td>2020/04/16 08:00:00+00</td>\n",
       "      <td>13</td>\n",
       "      <td>35</td>\n",
       "      <td>327</td>\n",
       "      <td>408</td>\n",
       "      <td>373</td>\n",
       "      <td>404</td>\n",
       "      <td>297</td>\n",
       "      <td>166</td>\n",
       "      <td>131</td>\n",
       "      <td>4</td>\n",
       "      <td>1073</td>\n",
       "      <td>1081</td>\n",
       "      <td>1114</td>\n",
       "      <td>71</td>\n",
       "      <td>0.064</td>\n",
       "    </tr>\n",
       "    <tr>\n",
       "      <th>23</th>\n",
       "      <td>41</td>\n",
       "      <td>2020/04/17 08:00:00+00</td>\n",
       "      <td>16</td>\n",
       "      <td>38</td>\n",
       "      <td>340</td>\n",
       "      <td>412</td>\n",
       "      <td>381</td>\n",
       "      <td>418</td>\n",
       "      <td>302</td>\n",
       "      <td>167</td>\n",
       "      <td>135</td>\n",
       "      <td>4</td>\n",
       "      <td>1099</td>\n",
       "      <td>1110</td>\n",
       "      <td>1393</td>\n",
       "      <td>55</td>\n",
       "      <td>0.039</td>\n",
       "    </tr>\n",
       "    <tr>\n",
       "      <th>24</th>\n",
       "      <td>42</td>\n",
       "      <td>2020/04/18 08:00:00+00</td>\n",
       "      <td>17</td>\n",
       "      <td>39</td>\n",
       "      <td>344</td>\n",
       "      <td>423</td>\n",
       "      <td>389</td>\n",
       "      <td>429</td>\n",
       "      <td>312</td>\n",
       "      <td>173</td>\n",
       "      <td>138</td>\n",
       "      <td>4</td>\n",
       "      <td>1124</td>\n",
       "      <td>1140</td>\n",
       "      <td>955</td>\n",
       "      <td>55</td>\n",
       "      <td>0.058</td>\n",
       "    </tr>\n",
       "    <tr>\n",
       "      <th>25</th>\n",
       "      <td>43</td>\n",
       "      <td>2020/04/19 08:00:00+00</td>\n",
       "      <td>17</td>\n",
       "      <td>43</td>\n",
       "      <td>354</td>\n",
       "      <td>431</td>\n",
       "      <td>398</td>\n",
       "      <td>438</td>\n",
       "      <td>318</td>\n",
       "      <td>178</td>\n",
       "      <td>144</td>\n",
       "      <td>4</td>\n",
       "      <td>1149</td>\n",
       "      <td>1172</td>\n",
       "      <td>1310</td>\n",
       "      <td>57</td>\n",
       "      <td>0.044</td>\n",
       "    </tr>\n",
       "    <tr>\n",
       "      <th>26</th>\n",
       "      <td>44</td>\n",
       "      <td>2020/04/20 08:00:00+00</td>\n",
       "      <td>18</td>\n",
       "      <td>46</td>\n",
       "      <td>370</td>\n",
       "      <td>451</td>\n",
       "      <td>420</td>\n",
       "      <td>459</td>\n",
       "      <td>329</td>\n",
       "      <td>186</td>\n",
       "      <td>151</td>\n",
       "      <td>4</td>\n",
       "      <td>1185</td>\n",
       "      <td>1243</td>\n",
       "      <td>1016</td>\n",
       "      <td>109</td>\n",
       "      <td>0.107</td>\n",
       "    </tr>\n",
       "    <tr>\n",
       "      <th>27</th>\n",
       "      <td>45</td>\n",
       "      <td>2020/04/21 08:00:00+00</td>\n",
       "      <td>19</td>\n",
       "      <td>47</td>\n",
       "      <td>378</td>\n",
       "      <td>464</td>\n",
       "      <td>427</td>\n",
       "      <td>473</td>\n",
       "      <td>334</td>\n",
       "      <td>191</td>\n",
       "      <td>154</td>\n",
       "      <td>4</td>\n",
       "      <td>1214</td>\n",
       "      <td>1271</td>\n",
       "      <td>1514</td>\n",
       "      <td>57</td>\n",
       "      <td>0.038</td>\n",
       "    </tr>\n",
       "    <tr>\n",
       "      <th>28</th>\n",
       "      <td>46</td>\n",
       "      <td>2020/04/22 08:00:00+00</td>\n",
       "      <td>21</td>\n",
       "      <td>51</td>\n",
       "      <td>398</td>\n",
       "      <td>488</td>\n",
       "      <td>452</td>\n",
       "      <td>506</td>\n",
       "      <td>344</td>\n",
       "      <td>200</td>\n",
       "      <td>179</td>\n",
       "      <td>4</td>\n",
       "      <td>1284</td>\n",
       "      <td>1355</td>\n",
       "      <td>2255</td>\n",
       "      <td>152</td>\n",
       "      <td>0.067</td>\n",
       "    </tr>\n",
       "    <tr>\n",
       "      <th>29</th>\n",
       "      <td>47</td>\n",
       "      <td>2020/04/23 08:00:00+00</td>\n",
       "      <td>22</td>\n",
       "      <td>52</td>\n",
       "      <td>422</td>\n",
       "      <td>527</td>\n",
       "      <td>496</td>\n",
       "      <td>545</td>\n",
       "      <td>364</td>\n",
       "      <td>210</td>\n",
       "      <td>185</td>\n",
       "      <td>3</td>\n",
       "      <td>1377</td>\n",
       "      <td>1445</td>\n",
       "      <td>3122</td>\n",
       "      <td>183</td>\n",
       "      <td>0.059</td>\n",
       "    </tr>\n",
       "    <tr>\n",
       "      <th>...</th>\n",
       "      <td>...</td>\n",
       "      <td>...</td>\n",
       "      <td>...</td>\n",
       "      <td>...</td>\n",
       "      <td>...</td>\n",
       "      <td>...</td>\n",
       "      <td>...</td>\n",
       "      <td>...</td>\n",
       "      <td>...</td>\n",
       "      <td>...</td>\n",
       "      <td>...</td>\n",
       "      <td>...</td>\n",
       "      <td>...</td>\n",
       "      <td>...</td>\n",
       "      <td>...</td>\n",
       "      <td>...</td>\n",
       "      <td>...</td>\n",
       "    </tr>\n",
       "    <tr>\n",
       "      <th>141</th>\n",
       "      <td>159</td>\n",
       "      <td>2020/08/13 08:00:00+00</td>\n",
       "      <td>1080</td>\n",
       "      <td>2741</td>\n",
       "      <td>8672</td>\n",
       "      <td>6440</td>\n",
       "      <td>4933</td>\n",
       "      <td>4765</td>\n",
       "      <td>2871</td>\n",
       "      <td>1384</td>\n",
       "      <td>1148</td>\n",
       "      <td>31</td>\n",
       "      <td>17492</td>\n",
       "      <td>16471</td>\n",
       "      <td>9508</td>\n",
       "      <td>406</td>\n",
       "      <td>0.043</td>\n",
       "    </tr>\n",
       "    <tr>\n",
       "      <th>142</th>\n",
       "      <td>160</td>\n",
       "      <td>2020/08/14 08:00:00+00</td>\n",
       "      <td>1088</td>\n",
       "      <td>2759</td>\n",
       "      <td>8730</td>\n",
       "      <td>6492</td>\n",
       "      <td>4985</td>\n",
       "      <td>4814</td>\n",
       "      <td>2898</td>\n",
       "      <td>1391</td>\n",
       "      <td>1154</td>\n",
       "      <td>33</td>\n",
       "      <td>17627</td>\n",
       "      <td>16614</td>\n",
       "      <td>11268</td>\n",
       "      <td>279</td>\n",
       "      <td>0.025</td>\n",
       "    </tr>\n",
       "    <tr>\n",
       "      <th>143</th>\n",
       "      <td>161</td>\n",
       "      <td>2020/08/15 08:00:00+00</td>\n",
       "      <td>1107</td>\n",
       "      <td>2786</td>\n",
       "      <td>8828</td>\n",
       "      <td>6550</td>\n",
       "      <td>5026</td>\n",
       "      <td>4862</td>\n",
       "      <td>2923</td>\n",
       "      <td>1402</td>\n",
       "      <td>1162</td>\n",
       "      <td>32</td>\n",
       "      <td>17811</td>\n",
       "      <td>16758</td>\n",
       "      <td>7047</td>\n",
       "      <td>334</td>\n",
       "      <td>0.047</td>\n",
       "    </tr>\n",
       "    <tr>\n",
       "      <th>144</th>\n",
       "      <td>162</td>\n",
       "      <td>2020/08/16 08:00:00+00</td>\n",
       "      <td>1121</td>\n",
       "      <td>2809</td>\n",
       "      <td>8902</td>\n",
       "      <td>6602</td>\n",
       "      <td>5070</td>\n",
       "      <td>4897</td>\n",
       "      <td>2948</td>\n",
       "      <td>1411</td>\n",
       "      <td>1166</td>\n",
       "      <td>34</td>\n",
       "      <td>17956</td>\n",
       "      <td>16891</td>\n",
       "      <td>6377</td>\n",
       "      <td>282</td>\n",
       "      <td>0.044</td>\n",
       "    </tr>\n",
       "    <tr>\n",
       "      <th>145</th>\n",
       "      <td>163</td>\n",
       "      <td>2020/08/17 08:00:00+00</td>\n",
       "      <td>1128</td>\n",
       "      <td>2827</td>\n",
       "      <td>8948</td>\n",
       "      <td>6643</td>\n",
       "      <td>5101</td>\n",
       "      <td>4935</td>\n",
       "      <td>2962</td>\n",
       "      <td>1412</td>\n",
       "      <td>1172</td>\n",
       "      <td>34</td>\n",
       "      <td>18056</td>\n",
       "      <td>16996</td>\n",
       "      <td>5584</td>\n",
       "      <td>202</td>\n",
       "      <td>0.036</td>\n",
       "    </tr>\n",
       "    <tr>\n",
       "      <th>146</th>\n",
       "      <td>164</td>\n",
       "      <td>2020/08/18 08:00:00+00</td>\n",
       "      <td>1142</td>\n",
       "      <td>2850</td>\n",
       "      <td>8994</td>\n",
       "      <td>6681</td>\n",
       "      <td>5130</td>\n",
       "      <td>4964</td>\n",
       "      <td>2979</td>\n",
       "      <td>1422</td>\n",
       "      <td>1181</td>\n",
       "      <td>33</td>\n",
       "      <td>18156</td>\n",
       "      <td>17112</td>\n",
       "      <td>6781</td>\n",
       "      <td>214</td>\n",
       "      <td>0.032</td>\n",
       "    </tr>\n",
       "    <tr>\n",
       "      <th>147</th>\n",
       "      <td>165</td>\n",
       "      <td>2020/08/19 08:00:00+00</td>\n",
       "      <td>1147</td>\n",
       "      <td>2876</td>\n",
       "      <td>9051</td>\n",
       "      <td>6713</td>\n",
       "      <td>5174</td>\n",
       "      <td>5001</td>\n",
       "      <td>2993</td>\n",
       "      <td>1431</td>\n",
       "      <td>1189</td>\n",
       "      <td>33</td>\n",
       "      <td>18276</td>\n",
       "      <td>17225</td>\n",
       "      <td>9865</td>\n",
       "      <td>232</td>\n",
       "      <td>0.024</td>\n",
       "    </tr>\n",
       "    <tr>\n",
       "      <th>148</th>\n",
       "      <td>166</td>\n",
       "      <td>2020/08/20 08:00:00+00</td>\n",
       "      <td>1163</td>\n",
       "      <td>2891</td>\n",
       "      <td>9118</td>\n",
       "      <td>6777</td>\n",
       "      <td>5222</td>\n",
       "      <td>5050</td>\n",
       "      <td>3023</td>\n",
       "      <td>1440</td>\n",
       "      <td>1197</td>\n",
       "      <td>31</td>\n",
       "      <td>18429</td>\n",
       "      <td>17378</td>\n",
       "      <td>6567</td>\n",
       "      <td>304</td>\n",
       "      <td>0.046</td>\n",
       "    </tr>\n",
       "    <tr>\n",
       "      <th>149</th>\n",
       "      <td>167</td>\n",
       "      <td>2020/08/21 08:00:00+00</td>\n",
       "      <td>1171</td>\n",
       "      <td>2909</td>\n",
       "      <td>9199</td>\n",
       "      <td>6828</td>\n",
       "      <td>5270</td>\n",
       "      <td>5086</td>\n",
       "      <td>3055</td>\n",
       "      <td>1447</td>\n",
       "      <td>1207</td>\n",
       "      <td>31</td>\n",
       "      <td>18581</td>\n",
       "      <td>17515</td>\n",
       "      <td>8824</td>\n",
       "      <td>291</td>\n",
       "      <td>0.033</td>\n",
       "    </tr>\n",
       "    <tr>\n",
       "      <th>150</th>\n",
       "      <td>168</td>\n",
       "      <td>2020/08/22 08:00:00+00</td>\n",
       "      <td>1186</td>\n",
       "      <td>2939</td>\n",
       "      <td>9294</td>\n",
       "      <td>6878</td>\n",
       "      <td>5309</td>\n",
       "      <td>5138</td>\n",
       "      <td>3082</td>\n",
       "      <td>1462</td>\n",
       "      <td>1221</td>\n",
       "      <td>31</td>\n",
       "      <td>18760</td>\n",
       "      <td>17673</td>\n",
       "      <td>6783</td>\n",
       "      <td>337</td>\n",
       "      <td>0.050</td>\n",
       "    </tr>\n",
       "    <tr>\n",
       "      <th>151</th>\n",
       "      <td>169</td>\n",
       "      <td>2020/08/23 08:00:00+00</td>\n",
       "      <td>1195</td>\n",
       "      <td>2963</td>\n",
       "      <td>9350</td>\n",
       "      <td>6914</td>\n",
       "      <td>5331</td>\n",
       "      <td>5153</td>\n",
       "      <td>3097</td>\n",
       "      <td>1468</td>\n",
       "      <td>1222</td>\n",
       "      <td>34</td>\n",
       "      <td>18854</td>\n",
       "      <td>17766</td>\n",
       "      <td>7351</td>\n",
       "      <td>187</td>\n",
       "      <td>0.025</td>\n",
       "    </tr>\n",
       "    <tr>\n",
       "      <th>152</th>\n",
       "      <td>170</td>\n",
       "      <td>2020/08/24 08:00:00+00</td>\n",
       "      <td>1203</td>\n",
       "      <td>2983</td>\n",
       "      <td>9405</td>\n",
       "      <td>6974</td>\n",
       "      <td>5376</td>\n",
       "      <td>5184</td>\n",
       "      <td>3130</td>\n",
       "      <td>1482</td>\n",
       "      <td>1224</td>\n",
       "      <td>33</td>\n",
       "      <td>19001</td>\n",
       "      <td>17890</td>\n",
       "      <td>5534</td>\n",
       "      <td>267</td>\n",
       "      <td>0.048</td>\n",
       "    </tr>\n",
       "    <tr>\n",
       "      <th>153</th>\n",
       "      <td>171</td>\n",
       "      <td>2020/08/25 08:00:00+00</td>\n",
       "      <td>1212</td>\n",
       "      <td>3004</td>\n",
       "      <td>9459</td>\n",
       "      <td>7012</td>\n",
       "      <td>5408</td>\n",
       "      <td>5216</td>\n",
       "      <td>3146</td>\n",
       "      <td>1498</td>\n",
       "      <td>1234</td>\n",
       "      <td>33</td>\n",
       "      <td>19134</td>\n",
       "      <td>17986</td>\n",
       "      <td>8327</td>\n",
       "      <td>228</td>\n",
       "      <td>0.027</td>\n",
       "    </tr>\n",
       "    <tr>\n",
       "      <th>154</th>\n",
       "      <td>172</td>\n",
       "      <td>2020/08/26 08:00:00+00</td>\n",
       "      <td>1226</td>\n",
       "      <td>3035</td>\n",
       "      <td>9535</td>\n",
       "      <td>7063</td>\n",
       "      <td>5450</td>\n",
       "      <td>5248</td>\n",
       "      <td>3165</td>\n",
       "      <td>1505</td>\n",
       "      <td>1243</td>\n",
       "      <td>29</td>\n",
       "      <td>19283</td>\n",
       "      <td>18114</td>\n",
       "      <td>5235</td>\n",
       "      <td>277</td>\n",
       "      <td>0.053</td>\n",
       "    </tr>\n",
       "    <tr>\n",
       "      <th>155</th>\n",
       "      <td>173</td>\n",
       "      <td>2020/08/27 08:00:00+00</td>\n",
       "      <td>1243</td>\n",
       "      <td>3068</td>\n",
       "      <td>9602</td>\n",
       "      <td>7110</td>\n",
       "      <td>5484</td>\n",
       "      <td>5290</td>\n",
       "      <td>3185</td>\n",
       "      <td>1517</td>\n",
       "      <td>1254</td>\n",
       "      <td>31</td>\n",
       "      <td>19408</td>\n",
       "      <td>18271</td>\n",
       "      <td>8821</td>\n",
       "      <td>285</td>\n",
       "      <td>0.032</td>\n",
       "    </tr>\n",
       "    <tr>\n",
       "      <th>156</th>\n",
       "      <td>174</td>\n",
       "      <td>2020/08/28 08:00:00+00</td>\n",
       "      <td>1261</td>\n",
       "      <td>3091</td>\n",
       "      <td>9666</td>\n",
       "      <td>7158</td>\n",
       "      <td>5518</td>\n",
       "      <td>5320</td>\n",
       "      <td>3211</td>\n",
       "      <td>1526</td>\n",
       "      <td>1265</td>\n",
       "      <td>31</td>\n",
       "      <td>19542</td>\n",
       "      <td>18405</td>\n",
       "      <td>6796</td>\n",
       "      <td>263</td>\n",
       "      <td>0.039</td>\n",
       "    </tr>\n",
       "    <tr>\n",
       "      <th>157</th>\n",
       "      <td>175</td>\n",
       "      <td>2020/08/29 08:00:00+00</td>\n",
       "      <td>1272</td>\n",
       "      <td>3114</td>\n",
       "      <td>9717</td>\n",
       "      <td>7211</td>\n",
       "      <td>5557</td>\n",
       "      <td>5360</td>\n",
       "      <td>3232</td>\n",
       "      <td>1536</td>\n",
       "      <td>1270</td>\n",
       "      <td>31</td>\n",
       "      <td>19656</td>\n",
       "      <td>18542</td>\n",
       "      <td>5360</td>\n",
       "      <td>253</td>\n",
       "      <td>0.047</td>\n",
       "    </tr>\n",
       "    <tr>\n",
       "      <th>158</th>\n",
       "      <td>176</td>\n",
       "      <td>2020/08/30 08:00:00+00</td>\n",
       "      <td>1283</td>\n",
       "      <td>3147</td>\n",
       "      <td>9795</td>\n",
       "      <td>7260</td>\n",
       "      <td>5608</td>\n",
       "      <td>5406</td>\n",
       "      <td>3254</td>\n",
       "      <td>1544</td>\n",
       "      <td>1276</td>\n",
       "      <td>31</td>\n",
       "      <td>19814</td>\n",
       "      <td>18686</td>\n",
       "      <td>5731</td>\n",
       "      <td>304</td>\n",
       "      <td>0.053</td>\n",
       "    </tr>\n",
       "    <tr>\n",
       "      <th>159</th>\n",
       "      <td>177</td>\n",
       "      <td>2020/08/31 08:00:00+00</td>\n",
       "      <td>1287</td>\n",
       "      <td>3180</td>\n",
       "      <td>9855</td>\n",
       "      <td>7306</td>\n",
       "      <td>5653</td>\n",
       "      <td>5434</td>\n",
       "      <td>3276</td>\n",
       "      <td>1556</td>\n",
       "      <td>1290</td>\n",
       "      <td>34</td>\n",
       "      <td>19950</td>\n",
       "      <td>18819</td>\n",
       "      <td>6986</td>\n",
       "      <td>267</td>\n",
       "      <td>0.038</td>\n",
       "    </tr>\n",
       "    <tr>\n",
       "      <th>160</th>\n",
       "      <td>178</td>\n",
       "      <td>2020/09/01 08:00:00+00</td>\n",
       "      <td>1294</td>\n",
       "      <td>3237</td>\n",
       "      <td>9909</td>\n",
       "      <td>7339</td>\n",
       "      <td>5690</td>\n",
       "      <td>5471</td>\n",
       "      <td>3289</td>\n",
       "      <td>1563</td>\n",
       "      <td>1296</td>\n",
       "      <td>33</td>\n",
       "      <td>20095</td>\n",
       "      <td>18922</td>\n",
       "      <td>7606</td>\n",
       "      <td>250</td>\n",
       "      <td>0.033</td>\n",
       "    </tr>\n",
       "    <tr>\n",
       "      <th>161</th>\n",
       "      <td>179</td>\n",
       "      <td>2020/09/02 08:00:00+00</td>\n",
       "      <td>1305</td>\n",
       "      <td>3309</td>\n",
       "      <td>9988</td>\n",
       "      <td>7380</td>\n",
       "      <td>5731</td>\n",
       "      <td>5509</td>\n",
       "      <td>3309</td>\n",
       "      <td>1573</td>\n",
       "      <td>1311</td>\n",
       "      <td>31</td>\n",
       "      <td>20261</td>\n",
       "      <td>19086</td>\n",
       "      <td>9031</td>\n",
       "      <td>325</td>\n",
       "      <td>0.036</td>\n",
       "    </tr>\n",
       "    <tr>\n",
       "      <th>162</th>\n",
       "      <td>180</td>\n",
       "      <td>2020/09/03 08:00:00+00</td>\n",
       "      <td>1320</td>\n",
       "      <td>3412</td>\n",
       "      <td>10117</td>\n",
       "      <td>7435</td>\n",
       "      <td>5788</td>\n",
       "      <td>5555</td>\n",
       "      <td>3334</td>\n",
       "      <td>1589</td>\n",
       "      <td>1317</td>\n",
       "      <td>32</td>\n",
       "      <td>20479</td>\n",
       "      <td>19312</td>\n",
       "      <td>7554</td>\n",
       "      <td>453</td>\n",
       "      <td>0.060</td>\n",
       "    </tr>\n",
       "    <tr>\n",
       "      <th>163</th>\n",
       "      <td>181</td>\n",
       "      <td>2020/09/04 08:00:00+00</td>\n",
       "      <td>1331</td>\n",
       "      <td>3511</td>\n",
       "      <td>10224</td>\n",
       "      <td>7501</td>\n",
       "      <td>5847</td>\n",
       "      <td>5611</td>\n",
       "      <td>3359</td>\n",
       "      <td>1605</td>\n",
       "      <td>1321</td>\n",
       "      <td>32</td>\n",
       "      <td>20684</td>\n",
       "      <td>19549</td>\n",
       "      <td>7445</td>\n",
       "      <td>443</td>\n",
       "      <td>0.060</td>\n",
       "    </tr>\n",
       "    <tr>\n",
       "      <th>164</th>\n",
       "      <td>182</td>\n",
       "      <td>2020/09/05 08:00:00+00</td>\n",
       "      <td>1339</td>\n",
       "      <td>3594</td>\n",
       "      <td>10321</td>\n",
       "      <td>7543</td>\n",
       "      <td>5873</td>\n",
       "      <td>5641</td>\n",
       "      <td>3372</td>\n",
       "      <td>1611</td>\n",
       "      <td>1324</td>\n",
       "      <td>32</td>\n",
       "      <td>20858</td>\n",
       "      <td>19680</td>\n",
       "      <td>4271</td>\n",
       "      <td>308</td>\n",
       "      <td>0.072</td>\n",
       "    </tr>\n",
       "    <tr>\n",
       "      <th>165</th>\n",
       "      <td>183</td>\n",
       "      <td>2020/09/07 08:00:00+00</td>\n",
       "      <td>1346</td>\n",
       "      <td>3685</td>\n",
       "      <td>10418</td>\n",
       "      <td>7594</td>\n",
       "      <td>5940</td>\n",
       "      <td>5697</td>\n",
       "      <td>3399</td>\n",
       "      <td>1624</td>\n",
       "      <td>1340</td>\n",
       "      <td>34</td>\n",
       "      <td>21069</td>\n",
       "      <td>19898</td>\n",
       "      <td>4727</td>\n",
       "      <td>211</td>\n",
       "      <td>0.045</td>\n",
       "    </tr>\n",
       "    <tr>\n",
       "      <th>166</th>\n",
       "      <td>184</td>\n",
       "      <td>2020/09/06 08:00:00+00</td>\n",
       "      <td>1346</td>\n",
       "      <td>3629</td>\n",
       "      <td>10364</td>\n",
       "      <td>7569</td>\n",
       "      <td>5919</td>\n",
       "      <td>5672</td>\n",
       "      <td>3388</td>\n",
       "      <td>1616</td>\n",
       "      <td>1330</td>\n",
       "      <td>33</td>\n",
       "      <td>20965</td>\n",
       "      <td>19788</td>\n",
       "      <td>6788</td>\n",
       "      <td>216</td>\n",
       "      <td>0.032</td>\n",
       "    </tr>\n",
       "    <tr>\n",
       "      <th>167</th>\n",
       "      <td>185</td>\n",
       "      <td>2020/09/08 08:00:00+00</td>\n",
       "      <td>1351</td>\n",
       "      <td>3728</td>\n",
       "      <td>10493</td>\n",
       "      <td>7630</td>\n",
       "      <td>5972</td>\n",
       "      <td>5722</td>\n",
       "      <td>3419</td>\n",
       "      <td>1632</td>\n",
       "      <td>1343</td>\n",
       "      <td>34</td>\n",
       "      <td>21179</td>\n",
       "      <td>20035</td>\n",
       "      <td>6788</td>\n",
       "      <td>247</td>\n",
       "      <td>0.036</td>\n",
       "    </tr>\n",
       "    <tr>\n",
       "      <th>168</th>\n",
       "      <td>186</td>\n",
       "      <td>2020/09/09 08:00:00+00</td>\n",
       "      <td>1362</td>\n",
       "      <td>3830</td>\n",
       "      <td>10542</td>\n",
       "      <td>7659</td>\n",
       "      <td>5995</td>\n",
       "      <td>5754</td>\n",
       "      <td>3434</td>\n",
       "      <td>1643</td>\n",
       "      <td>1351</td>\n",
       "      <td>38</td>\n",
       "      <td>21325</td>\n",
       "      <td>20173</td>\n",
       "      <td>8311</td>\n",
       "      <td>284</td>\n",
       "      <td>0.034</td>\n",
       "    </tr>\n",
       "    <tr>\n",
       "      <th>169</th>\n",
       "      <td>187</td>\n",
       "      <td>2020/09/10 08:00:00+00</td>\n",
       "      <td>1378</td>\n",
       "      <td>3894</td>\n",
       "      <td>10637</td>\n",
       "      <td>7721</td>\n",
       "      <td>6042</td>\n",
       "      <td>5795</td>\n",
       "      <td>3456</td>\n",
       "      <td>1656</td>\n",
       "      <td>1355</td>\n",
       "      <td>35</td>\n",
       "      <td>21489</td>\n",
       "      <td>20368</td>\n",
       "      <td>9208</td>\n",
       "      <td>361</td>\n",
       "      <td>0.039</td>\n",
       "    </tr>\n",
       "    <tr>\n",
       "      <th>170</th>\n",
       "      <td>188</td>\n",
       "      <td>2020/09/11 08:00:00+00</td>\n",
       "      <td>1394</td>\n",
       "      <td>3959</td>\n",
       "      <td>10758</td>\n",
       "      <td>7804</td>\n",
       "      <td>6107</td>\n",
       "      <td>5843</td>\n",
       "      <td>3482</td>\n",
       "      <td>1671</td>\n",
       "      <td>1363</td>\n",
       "      <td>33</td>\n",
       "      <td>21687</td>\n",
       "      <td>20616</td>\n",
       "      <td>8531</td>\n",
       "      <td>445</td>\n",
       "      <td>0.052</td>\n",
       "    </tr>\n",
       "  </tbody>\n",
       "</table>\n",
       "<p>171 rows × 17 columns</p>\n",
       "</div>"
      ],
      "text/plain": [
       "     Unnamed: 0                    date  age_9  age10_19  age20_29  age30_39  \\\n",
       "0            14  2020/03/25 08:00:00+00      3         3        66        89   \n",
       "1            15  2020/03/26 08:00:00+00      3         4        84       106   \n",
       "2            16  2020/03/27 08:00:00+00      3         5       102       118   \n",
       "3            17  2020/03/28 08:00:00+00      4         6       107       130   \n",
       "4            18  2020/03/29 08:00:00+00      4         6       121       148   \n",
       "5            19  2020/03/30 08:00:00+00      5         7       144       174   \n",
       "6            20  2020/03/31 08:00:00+00      6         8       163       194   \n",
       "7            21  2020/04/01 08:00:00+00      8         9       187       216   \n",
       "8            22  2020/04/02 08:00:00+00     10        12       198       238   \n",
       "9            23  2020/04/03 08:00:00+00     10        14       209       251   \n",
       "10           24  2020/04/04 08:00:00+00     10        15       226       286   \n",
       "11           25  2020/04/05 08:00:00+00     10        15       235       300   \n",
       "12           26  2020/04/06 08:00:00+00     10        16       240       288   \n",
       "13           27  2020/04/07 08:00:00+00     10        16       244       301   \n",
       "14           32  2020/04/08 08:00:00+00     10        20       255       320   \n",
       "15           33  2020/04/09 08:00:00+00     10        21       264       335   \n",
       "16           34  2020/04/10 08:00:00+00     10        22       270       343   \n",
       "17           35  2020/04/11 08:00:00+00     10        22       273       352   \n",
       "18           36  2020/04/12 08:00:00+00     11        23       279       359   \n",
       "19           37  2020/04/13 08:00:00+00     12        24       292       367   \n",
       "20           38  2020/04/14 08:00:00+00     12        32       308       381   \n",
       "21           39  2020/04/15 08:00:00+00     12        34       316       399   \n",
       "22           40  2020/04/16 08:00:00+00     13        35       327       408   \n",
       "23           41  2020/04/17 08:00:00+00     16        38       340       412   \n",
       "24           42  2020/04/18 08:00:00+00     17        39       344       423   \n",
       "25           43  2020/04/19 08:00:00+00     17        43       354       431   \n",
       "26           44  2020/04/20 08:00:00+00     18        46       370       451   \n",
       "27           45  2020/04/21 08:00:00+00     19        47       378       464   \n",
       "28           46  2020/04/22 08:00:00+00     21        51       398       488   \n",
       "29           47  2020/04/23 08:00:00+00     22        52       422       527   \n",
       "..          ...                     ...    ...       ...       ...       ...   \n",
       "141         159  2020/08/13 08:00:00+00   1080      2741      8672      6440   \n",
       "142         160  2020/08/14 08:00:00+00   1088      2759      8730      6492   \n",
       "143         161  2020/08/15 08:00:00+00   1107      2786      8828      6550   \n",
       "144         162  2020/08/16 08:00:00+00   1121      2809      8902      6602   \n",
       "145         163  2020/08/17 08:00:00+00   1128      2827      8948      6643   \n",
       "146         164  2020/08/18 08:00:00+00   1142      2850      8994      6681   \n",
       "147         165  2020/08/19 08:00:00+00   1147      2876      9051      6713   \n",
       "148         166  2020/08/20 08:00:00+00   1163      2891      9118      6777   \n",
       "149         167  2020/08/21 08:00:00+00   1171      2909      9199      6828   \n",
       "150         168  2020/08/22 08:00:00+00   1186      2939      9294      6878   \n",
       "151         169  2020/08/23 08:00:00+00   1195      2963      9350      6914   \n",
       "152         170  2020/08/24 08:00:00+00   1203      2983      9405      6974   \n",
       "153         171  2020/08/25 08:00:00+00   1212      3004      9459      7012   \n",
       "154         172  2020/08/26 08:00:00+00   1226      3035      9535      7063   \n",
       "155         173  2020/08/27 08:00:00+00   1243      3068      9602      7110   \n",
       "156         174  2020/08/28 08:00:00+00   1261      3091      9666      7158   \n",
       "157         175  2020/08/29 08:00:00+00   1272      3114      9717      7211   \n",
       "158         176  2020/08/30 08:00:00+00   1283      3147      9795      7260   \n",
       "159         177  2020/08/31 08:00:00+00   1287      3180      9855      7306   \n",
       "160         178  2020/09/01 08:00:00+00   1294      3237      9909      7339   \n",
       "161         179  2020/09/02 08:00:00+00   1305      3309      9988      7380   \n",
       "162         180  2020/09/03 08:00:00+00   1320      3412     10117      7435   \n",
       "163         181  2020/09/04 08:00:00+00   1331      3511     10224      7501   \n",
       "164         182  2020/09/05 08:00:00+00   1339      3594     10321      7543   \n",
       "165         183  2020/09/07 08:00:00+00   1346      3685     10418      7594   \n",
       "166         184  2020/09/06 08:00:00+00   1346      3629     10364      7569   \n",
       "167         185  2020/09/08 08:00:00+00   1351      3728     10493      7630   \n",
       "168         186  2020/09/09 08:00:00+00   1362      3830     10542      7659   \n",
       "169         187  2020/09/10 08:00:00+00   1378      3894     10637      7721   \n",
       "170         188  2020/09/11 08:00:00+00   1394      3959     10758      7804   \n",
       "\n",
       "     age40_49  age50_59  age60_69  age70_79  age80_plus  ageunknow  \\\n",
       "0          61        53        26        25          14          1   \n",
       "1          73        65        31        29          20          2   \n",
       "2          85        74        36        38          25          2   \n",
       "3          90        79        37        39          26          1   \n",
       "4         105        91        52        45          29          2   \n",
       "5         130       116        74        49          34          1   \n",
       "6         154       125        93        62          41          3   \n",
       "7         170       149       108        71          45          3   \n",
       "8         192       177       136        88          55          6   \n",
       "9         212       202       152        91          64          4   \n",
       "10        237       222       162        99          66          3   \n",
       "11        254       235       172       109          71          3   \n",
       "12        259       255       190       115          79          2   \n",
       "13        268       278       201       123          86          3   \n",
       "14        283       293       224       131          90          2   \n",
       "15        292       305       235       137          92          2   \n",
       "16        304       318       245       143         104          2   \n",
       "17        312       328       250       145         109          3   \n",
       "18        320       338       255       146         113          3   \n",
       "19        339       352       265       155         121          3   \n",
       "20        350       367       275       160         124          3   \n",
       "21        362       383       286       163         129          3   \n",
       "22        373       404       297       166         131          4   \n",
       "23        381       418       302       167         135          4   \n",
       "24        389       429       312       173         138          4   \n",
       "25        398       438       318       178         144          4   \n",
       "26        420       459       329       186         151          4   \n",
       "27        427       473       334       191         154          4   \n",
       "28        452       506       344       200         179          4   \n",
       "29        496       545       364       210         185          3   \n",
       "..        ...       ...       ...       ...         ...        ...   \n",
       "141      4933      4765      2871      1384        1148         31   \n",
       "142      4985      4814      2898      1391        1154         33   \n",
       "143      5026      4862      2923      1402        1162         32   \n",
       "144      5070      4897      2948      1411        1166         34   \n",
       "145      5101      4935      2962      1412        1172         34   \n",
       "146      5130      4964      2979      1422        1181         33   \n",
       "147      5174      5001      2993      1431        1189         33   \n",
       "148      5222      5050      3023      1440        1197         31   \n",
       "149      5270      5086      3055      1447        1207         31   \n",
       "150      5309      5138      3082      1462        1221         31   \n",
       "151      5331      5153      3097      1468        1222         34   \n",
       "152      5376      5184      3130      1482        1224         33   \n",
       "153      5408      5216      3146      1498        1234         33   \n",
       "154      5450      5248      3165      1505        1243         29   \n",
       "155      5484      5290      3185      1517        1254         31   \n",
       "156      5518      5320      3211      1526        1265         31   \n",
       "157      5557      5360      3232      1536        1270         31   \n",
       "158      5608      5406      3254      1544        1276         31   \n",
       "159      5653      5434      3276      1556        1290         34   \n",
       "160      5690      5471      3289      1563        1296         33   \n",
       "161      5731      5509      3309      1573        1311         31   \n",
       "162      5788      5555      3334      1589        1317         32   \n",
       "163      5847      5611      3359      1605        1321         32   \n",
       "164      5873      5641      3372      1611        1324         32   \n",
       "165      5940      5697      3399      1624        1340         34   \n",
       "166      5919      5672      3388      1616        1330         33   \n",
       "167      5972      5722      3419      1632        1343         34   \n",
       "168      5995      5754      3434      1643        1351         38   \n",
       "169      6042      5795      3456      1656        1355         35   \n",
       "170      6107      5843      3482      1671        1363         33   \n",
       "\n",
       "     genderfemale  gendermale  newtests  newcases  test_positivity_rate  \n",
       "0             134         207      1087        58                 0.053  \n",
       "1             166         249      1023        76                 0.074  \n",
       "2             206         280       776        71                 0.091  \n",
       "3             219         298      1275        31                 0.024  \n",
       "4             256         345       687        84                 0.122  \n",
       "5             317         414      1538       131                 0.085  \n",
       "6             380         461       989       115                 0.116  \n",
       "7             439         514      2606       117                 0.045  \n",
       "8             519         585      1882       146                 0.078  \n",
       "9             570         630      1025        97                 0.095  \n",
       "10            609         710       807       117                 0.145  \n",
       "11            657         739       827        78                 0.094  \n",
       "12            701         747      1846        50                 0.027  \n",
       "13            737         785       842        76                 0.090  \n",
       "14            790         832       920        98                 0.107  \n",
       "15            821         867      1255        65                 0.052  \n",
       "16            853         902      1077        68                 0.063  \n",
       "17            877         922       804        43                 0.053  \n",
       "18            905         937       898        43                 0.048  \n",
       "19            954         971       919        83                 0.090  \n",
       "20            989        1017       836        82                 0.098  \n",
       "21           1034        1047      1248        75                 0.060  \n",
       "22           1073        1081      1114        71                 0.064  \n",
       "23           1099        1110      1393        55                 0.039  \n",
       "24           1124        1140       955        55                 0.058  \n",
       "25           1149        1172      1310        57                 0.044  \n",
       "26           1185        1243      1016       109                 0.107  \n",
       "27           1214        1271      1514        57                 0.038  \n",
       "28           1284        1355      2255       152                 0.067  \n",
       "29           1377        1445      3122       183                 0.059  \n",
       "..            ...         ...       ...       ...                   ...  \n",
       "141         17492       16471      9508       406                 0.043  \n",
       "142         17627       16614     11268       279                 0.025  \n",
       "143         17811       16758      7047       334                 0.047  \n",
       "144         17956       16891      6377       282                 0.044  \n",
       "145         18056       16996      5584       202                 0.036  \n",
       "146         18156       17112      6781       214                 0.032  \n",
       "147         18276       17225      9865       232                 0.024  \n",
       "148         18429       17378      6567       304                 0.046  \n",
       "149         18581       17515      8824       291                 0.033  \n",
       "150         18760       17673      6783       337                 0.050  \n",
       "151         18854       17766      7351       187                 0.025  \n",
       "152         19001       17890      5534       267                 0.048  \n",
       "153         19134       17986      8327       228                 0.027  \n",
       "154         19283       18114      5235       277                 0.053  \n",
       "155         19408       18271      8821       285                 0.032  \n",
       "156         19542       18405      6796       263                 0.039  \n",
       "157         19656       18542      5360       253                 0.047  \n",
       "158         19814       18686      5731       304                 0.053  \n",
       "159         19950       18819      6986       267                 0.038  \n",
       "160         20095       18922      7606       250                 0.033  \n",
       "161         20261       19086      9031       325                 0.036  \n",
       "162         20479       19312      7554       453                 0.060  \n",
       "163         20684       19549      7445       443                 0.060  \n",
       "164         20858       19680      4271       308                 0.072  \n",
       "165         21069       19898      4727       211                 0.045  \n",
       "166         20965       19788      6788       216                 0.032  \n",
       "167         21179       20035      6788       247                 0.036  \n",
       "168         21325       20173      8311       284                 0.034  \n",
       "169         21489       20368      9208       361                 0.039  \n",
       "170         21687       20616      8531       445                 0.052  \n",
       "\n",
       "[171 rows x 17 columns]"
      ]
     },
     "execution_count": 140,
     "metadata": {},
     "output_type": "execute_result"
    }
   ],
   "source": [
    "cleaned_demo"
   ]
  },
  {
   "cell_type": "markdown",
   "metadata": {},
   "source": [
    "### Cleaned Cases by Zipcode"
   ]
  },
  {
   "cell_type": "code",
   "execution_count": 141,
   "metadata": {},
   "outputs": [],
   "source": [
    "cleaned_cases_path = os.path.join('Datasets', 'Cleaned_Cases_by_Zipcode.csv')\n",
    "cleaned_cases = pd.read_csv(cleaned_cases_path, low_memory=False)\n",
    "#cleaned_cases = cleaned_cases.rename(columns={'Zipcode': 'Zip'})\n"
   ]
  },
  {
   "cell_type": "code",
   "execution_count": 142,
   "metadata": {
    "scrolled": false
   },
   "outputs": [
    {
     "data": {
      "text/plain": [
       "92154"
      ]
     },
     "execution_count": 142,
     "metadata": {},
     "output_type": "execute_result"
    }
   ],
   "source": [
    "recents = cleaned_cases[cleaned_cases['updatedate'] == cleaned_cases['updatedate'].max()]\n",
    "\n",
    "cases_by_zip_dict = {}\n",
    "# for cleaned_cases['Zipcode'].unique():\n",
    "recents = cleaned_cases[cleaned_cases['updatedate'] == cleaned_cases['updatedate'].max()]\n",
    "for index in recents.index.tolist():\n",
    "    zipcode = recents.loc[index]['Zipcode']\n",
    "    case_count = recents.loc[index]['case_count']\n",
    "    if zipcode not in cases_by_zip_dict.keys():\n",
    "        cases_by_zip_dict[zipcode] = case_count\n",
    "    else:\n",
    "        cases_by_zip_dict[zipcode] += case_count\n",
    "        \n",
    "max(cases_by_zip_dict, key=cases_by_zip_dict.get) #zip with highest number of cases"
   ]
  },
  {
   "cell_type": "code",
   "execution_count": 143,
   "metadata": {},
   "outputs": [],
   "source": [
    "cases_by_zip = pd.DataFrame(list(cases_by_zip_dict.items()),columns = ['Zipcode','Cases'])"
   ]
  },
  {
   "cell_type": "markdown",
   "metadata": {},
   "source": [
    "### August Cases Increase"
   ]
  },
  {
   "cell_type": "code",
   "execution_count": 144,
   "metadata": {},
   "outputs": [],
   "source": [
    "august_cases_path = os.path.join('Datasets', 'August_Case_Increase.csv')\n",
    "august_cases = pd.read_csv(august_cases_path, low_memory=False)"
   ]
  },
  {
   "cell_type": "code",
   "execution_count": 145,
   "metadata": {},
   "outputs": [],
   "source": [
    "august_cases = august_cases[[\"Zipcode\", \"Absolute Increase\", \"Percent Increase\"]]"
   ]
  },
  {
   "cell_type": "code",
   "execution_count": 146,
   "metadata": {},
   "outputs": [],
   "source": [
    "august_cases = august_cases.merge(pop, on=\"Zipcode\")"
   ]
  },
  {
   "cell_type": "code",
   "execution_count": 147,
   "metadata": {
    "scrolled": true
   },
   "outputs": [],
   "source": [
    "august_cases[\"Absolute Increase Standardized\"] = august_cases[\"Absolute Increase\"] / august_cases[\"Population 16+\"]"
   ]
  },
  {
   "cell_type": "code",
   "execution_count": 148,
   "metadata": {},
   "outputs": [],
   "source": [
    "august_cases = august_cases.drop([\"Absolute Increase\", \"Population 16+\"], axis=1)"
   ]
  },
  {
   "cell_type": "code",
   "execution_count": 149,
   "metadata": {},
   "outputs": [
    {
     "data": {
      "text/html": [
       "<div>\n",
       "<style scoped>\n",
       "    .dataframe tbody tr th:only-of-type {\n",
       "        vertical-align: middle;\n",
       "    }\n",
       "\n",
       "    .dataframe tbody tr th {\n",
       "        vertical-align: top;\n",
       "    }\n",
       "\n",
       "    .dataframe thead th {\n",
       "        text-align: right;\n",
       "    }\n",
       "</style>\n",
       "<table border=\"1\" class=\"dataframe\">\n",
       "  <thead>\n",
       "    <tr style=\"text-align: right;\">\n",
       "      <th></th>\n",
       "      <th>Zipcode</th>\n",
       "      <th>Percent Increase</th>\n",
       "      <th>Absolute Increase Standardized</th>\n",
       "    </tr>\n",
       "  </thead>\n",
       "  <tbody>\n",
       "    <tr>\n",
       "      <th>0</th>\n",
       "      <td>91901</td>\n",
       "      <td>23.08</td>\n",
       "      <td>0.001211</td>\n",
       "    </tr>\n",
       "  </tbody>\n",
       "</table>\n",
       "</div>"
      ],
      "text/plain": [
       "   Zipcode  Percent Increase  Absolute Increase Standardized\n",
       "0    91901             23.08                        0.001211"
      ]
     },
     "execution_count": 149,
     "metadata": {},
     "output_type": "execute_result"
    }
   ],
   "source": [
    "august_cases.head(1)"
   ]
  },
  {
   "cell_type": "markdown",
   "metadata": {},
   "source": [
    "# Population by Zip Code"
   ]
  },
  {
   "cell_type": "code",
   "execution_count": 150,
   "metadata": {},
   "outputs": [],
   "source": [
    "pop_by_zip_path = os.path.join('Datasets', 'Population by ZipCode.csv')\n",
    "pop_by_zip = pd.read_csv(pop_by_zip_path, low_memory = False)\n",
    "pop_by_zip = pop_by_zip.drop(['Unnamed: 0'], axis = 1)"
   ]
  },
  {
   "cell_type": "code",
   "execution_count": 151,
   "metadata": {
    "scrolled": true
   },
   "outputs": [
    {
     "data": {
      "text/html": [
       "<div>\n",
       "<style scoped>\n",
       "    .dataframe tbody tr th:only-of-type {\n",
       "        vertical-align: middle;\n",
       "    }\n",
       "\n",
       "    .dataframe tbody tr th {\n",
       "        vertical-align: top;\n",
       "    }\n",
       "\n",
       "    .dataframe thead th {\n",
       "        text-align: right;\n",
       "    }\n",
       "</style>\n",
       "<table border=\"1\" class=\"dataframe\">\n",
       "  <thead>\n",
       "    <tr style=\"text-align: right;\">\n",
       "      <th></th>\n",
       "      <th>Zipcode</th>\n",
       "      <th>Population</th>\n",
       "    </tr>\n",
       "  </thead>\n",
       "  <tbody>\n",
       "    <tr>\n",
       "      <th>0</th>\n",
       "      <td>91901</td>\n",
       "      <td>17403</td>\n",
       "    </tr>\n",
       "    <tr>\n",
       "      <th>1</th>\n",
       "      <td>91902</td>\n",
       "      <td>17653</td>\n",
       "    </tr>\n",
       "    <tr>\n",
       "      <th>2</th>\n",
       "      <td>91905</td>\n",
       "      <td>1700</td>\n",
       "    </tr>\n",
       "  </tbody>\n",
       "</table>\n",
       "</div>"
      ],
      "text/plain": [
       "   Zipcode  Population\n",
       "0    91901       17403\n",
       "1    91902       17653\n",
       "2    91905        1700"
      ]
     },
     "execution_count": 151,
     "metadata": {},
     "output_type": "execute_result"
    }
   ],
   "source": [
    "pop_by_zip = pop_by_zip.rename(columns = {'ZIP code':'Zipcode' })\n",
    "pop_by_zip.head(3)"
   ]
  },
  {
   "cell_type": "markdown",
   "metadata": {},
   "source": [
    "# Data Exploration"
   ]
  },
  {
   "cell_type": "code",
   "execution_count": 152,
   "metadata": {
    "scrolled": true
   },
   "outputs": [],
   "source": [
    "zips = schools[\"Zipcode\"].unique()"
   ]
  },
  {
   "cell_type": "code",
   "execution_count": 153,
   "metadata": {},
   "outputs": [],
   "source": [
    "# cumulative_clean = cumulative_clean[cumulative_clean[\"AggregateLevel\"] == \"S\"]"
   ]
  },
  {
   "cell_type": "code",
   "execution_count": 154,
   "metadata": {},
   "outputs": [],
   "source": [
    "# cumulative_clean = cumulative_clean[cumulative_clean[\"CountyName\"] == \"San Diego\"]\n",
    "# cumulative_clean = cumulative_clean.rename(columns={'SchoolName': \"School\"})\n",
    "# cumulative_clean = cumulative_clean[cumulative_clean[\"ReportingCategory\"] == \"TA\"]"
   ]
  },
  {
   "cell_type": "code",
   "execution_count": 155,
   "metadata": {},
   "outputs": [],
   "source": [
    "# cumulative_clean = cumulative_clean[cumulative_clean[\"Charter\"] == \"No \"]"
   ]
  },
  {
   "cell_type": "code",
   "execution_count": 156,
   "metadata": {
    "scrolled": true
   },
   "outputs": [],
   "source": [
    "# cumulative_clean = cumulative_clean.drop([\"Charter\"], axis=1)"
   ]
  },
  {
   "cell_type": "code",
   "execution_count": 157,
   "metadata": {},
   "outputs": [],
   "source": [
    "merged = schools.merge(cumulative_clean, on=\"School, District\")"
   ]
  },
  {
   "cell_type": "code",
   "execution_count": 158,
   "metadata": {
    "scrolled": true
   },
   "outputs": [],
   "source": [
    "done = merged.merge(incomes_clean, on=\"Zipcode\")"
   ]
  },
  {
   "cell_type": "code",
   "execution_count": 159,
   "metadata": {
    "scrolled": false
   },
   "outputs": [],
   "source": [
    "done = done.merge(august_cases, on=\"Zipcode\")"
   ]
  },
  {
   "cell_type": "code",
   "execution_count": 160,
   "metadata": {},
   "outputs": [],
   "source": [
    "done_shorter = done.drop(columns=[\"AggregateLevel\", \"CountyName\", \"CDSCode\", \n",
    "                                  \"Zip\", \"WebSite\",\n",
    "                                  \"LastUpDate\", \"School_x\", \"School_y\", \"District\"], axis=1)\n",
    "# 'ReportingCategory' ^^"
   ]
  },
  {
   "cell_type": "code",
   "execution_count": 161,
   "metadata": {},
   "outputs": [],
   "source": [
    "#Impute value for median family income for zip 91905 with that of 91906\n",
    "done_shorter.loc[319, \"Median family income (dollars)\"] = 60240.0"
   ]
  },
  {
   "cell_type": "code",
   "execution_count": 162,
   "metadata": {},
   "outputs": [],
   "source": [
    "done_shorter = done_shorter.merge(cases_by_zip)"
   ]
  },
  {
   "cell_type": "code",
   "execution_count": 163,
   "metadata": {},
   "outputs": [],
   "source": [
    "done_shorter = done_shorter.merge(pop_by_zip)"
   ]
  },
  {
   "cell_type": "markdown",
   "metadata": {},
   "source": [
    "# Standardizing"
   ]
  },
  {
   "cell_type": "code",
   "execution_count": 164,
   "metadata": {},
   "outputs": [],
   "source": [
    "pop = done_shorter['Population']\n",
    "household_pop = pop / 2.87"
   ]
  },
  {
   "cell_type": "code",
   "execution_count": 165,
   "metadata": {},
   "outputs": [],
   "source": [
    "done_shorter = done_shorter.assign(WorkedAtHomeSTD=done_shorter['Worked at home'] / pop)"
   ]
  },
  {
   "cell_type": "code",
   "execution_count": 166,
   "metadata": {},
   "outputs": [],
   "source": [
    "done_shorter = done_shorter.assign(HouseholdsIncome0kto35kSTD=done_shorter['Households with income $0-34,999'] / household_pop)"
   ]
  },
  {
   "cell_type": "code",
   "execution_count": 167,
   "metadata": {},
   "outputs": [],
   "source": [
    "done_shorter = done_shorter.assign(HouseholdsIncome35kto100kSTD=done_shorter['Households with income $35,000-99,999'] / household_pop)"
   ]
  },
  {
   "cell_type": "code",
   "execution_count": 168,
   "metadata": {},
   "outputs": [],
   "source": [
    "done_shorter = done_shorter.assign(HouseholdsIncome100kPlusSTD=done_shorter['Households with income $100,000+'] / household_pop)"
   ]
  },
  {
   "cell_type": "code",
   "execution_count": 169,
   "metadata": {},
   "outputs": [],
   "source": [
    "done_shorter = done_shorter.assign(CasesSTD=done_shorter['Cases'] / pop)"
   ]
  },
  {
   "cell_type": "code",
   "execution_count": 170,
   "metadata": {},
   "outputs": [
    {
     "data": {
      "text/plain": [
       "Index(['EILName', 'Latitude', 'Longitude', 'Address', 'Zipcode',\n",
       "       'School, District', 'DistrictName', 'CumulativeEnrollment', 'Latino%',\n",
       "       'Median family income (dollars)', 'Mean family income (dollars)',\n",
       "       'Health insurance coverage, % of civilian pop',\n",
       "       'No health insurance for civilian pop',\n",
       "       'No health insurance coverage %', 'Worked at home', 'Population 16+',\n",
       "       'Children of the household 6-17', 'Households with income $0-34,999',\n",
       "       'Households with income $35,000-99,999',\n",
       "       'Households with income $100,000+', 'Percent Increase',\n",
       "       'Absolute Increase Standardized', 'Cases', 'Population',\n",
       "       'WorkedAtHomeSTD', 'HouseholdsIncome0kto35kSTD',\n",
       "       'HouseholdsIncome35kto100kSTD', 'HouseholdsIncome100kPlusSTD',\n",
       "       'CasesSTD'],\n",
       "      dtype='object')"
      ]
     },
     "execution_count": 170,
     "metadata": {},
     "output_type": "execute_result"
    }
   ],
   "source": [
    "done_shorter.columns"
   ]
  },
  {
   "cell_type": "code",
   "execution_count": 224,
   "metadata": {},
   "outputs": [
    {
     "data": {
      "text/html": [
       "<div>\n",
       "<style scoped>\n",
       "    .dataframe tbody tr th:only-of-type {\n",
       "        vertical-align: middle;\n",
       "    }\n",
       "\n",
       "    .dataframe tbody tr th {\n",
       "        vertical-align: top;\n",
       "    }\n",
       "\n",
       "    .dataframe thead th {\n",
       "        text-align: right;\n",
       "    }\n",
       "</style>\n",
       "<table border=\"1\" class=\"dataframe\">\n",
       "  <thead>\n",
       "    <tr style=\"text-align: right;\">\n",
       "      <th></th>\n",
       "      <th>AggregateLevel</th>\n",
       "      <th>CountyName</th>\n",
       "      <th>DistrictName</th>\n",
       "      <th>School</th>\n",
       "      <th>CumulativeEnrollment</th>\n",
       "      <th>School, District</th>\n",
       "      <th>Latino%</th>\n",
       "    </tr>\n",
       "  </thead>\n",
       "  <tbody>\n",
       "    <tr>\n",
       "      <th>115</th>\n",
       "      <td>S</td>\n",
       "      <td>San Diego</td>\n",
       "      <td>Cajon Valley Union</td>\n",
       "      <td>Empower</td>\n",
       "      <td>26.0</td>\n",
       "      <td>Empower, Cajon Valley Union</td>\n",
       "      <td>NaN</td>\n",
       "    </tr>\n",
       "  </tbody>\n",
       "</table>\n",
       "</div>"
      ],
      "text/plain": [
       "    AggregateLevel CountyName        DistrictName   School  \\\n",
       "115              S  San Diego  Cajon Valley Union  Empower   \n",
       "\n",
       "     CumulativeEnrollment             School, District  Latino%  \n",
       "115                  26.0  Empower, Cajon Valley Union      NaN  "
      ]
     },
     "execution_count": 224,
     "metadata": {},
     "output_type": "execute_result"
    }
   ],
   "source": [
    "cumulative_clean[cumulative_clean['School, District'] == 'Empower, Cajon Valley Union']"
   ]
  },
  {
   "cell_type": "code",
   "execution_count": 233,
   "metadata": {
    "scrolled": true
   },
   "outputs": [],
   "source": [
    "# done_shorter[done_shorter['Latino%'].isna() == True]\n",
    "done_shorter['Latino%'] = done_shorter['Latino%'].fillna(0)"
   ]
  },
  {
   "cell_type": "code",
   "execution_count": 234,
   "metadata": {},
   "outputs": [],
   "source": [
    "from sklearn.cluster import KMeans\n",
    "import sklearn.preprocessing as pp"
   ]
  },
  {
   "cell_type": "code",
   "execution_count": 235,
   "metadata": {},
   "outputs": [],
   "source": [
    "# Numeric columns and associated transformers\n",
    "num_feat = [\n",
    "    'CumulativeEnrollment', \n",
    "    \"Health insurance coverage, % of civilian pop\", \n",
    "    \"WorkedAtHomeSTD\",\n",
    "    'HouseholdsIncome0kto35kSTD',\n",
    "    'HouseholdsIncome35kto100kSTD', \n",
    "    'HouseholdsIncome100kPlusSTD', \n",
    "    'CasesSTD',\n",
    "    \"Children of the household 6-17\",\n",
    "    \"Absolute Increase Standardized\",\n",
    "    'Latino%'\n",
    "]\n",
    "num_transformer = Pipeline(steps=[\n",
    "    ('scaler', pp.StandardScaler())   # z-scale\n",
    "])\n",
    "\n",
    "# Categorical columns and associated transformers\n",
    "cat_feat = ['EILName', 'Zipcode']\n",
    "cat_transformer = Pipeline(steps=[\n",
    "    ('intenc', pp.OrdinalEncoder()),   # converts to int\n",
    "    ('onehot', pp.OneHotEncoder())     # output from Ordinal becomes input to OneHot\n",
    "])\n",
    "\n",
    "# preprocessing pipeline (put them together)\n",
    "preproc = ColumnTransformer(transformers=[('num', num_transformer, num_feat), ('cat', cat_transformer, cat_feat)])\n",
    "\n",
    "pl = Pipeline(steps=[('preprocessor', preproc), ('kmeans', KMeans(n_clusters=3, n_init=1000))])"
   ]
  },
  {
   "cell_type": "code",
   "execution_count": 236,
   "metadata": {
    "scrolled": true
   },
   "outputs": [
    {
     "name": "stderr",
     "output_type": "stream",
     "text": [
      "C:\\Users\\Andrew Chin\\Anaconda3\\lib\\site-packages\\sklearn\\preprocessing\\_encoders.py:371: FutureWarning: The handling of integer data will change in version 0.22. Currently, the categories are determined based on the range [0, max(values)], while in the future they will be determined based on the unique values.\n",
      "If you want the future behaviour and silence this warning, you can specify \"categories='auto'\".\n",
      "In case you used a LabelEncoder before this OneHotEncoder to convert the categories to integers, then you can now use the OneHotEncoder directly.\n",
      "  warnings.warn(msg, FutureWarning)\n"
     ]
    },
    {
     "data": {
      "text/plain": [
       "Pipeline(memory=None,\n",
       "     steps=[('preprocessor', ColumnTransformer(n_jobs=None, remainder='drop', sparse_threshold=0.3,\n",
       "         transformer_weights=None,\n",
       "         transformers=[('num', Pipeline(memory=None,\n",
       "     steps=[('scaler', StandardScaler(copy=True, with_mean=True, with_std=True))]), ['CumulativeEnrollment', 'Health ...init=1000, n_jobs=None, precompute_distances='auto',\n",
       "    random_state=None, tol=0.0001, verbose=0))])"
      ]
     },
     "execution_count": 236,
     "metadata": {},
     "output_type": "execute_result"
    }
   ],
   "source": [
    "pl.fit(done_shorter)"
   ]
  },
  {
   "cell_type": "code",
   "execution_count": 237,
   "metadata": {},
   "outputs": [],
   "source": [
    "predictions = pl.predict(done_shorter)"
   ]
  },
  {
   "cell_type": "code",
   "execution_count": 238,
   "metadata": {},
   "outputs": [],
   "source": [
    "done_shorter[\"predictions\"] = predictions"
   ]
  },
  {
   "cell_type": "code",
   "execution_count": 239,
   "metadata": {},
   "outputs": [
    {
     "data": {
      "text/plain": [
       "Index(['EILName', 'Latitude', 'Longitude', 'Address', 'Zipcode',\n",
       "       'School, District', 'DistrictName', 'CumulativeEnrollment', 'Latino%',\n",
       "       'Median family income (dollars)', 'Mean family income (dollars)',\n",
       "       'Health insurance coverage, % of civilian pop',\n",
       "       'No health insurance for civilian pop',\n",
       "       'No health insurance coverage %', 'Worked at home', 'Population 16+',\n",
       "       'Children of the household 6-17', 'Households with income $0-34,999',\n",
       "       'Households with income $35,000-99,999',\n",
       "       'Households with income $100,000+', 'Percent Increase',\n",
       "       'Absolute Increase Standardized', 'Cases', 'Population',\n",
       "       'WorkedAtHomeSTD', 'HouseholdsIncome0kto35kSTD',\n",
       "       'HouseholdsIncome35kto100kSTD', 'HouseholdsIncome100kPlusSTD',\n",
       "       'CasesSTD', 'predictions'],\n",
       "      dtype='object')"
      ]
     },
     "execution_count": 239,
     "metadata": {},
     "output_type": "execute_result"
    }
   ],
   "source": [
    "done_shorter.columns"
   ]
  },
  {
   "cell_type": "code",
   "execution_count": 240,
   "metadata": {},
   "outputs": [
    {
     "name": "stdout",
     "output_type": "stream",
     "text": [
      "0: 749.0585585585585\n",
      "1: 845.0923076923077\n",
      "2: 677.109022556391\n"
     ]
    }
   ],
   "source": [
    "print(\"0:\", np.mean(done_shorter[done_shorter[\"predictions\"] == 0][\"CumulativeEnrollment\"]))\n",
    "print(\"1:\", np.mean(done_shorter[done_shorter[\"predictions\"] == 1][\"CumulativeEnrollment\"]))\n",
    "print(\"2:\", np.mean(done_shorter[done_shorter[\"predictions\"] == 2][\"CumulativeEnrollment\"]))"
   ]
  },
  {
   "cell_type": "code",
   "execution_count": 241,
   "metadata": {
    "scrolled": true
   },
   "outputs": [
    {
     "name": "stdout",
     "output_type": "stream",
     "text": [
      "0: 48343.78828828829\n",
      "1: 32871.692307692305\n",
      "2: 32149.996240601504\n"
     ]
    }
   ],
   "source": [
    "print(\"0:\", np.mean(done_shorter[done_shorter[\"predictions\"] == 0][\"Population 16+\"]))\n",
    "print(\"1:\", np.mean(done_shorter[done_shorter[\"predictions\"] == 1][\"Population 16+\"]))\n",
    "print(\"2:\", np.mean(done_shorter[done_shorter[\"predictions\"] == 2][\"Population 16+\"]))"
   ]
  },
  {
   "cell_type": "code",
   "execution_count": 242,
   "metadata": {
    "scrolled": true
   },
   "outputs": [
    {
     "name": "stdout",
     "output_type": "stream",
     "text": [
      "0: 9436.693693693695\n",
      "1: 6863.507692307692\n",
      "2: 4931.353383458647\n"
     ]
    }
   ],
   "source": [
    "print(\"0:\", np.mean(done_shorter[done_shorter[\"predictions\"] == 0][\"Children of the household 6-17\"]))\n",
    "print(\"1:\", np.mean(done_shorter[done_shorter[\"predictions\"] == 1][\"Children of the household 6-17\"]))\n",
    "print(\"2:\", np.mean(done_shorter[done_shorter[\"predictions\"] == 2][\"Children of the household 6-17\"]))"
   ]
  },
  {
   "cell_type": "code",
   "execution_count": 243,
   "metadata": {},
   "outputs": [
    {
     "name": "stdout",
     "output_type": "stream",
     "text": [
      "0: 9000.198198198199\n",
      "1: 1967.8461538461538\n",
      "2: 3530.5789473684213\n"
     ]
    }
   ],
   "source": [
    "print(\"0:\", np.mean(done_shorter[done_shorter[\"predictions\"] == 0][\"No health insurance for civilian pop\"]))\n",
    "print(\"1:\", np.mean(done_shorter[done_shorter[\"predictions\"] == 1][\"No health insurance for civilian pop\"]))\n",
    "print(\"2:\", np.mean(done_shorter[done_shorter[\"predictions\"] == 2][\"No health insurance for civilian pop\"]))"
   ]
  },
  {
   "cell_type": "code",
   "execution_count": 244,
   "metadata": {},
   "outputs": [
    {
     "name": "stdout",
     "output_type": "stream",
     "text": [
      "0: 73937.12612612612\n",
      "1: 162133.46923076923\n",
      "2: 102848.21052631579\n"
     ]
    }
   ],
   "source": [
    "print(\"0:\", np.mean(done_shorter[done_shorter[\"predictions\"] == 0][\"Mean family income (dollars)\"]))\n",
    "print(\"1:\", np.mean(done_shorter[done_shorter[\"predictions\"] == 1][\"Mean family income (dollars)\"]))\n",
    "print(\"2:\", np.mean(done_shorter[done_shorter[\"predictions\"] == 2][\"Mean family income (dollars)\"]))"
   ]
  },
  {
   "cell_type": "code",
   "execution_count": 245,
   "metadata": {},
   "outputs": [
    {
     "name": "stdout",
     "output_type": "stream",
     "text": [
      "0: 1237.7117117117118\n",
      "1: 1946.9615384615386\n",
      "2: 1277.733082706767\n"
     ]
    }
   ],
   "source": [
    "print(\"0:\", np.mean(done_shorter[done_shorter[\"predictions\"] == 0][\"Worked at home\"]))\n",
    "print(\"1:\", np.mean(done_shorter[done_shorter[\"predictions\"] == 1][\"Worked at home\"]))\n",
    "print(\"2:\", np.mean(done_shorter[done_shorter[\"predictions\"] == 2][\"Worked at home\"]))"
   ]
  },
  {
   "cell_type": "code",
   "execution_count": 246,
   "metadata": {},
   "outputs": [
    {
     "name": "stdout",
     "output_type": "stream",
     "text": [
      "0: 5787.617117117117\n",
      "1: 1951.7230769230769\n",
      "2: 3366.6954887218044\n"
     ]
    }
   ],
   "source": [
    "print(\"0:\", np.mean(done_shorter[done_shorter[\"predictions\"] == 0][\"Households with income $0-34,999\"]))\n",
    "print(\"1:\", np.mean(done_shorter[done_shorter[\"predictions\"] == 1][\"Households with income $0-34,999\"]))\n",
    "print(\"2:\", np.mean(done_shorter[done_shorter[\"predictions\"] == 2][\"Households with income $0-34,999\"]))"
   ]
  },
  {
   "cell_type": "code",
   "execution_count": 247,
   "metadata": {},
   "outputs": [
    {
     "name": "stdout",
     "output_type": "stream",
     "text": [
      "0: 8164.828828828829\n",
      "1: 4411.7307692307695\n",
      "2: 6198.375939849624\n"
     ]
    }
   ],
   "source": [
    "print(\"0:\", np.mean(done_shorter[done_shorter[\"predictions\"] == 0][\"Households with income $35,000-99,999\"]))\n",
    "print(\"1:\", np.mean(done_shorter[done_shorter[\"predictions\"] == 1][\"Households with income $35,000-99,999\"]))\n",
    "print(\"2:\", np.mean(done_shorter[done_shorter[\"predictions\"] == 2][\"Households with income $35,000-99,999\"]))"
   ]
  },
  {
   "cell_type": "code",
   "execution_count": 248,
   "metadata": {},
   "outputs": [
    {
     "name": "stdout",
     "output_type": "stream",
     "text": [
      "0: 3921.5765765765764\n",
      "1: 8005.992307692308\n",
      "2: 4781.9473684210525\n"
     ]
    }
   ],
   "source": [
    "print(\"0:\", np.mean(done_shorter[done_shorter[\"predictions\"] == 0][\"Households with income $100,000+\"]))\n",
    "print(\"1:\", np.mean(done_shorter[done_shorter[\"predictions\"] == 1][\"Households with income $100,000+\"]))\n",
    "print(\"2:\", np.mean(done_shorter[done_shorter[\"predictions\"] == 2][\"Households with income $100,000+\"]))"
   ]
  },
  {
   "cell_type": "code",
   "execution_count": 249,
   "metadata": {},
   "outputs": [
    {
     "name": "stdout",
     "output_type": "stream",
     "text": [
      "0: 32.46058558558556\n",
      "1: 25.478769230769235\n",
      "2: 35.53116541353381\n"
     ]
    }
   ],
   "source": [
    "print(\"0:\", np.mean(done_shorter[done_shorter[\"predictions\"] == 0][\"Percent Increase\"]))\n",
    "print(\"1:\", np.mean(done_shorter[done_shorter[\"predictions\"] == 1][\"Percent Increase\"]))\n",
    "print(\"2:\", np.mean(done_shorter[done_shorter[\"predictions\"] == 2][\"Percent Increase\"]))"
   ]
  },
  {
   "cell_type": "code",
   "execution_count": 250,
   "metadata": {},
   "outputs": [
    {
     "name": "stdout",
     "output_type": "stream",
     "text": [
      "0: 0.005677662911255926\n",
      "1: 0.0014377421909451031\n",
      "2: 0.0025381574599974994\n"
     ]
    }
   ],
   "source": [
    "print(\"0:\", np.mean(done_shorter[done_shorter[\"predictions\"] == 0][\"Absolute Increase Standardized\"]))\n",
    "print(\"1:\", np.mean(done_shorter[done_shorter[\"predictions\"] == 1][\"Absolute Increase Standardized\"]))\n",
    "print(\"2:\", np.mean(done_shorter[done_shorter[\"predictions\"] == 2][\"Absolute Increase Standardized\"]))"
   ]
  },
  {
   "cell_type": "code",
   "execution_count": 251,
   "metadata": {},
   "outputs": [
    {
     "name": "stdout",
     "output_type": "stream",
     "text": [
      "0: 749.0585585585585\n",
      "1: 845.0923076923077\n",
      "2: 677.109022556391\n"
     ]
    }
   ],
   "source": [
    "print(\"0:\", np.mean(done_shorter[done_shorter[\"predictions\"] == 0][\"CumulativeEnrollment\"]))\n",
    "print(\"1:\", np.mean(done_shorter[done_shorter[\"predictions\"] == 1][\"CumulativeEnrollment\"]))\n",
    "print(\"2:\", np.mean(done_shorter[done_shorter[\"predictions\"] == 2][\"CumulativeEnrollment\"]))"
   ]
  },
  {
   "cell_type": "code",
   "execution_count": 252,
   "metadata": {},
   "outputs": [
    {
     "name": "stdout",
     "output_type": "stream",
     "text": [
      "0: 749.0585585585585\n",
      "1: 845.0923076923077\n",
      "2: 677.109022556391\n"
     ]
    }
   ],
   "source": [
    "print(\"0:\", np.mean(done_shorter[done_shorter[\"predictions\"] == 0][\"CumulativeEnrollment\"]))\n",
    "print(\"1:\", np.mean(done_shorter[done_shorter[\"predictions\"] == 1][\"CumulativeEnrollment\"]))\n",
    "print(\"2:\", np.mean(done_shorter[done_shorter[\"predictions\"] == 2][\"CumulativeEnrollment\"]))"
   ]
  },
  {
   "cell_type": "code",
   "execution_count": 253,
   "metadata": {},
   "outputs": [
    {
     "name": "stdout",
     "output_type": "stream",
     "text": [
      "0: 749.0585585585585\n",
      "1: 845.0923076923077\n",
      "2: 677.109022556391\n"
     ]
    }
   ],
   "source": [
    "print(\"0:\", np.mean(done_shorter[done_shorter[\"predictions\"] == 0][\"CumulativeEnrollment\"]))\n",
    "print(\"1:\", np.mean(done_shorter[done_shorter[\"predictions\"] == 1][\"CumulativeEnrollment\"]))\n",
    "print(\"2:\", np.mean(done_shorter[done_shorter[\"predictions\"] == 2][\"CumulativeEnrollment\"]))"
   ]
  },
  {
   "cell_type": "code",
   "execution_count": null,
   "metadata": {},
   "outputs": [],
   "source": []
  },
  {
   "cell_type": "code",
   "execution_count": 254,
   "metadata": {},
   "outputs": [
    {
     "data": {
      "text/plain": [
       "Index(['EILName', 'Latitude', 'Longitude', 'Address', 'Zipcode',\n",
       "       'School, District', 'DistrictName', 'CumulativeEnrollment', 'Latino%',\n",
       "       'Median family income (dollars)', 'Mean family income (dollars)',\n",
       "       'Health insurance coverage, % of civilian pop',\n",
       "       'No health insurance for civilian pop',\n",
       "       'No health insurance coverage %', 'Worked at home', 'Population 16+',\n",
       "       'Children of the household 6-17', 'Households with income $0-34,999',\n",
       "       'Households with income $35,000-99,999',\n",
       "       'Households with income $100,000+', 'Percent Increase',\n",
       "       'Absolute Increase Standardized', 'Cases', 'Population',\n",
       "       'WorkedAtHomeSTD', 'HouseholdsIncome0kto35kSTD',\n",
       "       'HouseholdsIncome35kto100kSTD', 'HouseholdsIncome100kPlusSTD',\n",
       "       'CasesSTD', 'predictions'],\n",
       "      dtype='object')"
      ]
     },
     "execution_count": 254,
     "metadata": {},
     "output_type": "execute_result"
    }
   ],
   "source": [
    "done_shorter.columns"
   ]
  },
  {
   "cell_type": "markdown",
   "metadata": {},
   "source": [
    "# Visualizing Features \n",
    "\n",
    "Trying to find some correlation / meaning about the predictions"
   ]
  },
  {
   "cell_type": "code",
   "execution_count": 255,
   "metadata": {},
   "outputs": [],
   "source": [
    "zero = done_shorter[done_shorter['predictions'] == 0]\n",
    "one = done_shorter[done_shorter['predictions'] == 1]\n",
    "two = done_shorter[done_shorter['predictions'] == 2]\n",
    "cols = done_shorter.columns"
   ]
  },
  {
   "cell_type": "markdown",
   "metadata": {},
   "source": [
    "## Lat and Long of schools "
   ]
  },
  {
   "cell_type": "code",
   "execution_count": 256,
   "metadata": {
    "scrolled": false
   },
   "outputs": [
    {
     "data": {
      "image/png": "[encoded data removed]",
      "text/plain": [
       "<Figure size 432x288 with 1 Axes>"
      ]
     },
     "metadata": {
      "needs_background": "light"
     },
     "output_type": "display_data"
    }
   ],
   "source": [
    "ax1 = zero.plot(kind='scatter', x='Latitude', y='Longitude', color='r')    #Zero schools r red\n",
    "ax2 = one.plot(kind='scatter', x='Latitude', y='Longitude', color='g', ax=ax1)    #one schools r green\n",
    "ax3 = two.plot(kind='scatter', x='Latitude', y='Longitude', color='b', ax=ax1)    #two schools r blue"
   ]
  },
  {
   "cell_type": "markdown",
   "metadata": {},
   "source": [
    "## Health Insur Covg % vs Mean Fam Income "
   ]
  },
  {
   "cell_type": "code",
   "execution_count": 257,
   "metadata": {},
   "outputs": [
    {
     "data": {
      "image/png": "[encoded data removed]",
      "text/plain": [
       "<Figure size 432x288 with 1 Axes>"
      ]
     },
     "metadata": {
      "needs_background": "light"
     },
     "output_type": "display_data"
    }
   ],
   "source": [
    "ax1 = zero.plot(kind='scatter', x='Health insurance coverage, % of civilian pop', y='Mean family income (dollars)', color='r')    #Zero schools r red\n",
    "ax2 = one.plot(kind='scatter', x='Health insurance coverage, % of civilian pop', y='Mean family income (dollars)', color='g', ax=ax1)    #one schools r green\n",
    "ax3 = two.plot(kind='scatter', x='Health insurance coverage, % of civilian pop', y='Mean family income (dollars)', color='b', ax=ax1)    #two schools r blue"
   ]
  },
  {
   "cell_type": "markdown",
   "metadata": {},
   "source": [
    "## Health Insur Covg % vs Abs Inc Standardized (covid cases inc)"
   ]
  },
  {
   "cell_type": "code",
   "execution_count": 258,
   "metadata": {
    "scrolled": true
   },
   "outputs": [
    {
     "data": {
      "image/png": "[encoded data removed]",
      "text/plain": [
       "<Figure size 432x288 with 1 Axes>"
      ]
     },
     "metadata": {
      "needs_background": "light"
     },
     "output_type": "display_data"
    }
   ],
   "source": [
    "ax1 = zero.plot(kind='scatter', x='Health insurance coverage, % of civilian pop', y='Absolute Increase Standardized', color='r')    #Zero schools r red\n",
    "ax2 = one.plot(kind='scatter', x='Health insurance coverage, % of civilian pop', y='Absolute Increase Standardized', color='g', ax=ax1)    #one schools r green\n",
    "ax3 = two.plot(kind='scatter', x='Health insurance coverage, % of civilian pop', y='Absolute Increase Standardized', color='b', ax=ax1)    #two schools r blue"
   ]
  },
  {
   "cell_type": "markdown",
   "metadata": {},
   "source": [
    "## Mean fam income vs Abs Inc Standardized(covid cases increase)"
   ]
  },
  {
   "cell_type": "code",
   "execution_count": 259,
   "metadata": {},
   "outputs": [
    {
     "data": {
      "image/png": "[encoded data removed]",
      "text/plain": [
       "<Figure size 432x288 with 1 Axes>"
      ]
     },
     "metadata": {
      "needs_background": "light"
     },
     "output_type": "display_data"
    }
   ],
   "source": [
    "ax1 = zero.plot(kind='scatter', x='Mean family income (dollars)', y='Absolute Increase Standardized', color='r')    #Zero schools r red\n",
    "ax2 = one.plot(kind='scatter', x='Mean family income (dollars)', y='Absolute Increase Standardized', color='g', ax=ax1)    #one schools r green\n",
    "ax3 = two.plot(kind='scatter', x='Mean family income (dollars)', y='Absolute Increase Standardized', color='b', ax=ax1)    #two schools r blue"
   ]
  },
  {
   "cell_type": "code",
   "execution_count": 260,
   "metadata": {},
   "outputs": [
    {
     "name": "stdout",
     "output_type": "stream",
     "text": [
      "0 mean Abs Inc Standardized:  0.5677662911255926  %\n",
      "1 mean Abs Inc Standardized:  0.14377421909451032  %\n",
      "2 mean Abs Inc Standardized:  0.25381574599974993  %\n"
     ]
    }
   ],
   "source": [
    "print(\"0 mean Abs Inc Standardized: \", zero['Absolute Increase Standardized'].mean()* 100 ,' %')\n",
    "print(\"1 mean Abs Inc Standardized: \", one['Absolute Increase Standardized'].mean() * 100 ,' %')\n",
    "print(\"2 mean Abs Inc Standardized: \", two['Absolute Increase Standardized'].mean() * 100 ,' %')"
   ]
  },
  {
   "cell_type": "markdown",
   "metadata": {},
   "source": [
    "## Health Insur Covg % vs # of Cases of that zip"
   ]
  },
  {
   "cell_type": "code",
   "execution_count": 261,
   "metadata": {},
   "outputs": [
    {
     "data": {
      "image/png": "[encoded data removed]",
      "text/plain": [
       "<Figure size 432x288 with 1 Axes>"
      ]
     },
     "metadata": {
      "needs_background": "light"
     },
     "output_type": "display_data"
    }
   ],
   "source": [
    "ax1 = zero.plot(kind='scatter', x='Health insurance coverage, % of civilian pop', y='Cases', color='r')    #Zero schools r red\n",
    "ax2 = one.plot(kind='scatter', x='Health insurance coverage, % of civilian pop', y='Cases', color='g', ax=ax1)    #one schools r green\n",
    "ax3 = two.plot(kind='scatter', x='Health insurance coverage, % of civilian pop', y='Cases', color='b', ax=ax1)    #two schools r blue"
   ]
  },
  {
   "cell_type": "markdown",
   "metadata": {},
   "source": [
    "## Worked at home vs # of Cases"
   ]
  },
  {
   "cell_type": "code",
   "execution_count": 262,
   "metadata": {},
   "outputs": [
    {
     "data": {
      "image/png": "[encoded data removed]",
      "text/plain": [
       "<Figure size 432x288 with 1 Axes>"
      ]
     },
     "metadata": {
      "needs_background": "light"
     },
     "output_type": "display_data"
    }
   ],
   "source": [
    "ax1 = zero.plot(kind='scatter', x='Worked at home', y='Cases', color='r')    #Zero schools r red\n",
    "ax2 = one.plot(kind='scatter', x='Worked at home', y='Cases', color='g', ax=ax1)    #one schools r green\n",
    "ax3 = two.plot(kind='scatter', x='Worked at home', y='Cases', color='b', ax=ax1)    #two schools r blue"
   ]
  },
  {
   "cell_type": "markdown",
   "metadata": {},
   "source": [
    "## Mean Fam income vs # of cases"
   ]
  },
  {
   "cell_type": "code",
   "execution_count": 263,
   "metadata": {},
   "outputs": [
    {
     "data": {
      "image/png": "[encoded data removed]",
      "text/plain": [
       "<Figure size 432x288 with 1 Axes>"
      ]
     },
     "metadata": {
      "needs_background": "light"
     },
     "output_type": "display_data"
    }
   ],
   "source": [
    "ax1 = zero.plot(kind='scatter', x='Mean family income (dollars)', y='Cases', color='r')    #Zero schools r red\n",
    "ax2 = one.plot(kind='scatter', x='Mean family income (dollars)', y='Cases', color='g', ax=ax1)    #one schools r green\n",
    "ax3 = two.plot(kind='scatter', x='Mean family income (dollars)', y='Cases', color='b', ax=ax1)    #two schools r blue"
   ]
  },
  {
   "cell_type": "markdown",
   "metadata": {},
   "source": [
    "## Cumulative Enrollment vs # of Cases"
   ]
  },
  {
   "cell_type": "code",
   "execution_count": 264,
   "metadata": {},
   "outputs": [
    {
     "data": {
      "image/png": "[encoded data removed]",
      "text/plain": [
       "<Figure size 432x288 with 1 Axes>"
      ]
     },
     "metadata": {
      "needs_background": "light"
     },
     "output_type": "display_data"
    }
   ],
   "source": [
    "ax1 = zero.plot(kind='scatter', x='CumulativeEnrollment', y='Cases', color='r')    #Zero schools r red\n",
    "ax2 = one.plot(kind='scatter', x='CumulativeEnrollment', y='Cases', color='g', ax=ax1)    #one schools r green\n",
    "ax3 = two.plot(kind='scatter', x='CumulativeEnrollment', y='Cases', color='b', ax=ax1)    #two schools r blue"
   ]
  },
  {
   "cell_type": "code",
   "execution_count": 265,
   "metadata": {},
   "outputs": [
    {
     "name": "stdout",
     "output_type": "stream",
     "text": [
      "266 222 130\n"
     ]
    }
   ],
   "source": [
    "print(len(two),len(zero),len(one))"
   ]
  },
  {
   "cell_type": "markdown",
   "metadata": {},
   "source": [
    "## No Health Insurance pop vs # of cases"
   ]
  },
  {
   "cell_type": "code",
   "execution_count": 266,
   "metadata": {},
   "outputs": [
    {
     "data": {
      "image/png": "[encoded data removed]",
      "text/plain": [
       "<Figure size 432x288 with 1 Axes>"
      ]
     },
     "metadata": {
      "needs_background": "light"
     },
     "output_type": "display_data"
    }
   ],
   "source": [
    "ax1 = zero.plot(kind='scatter', x='No health insurance for civilian pop', y='Cases', color='r')    #Zero schools r red\n",
    "ax2 = one.plot(kind='scatter', x='No health insurance for civilian pop', y='Cases', color='g', ax=ax1)    #one schools r green\n",
    "ax3 = two.plot(kind='scatter', x='No health insurance for civilian pop', y='Cases', color='b', ax=ax1)    #two schools r blue"
   ]
  },
  {
   "cell_type": "markdown",
   "metadata": {},
   "source": [
    "## Households with income 35,000-99,999 vs Population 16+"
   ]
  },
  {
   "cell_type": "code",
   "execution_count": 267,
   "metadata": {},
   "outputs": [
    {
     "data": {
      "image/png": "[encoded data removed]",
      "text/plain": [
       "<Figure size 432x288 with 1 Axes>"
      ]
     },
     "metadata": {
      "needs_background": "light"
     },
     "output_type": "display_data"
    }
   ],
   "source": [
    "ax1 = zero.plot(kind='scatter', x='Households with income $35,000-99,999', y='Population 16+', color='r')    #Zero schools r red\n",
    "ax2 = one.plot(kind='scatter', x='Households with income $35,000-99,999', y='Population 16+', color='g', ax=ax1)    #one schools r green\n",
    "ax3 = two.plot(kind='scatter', x='Households with income $35,000-99,999', y='Population 16+', color='b', ax=ax1)    #two schools r blue"
   ]
  },
  {
   "cell_type": "markdown",
   "metadata": {},
   "source": [
    "* blue most at risk (2)\n",
    "* red middle (0)\n",
    "* green least at risk (1"
   ]
  },
  {
   "cell_type": "markdown",
   "metadata": {},
   "source": [
    "# Visualizations AFTER Standardized features"
   ]
  },
  {
   "cell_type": "markdown",
   "metadata": {},
   "source": [
    "## Health Insur Covg % vs Cases std"
   ]
  },
  {
   "cell_type": "code",
   "execution_count": 287,
   "metadata": {},
   "outputs": [
    {
     "data": {
      "image/png": "[encoded data removed]",
      "text/plain": [
       "<Figure size 432x288 with 1 Axes>"
      ]
     },
     "metadata": {
      "needs_background": "light"
     },
     "output_type": "display_data"
    }
   ],
   "source": [
    "ax1 = zero.plot(kind='scatter', x='Health insurance coverage, % of civilian pop', y='CasesSTD', color='r')    #Zero schools r red\n",
    "ax2 = one.plot(kind='scatter', x='Health insurance coverage, % of civilian pop', y='CasesSTD', color='g', ax=ax1)    #one schools r green\n",
    "ax3 = two.plot(kind='scatter', x='Health insurance coverage, % of civilian pop', y='CasesSTD', color='b', ax=ax1)    #two schools r blue"
   ]
  },
  {
   "cell_type": "markdown",
   "metadata": {},
   "source": [
    "## Population Vs Cases"
   ]
  },
  {
   "cell_type": "code",
   "execution_count": 285,
   "metadata": {},
   "outputs": [
    {
     "data": {
      "image/png": "[encoded data removed]",
      "text/plain": [
       "<Figure size 432x288 with 1 Axes>"
      ]
     },
     "metadata": {
      "needs_background": "light"
     },
     "output_type": "display_data"
    }
   ],
   "source": [
    "ax1 = zero.plot(kind='scatter', x='Population', y='Cases', color='r')    #Zero schools r red\n",
    "ax2 = one.plot(kind='scatter', x='Population', y='Cases', color='g', ax=ax1)    #one schools r green\n",
    "ax3 = two.plot(kind='scatter', x='Population', y='Cases', color='b', ax=ax1)    #two schools r blue"
   ]
  },
  {
   "cell_type": "markdown",
   "metadata": {},
   "source": [
    "## Worked At Home Standerdized vs Cases Standerdized"
   ]
  },
  {
   "cell_type": "code",
   "execution_count": 269,
   "metadata": {},
   "outputs": [
    {
     "data": {
      "image/png": "[encoded data removed]",
      "text/plain": [
       "<Figure size 432x288 with 1 Axes>"
      ]
     },
     "metadata": {
      "needs_background": "light"
     },
     "output_type": "display_data"
    }
   ],
   "source": [
    "ax1 = zero.plot(kind='scatter', x='WorkedAtHomeSTD', y='CasesSTD', color='r')    #Zero schools r red\n",
    "ax2 = one.plot(kind='scatter', x='WorkedAtHomeSTD', y='CasesSTD', color='g', ax=ax1)    #one schools r green\n",
    "ax3 = two.plot(kind='scatter', x='WorkedAtHomeSTD', y='CasesSTD', color='b', ax=ax1)    #two schools r blue"
   ]
  },
  {
   "cell_type": "markdown",
   "metadata": {},
   "source": [
    "## HouseholdsIncome0kto35kSTD vs Cases Standerdized"
   ]
  },
  {
   "cell_type": "code",
   "execution_count": 270,
   "metadata": {},
   "outputs": [
    {
     "data": {
      "image/png": "[encoded data removed]",
      "text/plain": [
       "<Figure size 432x288 with 1 Axes>"
      ]
     },
     "metadata": {
      "needs_background": "light"
     },
     "output_type": "display_data"
    }
   ],
   "source": [
    "ax1 = zero.plot(kind='scatter', x='HouseholdsIncome0kto35kSTD', y='CasesSTD', color='r')    #Zero schools r red\n",
    "ax2 = one.plot(kind='scatter', x='HouseholdsIncome0kto35kSTD', y='CasesSTD', color='g', ax=ax1)    #one schools r green\n",
    "ax3 = two.plot(kind='scatter', x='HouseholdsIncome0kto35kSTD', y='CasesSTD', color='b', ax=ax1)    #two schools r blue"
   ]
  },
  {
   "cell_type": "markdown",
   "metadata": {},
   "source": [
    "## HouseholdsIncome35kto100kSTD vs Cases Standerdized"
   ]
  },
  {
   "cell_type": "code",
   "execution_count": 271,
   "metadata": {},
   "outputs": [
    {
     "data": {
      "image/png": "[encoded data removed]",
      "text/plain": [
       "<Figure size 432x288 with 1 Axes>"
      ]
     },
     "metadata": {
      "needs_background": "light"
     },
     "output_type": "display_data"
    }
   ],
   "source": [
    "ax1 = zero.plot(kind='scatter', x='HouseholdsIncome35kto100kSTD', y='CasesSTD', color='r')    #Zero schools r red\n",
    "ax2 = one.plot(kind='scatter', x='HouseholdsIncome35kto100kSTD', y='CasesSTD', color='g', ax=ax1)    #one schools r green\n",
    "ax3 = two.plot(kind='scatter', x='HouseholdsIncome35kto100kSTD', y='CasesSTD', color='b', ax=ax1)    #two schools r blue"
   ]
  },
  {
   "cell_type": "markdown",
   "metadata": {},
   "source": [
    "## HouseholdsIncome100kPlusSTD vs Cases Standerdized"
   ]
  },
  {
   "cell_type": "code",
   "execution_count": 272,
   "metadata": {},
   "outputs": [
    {
     "data": {
      "image/png": "[encoded data removed]",
      "text/plain": [
       "<Figure size 432x288 with 1 Axes>"
      ]
     },
     "metadata": {
      "needs_background": "light"
     },
     "output_type": "display_data"
    }
   ],
   "source": [
    "ax1 = zero.plot(kind='scatter', x='HouseholdsIncome100kPlusSTD', y='CasesSTD', color='r')    #Zero schools r red\n",
    "ax2 = one.plot(kind='scatter', x='HouseholdsIncome100kPlusSTD', y='CasesSTD', color='g', ax=ax1)    #one schools r green\n",
    "ax3 = two.plot(kind='scatter', x='HouseholdsIncome100kPlusSTD', y='CasesSTD', color='b', ax=ax1)    #two schools r blue"
   ]
  },
  {
   "cell_type": "markdown",
   "metadata": {},
   "source": [
    "## Children of the household 6-17 vs Cases Standerdized"
   ]
  },
  {
   "cell_type": "code",
   "execution_count": 273,
   "metadata": {},
   "outputs": [
    {
     "data": {
      "image/png": "[encoded data removed]",
      "text/plain": [
       "<Figure size 432x288 with 1 Axes>"
      ]
     },
     "metadata": {
      "needs_background": "light"
     },
     "output_type": "display_data"
    }
   ],
   "source": [
    "ax1 = zero.plot(kind='scatter', x='Children of the household 6-17', y='CasesSTD', color='r')    #Zero schools r red\n",
    "ax2 = one.plot(kind='scatter', x='Children of the household 6-17', y='CasesSTD', color='g', ax=ax1)    #one schools r green\n",
    "ax3 = two.plot(kind='scatter', x='Children of the household 6-17', y='CasesSTD', color='b', ax=ax1)    #two schools r blue"
   ]
  },
  {
   "cell_type": "markdown",
   "metadata": {},
   "source": [
    "# Mean family income (dollars) vs Cases Standerdized"
   ]
  },
  {
   "cell_type": "code",
   "execution_count": 274,
   "metadata": {},
   "outputs": [
    {
     "data": {
      "image/png": "[encoded data removed]",
      "text/plain": [
       "<Figure size 432x288 with 1 Axes>"
      ]
     },
     "metadata": {
      "needs_background": "light"
     },
     "output_type": "display_data"
    }
   ],
   "source": [
    "ax1 = zero.plot(kind='scatter', x='Mean family income (dollars)', y='CasesSTD', color='r')    #Zero schools r red\n",
    "ax2 = one.plot(kind='scatter', x='Mean family income (dollars)', y='CasesSTD', color='g', ax=ax1)    #one schools r green\n",
    "ax3 = two.plot(kind='scatter', x='Mean family income (dollars)', y='CasesSTD', color='b', ax=ax1)    #two schools r blue"
   ]
  },
  {
   "cell_type": "markdown",
   "metadata": {},
   "source": [
    "## Latino% vs Cases std"
   ]
  },
  {
   "cell_type": "code",
   "execution_count": 283,
   "metadata": {},
   "outputs": [
    {
     "data": {
      "image/png": "[encoded data removed]",
      "text/plain": [
       "<Figure size 432x288 with 1 Axes>"
      ]
     },
     "metadata": {
      "needs_background": "light"
     },
     "output_type": "display_data"
    }
   ],
   "source": [
    "ax1 = zero.plot(kind='scatter', x='Latino%', y='CasesSTD', color='r')    #Zero schools r red\n",
    "ax2 = one.plot(kind='scatter', x='Latino%', y='CasesSTD', color='g', ax=ax1)    #one schools r green\n",
    "ax3 = two.plot(kind='scatter', x='Latino%', y='CasesSTD', color='b', ax=ax1)    #two schools r blue"
   ]
  },
  {
   "cell_type": "markdown",
   "metadata": {},
   "source": [
    "## CumulativeEnrollment vs Cases Std"
   ]
  },
  {
   "cell_type": "code",
   "execution_count": 282,
   "metadata": {},
   "outputs": [
    {
     "data": {
      "image/png": "[encoded data removed]",
      "text/plain": [
       "<Figure size 432x288 with 1 Axes>"
      ]
     },
     "metadata": {
      "needs_background": "light"
     },
     "output_type": "display_data"
    }
   ],
   "source": [
    "ax1 = zero.plot(kind='scatter', x='CumulativeEnrollment', y='CasesSTD', color='r')    #Zero schools r red\n",
    "ax2 = one.plot(kind='scatter', x='CumulativeEnrollment', y='CasesSTD', color='g', ax=ax1)    #one schools r green\n",
    "ax3 = two.plot(kind='scatter', x='CumulativeEnrollment', y='CasesSTD', color='b', ax=ax1)    #two schools r blue"
   ]
  },
  {
   "cell_type": "markdown",
   "metadata": {},
   "source": [
    "* red high\n",
    "* blue mid\n",
    "* green low"
   ]
  },
  {
   "cell_type": "code",
   "execution_count": 300,
   "metadata": {
    "scrolled": true
   },
   "outputs": [
    {
     "data": {
      "text/plain": [
       "2    16\n",
       "0     8\n",
       "1     4\n",
       "Name: predictions, dtype: int64"
      ]
     },
     "execution_count": 300,
     "metadata": {},
     "output_type": "execute_result"
    }
   ],
   "source": [
    "done_shorter[done_shorter['CumulativeEnrollment'] < 100]['predictions'].value_counts()"
   ]
  },
  {
   "cell_type": "code",
   "execution_count": 275,
   "metadata": {},
   "outputs": [
    {
     "data": {
      "text/plain": [
       "Index(['EILName', 'Latitude', 'Longitude', 'Address', 'Zipcode',\n",
       "       'School, District', 'DistrictName', 'CumulativeEnrollment', 'Latino%',\n",
       "       'Median family income (dollars)', 'Mean family income (dollars)',\n",
       "       'Health insurance coverage, % of civilian pop',\n",
       "       'No health insurance for civilian pop',\n",
       "       'No health insurance coverage %', 'Worked at home', 'Population 16+',\n",
       "       'Children of the household 6-17', 'Households with income $0-34,999',\n",
       "       'Households with income $35,000-99,999',\n",
       "       'Households with income $100,000+', 'Percent Increase',\n",
       "       'Absolute Increase Standardized', 'Cases', 'Population',\n",
       "       'WorkedAtHomeSTD', 'HouseholdsIncome0kto35kSTD',\n",
       "       'HouseholdsIncome35kto100kSTD', 'HouseholdsIncome100kPlusSTD',\n",
       "       'CasesSTD', 'predictions'],\n",
       "      dtype='object')"
      ]
     },
     "execution_count": 275,
     "metadata": {},
     "output_type": "execute_result"
    }
   ],
   "source": [
    "zero.columns"
   ]
  },
  {
   "cell_type": "code",
   "execution_count": 290,
   "metadata": {},
   "outputs": [],
   "source": [
    "corr = done_shorter.corr().drop(['Latitude','Longitude','No health insurance coverage %','Median family income (dollars)','Zipcode']).drop([\n",
    "    'Latitude','Longitude','No health insurance coverage %','Median family income (dollars)','Zipcode'],axis = 1)"
   ]
  },
  {
   "cell_type": "code",
   "execution_count": 291,
   "metadata": {
    "scrolled": true
   },
   "outputs": [
    {
     "data": {
      "text/plain": [
       "<matplotlib.axes._subplots.AxesSubplot at 0x2b19d966b38>"
      ]
     },
     "execution_count": 291,
     "metadata": {},
     "output_type": "execute_result"
    },
    {
     "data": {
      "image/png": "[encoded data removed]",
      "text/plain": [
       "<Figure size 432x288 with 2 Axes>"
      ]
     },
     "metadata": {
      "needs_background": "light"
     },
     "output_type": "display_data"
    }
   ],
   "source": [
    "import seaborn as sns \n",
    "  \n",
    "# generating correlation heatmap \n",
    "sns.heatmap(corr, annot = True) "
   ]
  },
  {
   "cell_type": "code",
   "execution_count": 278,
   "metadata": {},
   "outputs": [],
   "source": [
    "done_shorter.to_csv(r'C:/Users/Andrew Chin/border_chlng/Datasets/done_shorter.csv')"
   ]
  },
  {
   "cell_type": "code",
   "execution_count": null,
   "metadata": {},
   "outputs": [],
   "source": []
  }
 ],
 "metadata": {
  "kernelspec": {
   "display_name": "Python 3",
   "language": "python",
   "name": "python3"
  },
  "language_info": {
   "codemirror_mode": {
    "name": "ipython",
    "version": 3
   },
   "file_extension": ".py",
   "mimetype": "text/x-python",
   "name": "python",
   "nbconvert_exporter": "python",
   "pygments_lexer": "ipython3",
   "version": "3.7.3"
  }
 },
 "nbformat": 4,
 "nbformat_minor": 4
}
