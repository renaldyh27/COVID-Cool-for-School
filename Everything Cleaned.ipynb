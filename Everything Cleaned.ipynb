{
 "cells": [
  {
   "cell_type": "code",
   "execution_count": 270,
   "metadata": {},
   "outputs": [
    {
     "name": "stdout",
     "output_type": "stream",
     "text": [
      "The autoreload extension is already loaded. To reload it, use:\n",
      "  %reload_ext autoreload\n"
     ]
    }
   ],
   "source": [
    "%load_ext autoreload\n",
    "%autoreload 2\n",
    "\n",
    "%matplotlib inline\n",
    "import pandas as pd\n",
    "import numpy as np\n",
    "import seaborn as sns\n",
    "import os\n",
    "\n",
    "from sklearn.linear_model import LinearRegression\n",
    "from sklearn.preprocessing import FunctionTransformer\n",
    "from sklearn.preprocessing import OneHotEncoder\n",
    "from sklearn.pipeline import Pipeline\n",
    "from sklearn.compose import ColumnTransformer\n",
    "\n",
    "from sklearn.tree import DecisionTreeRegressor\n",
    "from sklearn.model_selection import train_test_split\n",
    "from sklearn.neighbors import KNeighborsRegressor\n",
    "from sklearn.model_selection import train_test_split"
   ]
  },
  {
   "cell_type": "code",
   "execution_count": 271,
   "metadata": {},
   "outputs": [],
   "source": [
    "from sklearn import preprocessing"
   ]
  },
  {
   "cell_type": "markdown",
   "metadata": {},
   "source": [
    "Benjamin: cumulative_enrollment, stats_sd\n",
    "\n",
    "Andrew: pubschools_info\n",
    "\n",
    "Alex: border_crossings"
   ]
  },
  {
   "cell_type": "code",
   "execution_count": 272,
   "metadata": {},
   "outputs": [],
   "source": [
    "border_crossings_path = os.path.join('Datasets', 'border_crossings.csv')\n",
    "border_crossings = pd.read_csv(border_crossings_path, low_memory=False)\n",
    "\n",
    "cumulative_enrollment_path = os.path.join('Datasets', 'cumulative_enrollment.csv')\n",
    "cumulative_enrollment = pd.read_csv(cumulative_enrollment_path, low_memory=False)\n",
    "\n",
    "pubschools_info_path = os.path.join('Datasets', 'pubschools_info.csv')\n",
    "pubschools_info = pd.read_csv(pubschools_info_path, low_memory=False)\n",
    "\n",
    "stats_sd_path = os.path.join('Datasets', 'COVID_19_Statistics_San_Diego_County.csv')\n",
    "stats_sd = pd.read_csv(stats_sd_path, low_memory=False)\n",
    "\n",
    "#I'm having a bit of trouble loading this one in for some reason, I'll check it out later.\n",
    "#age_stats_sd_path = os.path.join('Datasets', 'COVID-19_Age_Statistics_by_ZIP_Code')\n",
    "#age_stats_sd = pd.read_csv(age_stats_sd_path, low_memory=False)"
   ]
  },
  {
   "cell_type": "markdown",
   "metadata": {},
   "source": [
    "### Checklist:\n",
    "    1. Get dtypes in order\n",
    "        change dates to object datetime\n",
    "        natural numbers to int\n",
    "        decimals to float\n",
    "    2. Remove columns that are not relevant\n",
    "    3. Remove the unneeded symbols from string data\n",
    "    4. Replace null/blank/missing values with NaN\n",
    "    5. Look for and understand suspicious or out of place values for each column\n",
    "    6. Fill missing values or drop them as needed (for this one we can discuss among us which is the best method to deal with \n",
    "       missingness for each dataset, as there are a lot of ways to do them.\n",
    "                                        "
   ]
  },
  {
   "cell_type": "markdown",
   "metadata": {},
   "source": [
    "### Cumulative Enrollment"
   ]
  },
  {
   "cell_type": "code",
   "execution_count": 273,
   "metadata": {
    "scrolled": true
   },
   "outputs": [],
   "source": [
    "#Removed insignificant columns\n",
    "#Changed all * values (missing for student privacy) to NaN, rest of CumulativeEnrollment to float.\n",
    "cumulative_clean = cumulative_enrollment.drop([\"AcademicYear\", \"CountyCode\", \"DistrictCode\", \"SchoolCode\"], axis=1) #Dropped codes\n",
    "cumulative_clean[\"CumulativeEnrollment\"] = pd.to_numeric(cumulative_clean[\"CumulativeEnrollment\"], errors='coerce')"
   ]
  },
  {
   "cell_type": "code",
   "execution_count": 274,
   "metadata": {
    "scrolled": false
   },
   "outputs": [
    {
     "data": {
      "text/html": [
       "<div>\n",
       "<style scoped>\n",
       "    .dataframe tbody tr th:only-of-type {\n",
       "        vertical-align: middle;\n",
       "    }\n",
       "\n",
       "    .dataframe tbody tr th {\n",
       "        vertical-align: top;\n",
       "    }\n",
       "\n",
       "    .dataframe thead th {\n",
       "        text-align: right;\n",
       "    }\n",
       "</style>\n",
       "<table border=\"1\" class=\"dataframe\">\n",
       "  <thead>\n",
       "    <tr style=\"text-align: right;\">\n",
       "      <th></th>\n",
       "      <th>AggregateLevel</th>\n",
       "      <th>CountyName</th>\n",
       "      <th>DistrictName</th>\n",
       "      <th>SchoolName</th>\n",
       "      <th>Charter</th>\n",
       "      <th>ReportingCategory</th>\n",
       "      <th>CumulativeEnrollment</th>\n",
       "    </tr>\n",
       "  </thead>\n",
       "  <tbody>\n",
       "    <tr>\n",
       "      <th>0</th>\n",
       "      <td>S</td>\n",
       "      <td>Orange</td>\n",
       "      <td>Saddleback Valley Unified</td>\n",
       "      <td>Portola Hills Elementary</td>\n",
       "      <td>All</td>\n",
       "      <td>RA</td>\n",
       "      <td>90.0</td>\n",
       "    </tr>\n",
       "    <tr>\n",
       "      <th>1</th>\n",
       "      <td>S</td>\n",
       "      <td>Orange</td>\n",
       "      <td>Saddleback Valley Unified</td>\n",
       "      <td>Portola Hills Elementary</td>\n",
       "      <td>All</td>\n",
       "      <td>RB</td>\n",
       "      <td>NaN</td>\n",
       "    </tr>\n",
       "    <tr>\n",
       "      <th>2</th>\n",
       "      <td>S</td>\n",
       "      <td>Orange</td>\n",
       "      <td>Saddleback Valley Unified</td>\n",
       "      <td>Portola Hills Elementary</td>\n",
       "      <td>All</td>\n",
       "      <td>RD</td>\n",
       "      <td>NaN</td>\n",
       "    </tr>\n",
       "    <tr>\n",
       "      <th>3</th>\n",
       "      <td>S</td>\n",
       "      <td>Orange</td>\n",
       "      <td>Saddleback Valley Unified</td>\n",
       "      <td>Portola Hills Elementary</td>\n",
       "      <td>All</td>\n",
       "      <td>RF</td>\n",
       "      <td>18.0</td>\n",
       "    </tr>\n",
       "    <tr>\n",
       "      <th>4</th>\n",
       "      <td>S</td>\n",
       "      <td>Orange</td>\n",
       "      <td>Saddleback Valley Unified</td>\n",
       "      <td>Portola Hills Elementary</td>\n",
       "      <td>All</td>\n",
       "      <td>RH</td>\n",
       "      <td>110.0</td>\n",
       "    </tr>\n",
       "  </tbody>\n",
       "</table>\n",
       "</div>"
      ],
      "text/plain": [
       "  AggregateLevel CountyName               DistrictName  \\\n",
       "0              S     Orange  Saddleback Valley Unified   \n",
       "1              S     Orange  Saddleback Valley Unified   \n",
       "2              S     Orange  Saddleback Valley Unified   \n",
       "3              S     Orange  Saddleback Valley Unified   \n",
       "4              S     Orange  Saddleback Valley Unified   \n",
       "\n",
       "                 SchoolName Charter ReportingCategory  CumulativeEnrollment  \n",
       "0  Portola Hills Elementary     All                RA                  90.0  \n",
       "1  Portola Hills Elementary     All                RB                   NaN  \n",
       "2  Portola Hills Elementary     All                RD                   NaN  \n",
       "3  Portola Hills Elementary     All                RF                  18.0  \n",
       "4  Portola Hills Elementary     All                RH                 110.0  "
      ]
     },
     "execution_count": 274,
     "metadata": {},
     "output_type": "execute_result"
    }
   ],
   "source": [
    "cumulative_clean.head(5)"
   ]
  },
  {
   "cell_type": "markdown",
   "metadata": {},
   "source": [
    "### COVID-19 Stats in San Diego "
   ]
  },
  {
   "cell_type": "code",
   "execution_count": 275,
   "metadata": {
    "scrolled": true
   },
   "outputs": [
    {
     "data": {
      "text/html": [
       "<div>\n",
       "<style scoped>\n",
       "    .dataframe tbody tr th:only-of-type {\n",
       "        vertical-align: middle;\n",
       "    }\n",
       "\n",
       "    .dataframe tbody tr th {\n",
       "        vertical-align: top;\n",
       "    }\n",
       "\n",
       "    .dataframe thead th {\n",
       "        text-align: right;\n",
       "    }\n",
       "</style>\n",
       "<table border=\"1\" class=\"dataframe\">\n",
       "  <thead>\n",
       "    <tr style=\"text-align: right;\">\n",
       "      <th></th>\n",
       "      <th>X</th>\n",
       "      <th>Y</th>\n",
       "      <th>objectid</th>\n",
       "      <th>date</th>\n",
       "      <th>tests</th>\n",
       "      <th>positives</th>\n",
       "      <th>hospitalized</th>\n",
       "      <th>icu</th>\n",
       "      <th>deaths</th>\n",
       "      <th>newcases</th>\n",
       "      <th>...</th>\n",
       "      <th>age80_plus</th>\n",
       "      <th>ageunknow</th>\n",
       "      <th>age20_29</th>\n",
       "      <th>genderfemale</th>\n",
       "      <th>gendermale</th>\n",
       "      <th>gendeunk</th>\n",
       "      <th>age30_39</th>\n",
       "      <th>globalid</th>\n",
       "      <th>newtests</th>\n",
       "      <th>rolling_perc_pos_cases</th>\n",
       "    </tr>\n",
       "  </thead>\n",
       "  <tbody>\n",
       "    <tr>\n",
       "      <th>0</th>\n",
       "      <td>-1.299488e+07</td>\n",
       "      <td>3.899796e+06</td>\n",
       "      <td>59</td>\n",
       "      <td>2020-03-11 08:00:00+00:00</td>\n",
       "      <td>123.0</td>\n",
       "      <td>5</td>\n",
       "      <td>NaN</td>\n",
       "      <td>NaN</td>\n",
       "      <td>NaN</td>\n",
       "      <td>1</td>\n",
       "      <td>...</td>\n",
       "      <td>NaN</td>\n",
       "      <td>NaN</td>\n",
       "      <td>NaN</td>\n",
       "      <td>NaN</td>\n",
       "      <td>NaN</td>\n",
       "      <td>NaN</td>\n",
       "      <td>NaN</td>\n",
       "      <td>{78698F35-A6E9-48CB-8C8D-67A70EC15C1D}</td>\n",
       "      <td>NaN</td>\n",
       "      <td>NaN</td>\n",
       "    </tr>\n",
       "    <tr>\n",
       "      <th>1</th>\n",
       "      <td>-1.299488e+07</td>\n",
       "      <td>3.899796e+06</td>\n",
       "      <td>60</td>\n",
       "      <td>2020-03-12 08:00:00+00:00</td>\n",
       "      <td>147.0</td>\n",
       "      <td>10</td>\n",
       "      <td>NaN</td>\n",
       "      <td>NaN</td>\n",
       "      <td>NaN</td>\n",
       "      <td>5</td>\n",
       "      <td>...</td>\n",
       "      <td>NaN</td>\n",
       "      <td>NaN</td>\n",
       "      <td>NaN</td>\n",
       "      <td>NaN</td>\n",
       "      <td>NaN</td>\n",
       "      <td>NaN</td>\n",
       "      <td>NaN</td>\n",
       "      <td>{EFA2B0DB-A692-4632-8495-14B46E240096}</td>\n",
       "      <td>NaN</td>\n",
       "      <td>NaN</td>\n",
       "    </tr>\n",
       "    <tr>\n",
       "      <th>2</th>\n",
       "      <td>-1.299488e+07</td>\n",
       "      <td>3.899796e+06</td>\n",
       "      <td>61</td>\n",
       "      <td>2020-03-13 08:00:00+00:00</td>\n",
       "      <td>273.0</td>\n",
       "      <td>19</td>\n",
       "      <td>NaN</td>\n",
       "      <td>NaN</td>\n",
       "      <td>NaN</td>\n",
       "      <td>9</td>\n",
       "      <td>...</td>\n",
       "      <td>NaN</td>\n",
       "      <td>NaN</td>\n",
       "      <td>NaN</td>\n",
       "      <td>NaN</td>\n",
       "      <td>NaN</td>\n",
       "      <td>NaN</td>\n",
       "      <td>NaN</td>\n",
       "      <td>{AA7DF18A-6303-4758-A5F1-9B9CD4388A92}</td>\n",
       "      <td>52.0</td>\n",
       "      <td>NaN</td>\n",
       "    </tr>\n",
       "    <tr>\n",
       "      <th>3</th>\n",
       "      <td>-1.299488e+07</td>\n",
       "      <td>3.899796e+06</td>\n",
       "      <td>62</td>\n",
       "      <td>2020-03-14 08:00:00+00:00</td>\n",
       "      <td>288.0</td>\n",
       "      <td>25</td>\n",
       "      <td>12.0</td>\n",
       "      <td>NaN</td>\n",
       "      <td>NaN</td>\n",
       "      <td>6</td>\n",
       "      <td>...</td>\n",
       "      <td>NaN</td>\n",
       "      <td>NaN</td>\n",
       "      <td>NaN</td>\n",
       "      <td>NaN</td>\n",
       "      <td>NaN</td>\n",
       "      <td>NaN</td>\n",
       "      <td>NaN</td>\n",
       "      <td>{9A014068-714D-4FD4-B011-A16A1A49C07C}</td>\n",
       "      <td>14.0</td>\n",
       "      <td>NaN</td>\n",
       "    </tr>\n",
       "    <tr>\n",
       "      <th>4</th>\n",
       "      <td>-1.299488e+07</td>\n",
       "      <td>3.899796e+06</td>\n",
       "      <td>63</td>\n",
       "      <td>2020-03-15 08:00:00+00:00</td>\n",
       "      <td>313.0</td>\n",
       "      <td>37</td>\n",
       "      <td>10.0</td>\n",
       "      <td>NaN</td>\n",
       "      <td>NaN</td>\n",
       "      <td>12</td>\n",
       "      <td>...</td>\n",
       "      <td>NaN</td>\n",
       "      <td>NaN</td>\n",
       "      <td>NaN</td>\n",
       "      <td>NaN</td>\n",
       "      <td>NaN</td>\n",
       "      <td>NaN</td>\n",
       "      <td>NaN</td>\n",
       "      <td>{DA54D0B2-3C90-4FF2-8090-BE3BDB8C1B4E}</td>\n",
       "      <td>25.0</td>\n",
       "      <td>NaN</td>\n",
       "    </tr>\n",
       "  </tbody>\n",
       "</table>\n",
       "<p>5 rows × 26 columns</p>\n",
       "</div>"
      ],
      "text/plain": [
       "              X             Y  objectid                      date  tests  \\\n",
       "0 -1.299488e+07  3.899796e+06        59 2020-03-11 08:00:00+00:00  123.0   \n",
       "1 -1.299488e+07  3.899796e+06        60 2020-03-12 08:00:00+00:00  147.0   \n",
       "2 -1.299488e+07  3.899796e+06        61 2020-03-13 08:00:00+00:00  273.0   \n",
       "3 -1.299488e+07  3.899796e+06        62 2020-03-14 08:00:00+00:00  288.0   \n",
       "4 -1.299488e+07  3.899796e+06        63 2020-03-15 08:00:00+00:00  313.0   \n",
       "\n",
       "   positives  hospitalized  icu  deaths  newcases  ...  age80_plus  ageunknow  \\\n",
       "0          5           NaN  NaN     NaN         1  ...         NaN        NaN   \n",
       "1         10           NaN  NaN     NaN         5  ...         NaN        NaN   \n",
       "2         19           NaN  NaN     NaN         9  ...         NaN        NaN   \n",
       "3         25          12.0  NaN     NaN         6  ...         NaN        NaN   \n",
       "4         37          10.0  NaN     NaN        12  ...         NaN        NaN   \n",
       "\n",
       "   age20_29  genderfemale  gendermale  gendeunk  age30_39  \\\n",
       "0       NaN           NaN         NaN       NaN       NaN   \n",
       "1       NaN           NaN         NaN       NaN       NaN   \n",
       "2       NaN           NaN         NaN       NaN       NaN   \n",
       "3       NaN           NaN         NaN       NaN       NaN   \n",
       "4       NaN           NaN         NaN       NaN       NaN   \n",
       "\n",
       "                                 globalid  newtests  rolling_perc_pos_cases  \n",
       "0  {78698F35-A6E9-48CB-8C8D-67A70EC15C1D}       NaN                     NaN  \n",
       "1  {EFA2B0DB-A692-4632-8495-14B46E240096}       NaN                     NaN  \n",
       "2  {AA7DF18A-6303-4758-A5F1-9B9CD4388A92}      52.0                     NaN  \n",
       "3  {9A014068-714D-4FD4-B011-A16A1A49C07C}      14.0                     NaN  \n",
       "4  {DA54D0B2-3C90-4FF2-8090-BE3BDB8C1B4E}      25.0                     NaN  \n",
       "\n",
       "[5 rows x 26 columns]"
      ]
     },
     "execution_count": 275,
     "metadata": {},
     "output_type": "execute_result"
    }
   ],
   "source": [
    "stats_sd[\"date\"] = pd.to_datetime(stats_sd[\"date\"])\n",
    "stats_sd.head(5)"
   ]
  },
  {
   "cell_type": "markdown",
   "metadata": {},
   "source": [
    "### Border Crossing"
   ]
  },
  {
   "cell_type": "code",
   "execution_count": 276,
   "metadata": {
    "scrolled": false
   },
   "outputs": [
    {
     "data": {
      "text/html": [
       "<div>\n",
       "<style scoped>\n",
       "    .dataframe tbody tr th:only-of-type {\n",
       "        vertical-align: middle;\n",
       "    }\n",
       "\n",
       "    .dataframe tbody tr th {\n",
       "        vertical-align: top;\n",
       "    }\n",
       "\n",
       "    .dataframe thead th {\n",
       "        text-align: right;\n",
       "    }\n",
       "</style>\n",
       "<table border=\"1\" class=\"dataframe\">\n",
       "  <thead>\n",
       "    <tr style=\"text-align: right;\">\n",
       "      <th></th>\n",
       "      <th>Port Name</th>\n",
       "      <th>Measure</th>\n",
       "      <th>January</th>\n",
       "      <th>February</th>\n",
       "      <th>March</th>\n",
       "      <th>April</th>\n",
       "      <th>May</th>\n",
       "      <th>June</th>\n",
       "      <th>July</th>\n",
       "    </tr>\n",
       "  </thead>\n",
       "  <tbody>\n",
       "    <tr>\n",
       "      <th>0</th>\n",
       "      <td>Andrade</td>\n",
       "      <td>Pedestrians</td>\n",
       "      <td>113254</td>\n",
       "      <td>115655</td>\n",
       "      <td>75638</td>\n",
       "      <td>11190</td>\n",
       "      <td>23217</td>\n",
       "      <td>21886</td>\n",
       "      <td>19720</td>\n",
       "    </tr>\n",
       "    <tr>\n",
       "      <th>1</th>\n",
       "      <td>Andrade</td>\n",
       "      <td>Personal Vehicle Passengers</td>\n",
       "      <td>87090</td>\n",
       "      <td>82972</td>\n",
       "      <td>70204</td>\n",
       "      <td>29720</td>\n",
       "      <td>30962</td>\n",
       "      <td>29780</td>\n",
       "      <td>30439</td>\n",
       "    </tr>\n",
       "    <tr>\n",
       "      <th>2</th>\n",
       "      <td>Andrade</td>\n",
       "      <td>Personal Vehicles</td>\n",
       "      <td>46520</td>\n",
       "      <td>44277</td>\n",
       "      <td>39473</td>\n",
       "      <td>19102</td>\n",
       "      <td>18634</td>\n",
       "      <td>17926</td>\n",
       "      <td>18480</td>\n",
       "    </tr>\n",
       "    <tr>\n",
       "      <th>4</th>\n",
       "      <td>Brownsville</td>\n",
       "      <td>Bus Passengers</td>\n",
       "      <td>4467</td>\n",
       "      <td>3072</td>\n",
       "      <td>2572</td>\n",
       "      <td>405</td>\n",
       "      <td>776</td>\n",
       "      <td>1052</td>\n",
       "      <td>1200</td>\n",
       "    </tr>\n",
       "    <tr>\n",
       "      <th>5</th>\n",
       "      <td>Brownsville</td>\n",
       "      <td>Buses</td>\n",
       "      <td>508</td>\n",
       "      <td>469</td>\n",
       "      <td>419</td>\n",
       "      <td>134</td>\n",
       "      <td>178</td>\n",
       "      <td>201</td>\n",
       "      <td>206</td>\n",
       "    </tr>\n",
       "  </tbody>\n",
       "</table>\n",
       "</div>"
      ],
      "text/plain": [
       "     Port Name                      Measure  January  February  March  April  \\\n",
       "0      Andrade                  Pedestrians   113254    115655  75638  11190   \n",
       "1      Andrade  Personal Vehicle Passengers    87090     82972  70204  29720   \n",
       "2      Andrade            Personal Vehicles    46520     44277  39473  19102   \n",
       "4  Brownsville               Bus Passengers     4467      3072   2572    405   \n",
       "5  Brownsville                        Buses      508       469    419    134   \n",
       "\n",
       "     May   June   July  \n",
       "0  23217  21886  19720  \n",
       "1  30962  29780  30439  \n",
       "2  18634  17926  18480  \n",
       "4    776   1052   1200  \n",
       "5    178    201    206  "
      ]
     },
     "execution_count": 276,
     "metadata": {},
     "output_type": "execute_result"
    }
   ],
   "source": [
    "months = [\"January\", \"February\", \"March\", \"April\", \"May\", \"June\", \"July\"]\n",
    "border = pd.read_csv(\"Datasets/border_crossings.csv\")\n",
    "#Dropped nans\n",
    "border = border.dropna(axis=0)\n",
    "for month in months:\n",
    "    border[month] = border[month].str.replace(',', '').astype(int)\n",
    "border.head(5)"
   ]
  },
  {
   "cell_type": "markdown",
   "metadata": {},
   "source": [
    "### Public Schools"
   ]
  },
  {
   "cell_type": "code",
   "execution_count": 277,
   "metadata": {
    "scrolled": true
   },
   "outputs": [
    {
     "name": "stderr",
     "output_type": "stream",
     "text": [
      "c:\\users\\administrator\\appdata\\local\\programs\\python\\python38-32\\lib\\site-packages\\IPython\\core\\interactiveshell.py:3071: DtypeWarning: Columns (0) have mixed types.Specify dtype option on import or set low_memory=False.\n",
      "  has_raised = await self.run_ast_nodes(code_ast.body, cell_name,\n"
     ]
    }
   ],
   "source": [
    "schools = pd.read_csv('Datasets/pubschools_info.csv')\n",
    "\n",
    "schools = schools.loc[schools['County'] == 'San Diego']\n",
    "\n",
    "cols_to_drop = [\"NCESDist\",\"NCESSchool\",\"StreetAbr\",\"MailStreet\",\"MailStrAbr\",\"MailCity\",\n",
    "               \"MailZip\",\"MailState\",\"Ext\",\"FaxNumber\",\"Email\",\"Phone\",\"CharterNum\",\n",
    "                \"FundingType\",\"DOC\",\"DOCType\",\"EdOpsCode\",\"EdOpsName\",\"Magnet\",\"FederalDFCDistrictID\",\n",
    "                \"AdmFName\",\"AdmLName\",\"AdmEmail\",\"YearRoundYN\",'State',\n",
    "                 'District', 'OpenDate',\"SOC\", \"SOCType\",\"GSoffered\",\"GSserved\",'ClosedDate']\n",
    "\n",
    "schools = schools.drop(cols_to_drop, axis=1)"
   ]
  },
  {
   "cell_type": "code",
   "execution_count": 278,
   "metadata": {},
   "outputs": [
    {
     "name": "stderr",
     "output_type": "stream",
     "text": [
      "<ipython-input-278-f996a1a30d22>:3: SettingWithCopyWarning: \n",
      "A value is trying to be set on a copy of a slice from a DataFrame.\n",
      "Try using .loc[row_indexer,col_indexer] = value instead\n",
      "\n",
      "See the caveats in the documentation: https://pandas.pydata.org/pandas-docs/stable/user_guide/indexing.html#returning-a-view-versus-a-copy\n",
      "  clean3['LastUpDate'] = pd.to_datetime(clean3['LastUpDate']) #change lastUpDate to datetime obj col\n"
     ]
    }
   ],
   "source": [
    "clean1 = schools.loc[schools['StatusType'] == 'Active'] #Keeps only active schools\n",
    "clean3 = clean1.loc[clean1['School'] != 'No Data'] #drops district records - nonschools\n",
    "clean3['LastUpDate'] = pd.to_datetime(clean3['LastUpDate']) #change lastUpDate to datetime obj col\n",
    "clean3 = clean3.reset_index().drop('index',axis = 1)\n",
    "schools = clean3\n",
    "\n",
    "schools = schools.replace(\"No Data\",np.nan) #changed \"No Data\" into NaNs\n",
    "schools['Latitude'] = schools['Latitude'].astype(float) #changed latitutde to float dtype\n",
    "schools['Longitude'] = schools['Longitude'].astype(float) #changed longitude to float dtype\n",
    "schools = schools.drop(['StatusType','County'],axis = 1) #dropped statustype and county col since its all active and SD county\n",
    "\n",
    "# small_zip = schools['Zip'].str.slice(0,5).astype(float)\n",
    "# schools = schools.assign(SmallZip=small_zip)"
   ]
  },
  {
   "cell_type": "code",
   "execution_count": 279,
   "metadata": {},
   "outputs": [],
   "source": [
    "address = schools['Street'] + ',' + schools['City'] + \",CA,\" + schools['Zip'].str.slice(0,5)\n",
    "schools = schools.assign(Address = address).drop([\"Street\",'City'],axis = 1)\n",
    "schools = schools.assign(Zipcode = schools['Zip'].str.slice(0,5))\n",
    "schools['Zipcode'] = schools['Zipcode'].astype(int)"
   ]
  },
  {
   "cell_type": "code",
   "execution_count": 280,
   "metadata": {
    "scrolled": true
   },
   "outputs": [],
   "source": [
    "schools = schools.drop(columns=[\"Virtual\"], axis=1)"
   ]
  },
  {
   "cell_type": "code",
   "execution_count": 281,
   "metadata": {},
   "outputs": [],
   "source": [
    "type_of_schools = ['ELEM','HS','INTMIDJR','ELEMHIGH']\n",
    "schools = schools[schools.EILCode.isin(type_of_schools)]\n",
    "\n",
    "schools = schools.loc[schools['Charter'] == 'N']\n",
    "schools = schools.drop(['EILCode','Charter'],axis = 1)\n"
   ]
  },
  {
   "cell_type": "code",
   "execution_count": 282,
   "metadata": {},
   "outputs": [
    {
     "data": {
      "text/html": [
       "<div>\n",
       "<style scoped>\n",
       "    .dataframe tbody tr th:only-of-type {\n",
       "        vertical-align: middle;\n",
       "    }\n",
       "\n",
       "    .dataframe tbody tr th {\n",
       "        vertical-align: top;\n",
       "    }\n",
       "\n",
       "    .dataframe thead th {\n",
       "        text-align: right;\n",
       "    }\n",
       "</style>\n",
       "<table border=\"1\" class=\"dataframe\">\n",
       "  <thead>\n",
       "    <tr style=\"text-align: right;\">\n",
       "      <th></th>\n",
       "      <th>CDSCode</th>\n",
       "      <th>School</th>\n",
       "      <th>Zip</th>\n",
       "      <th>WebSite</th>\n",
       "      <th>EILName</th>\n",
       "      <th>Latitude</th>\n",
       "      <th>Longitude</th>\n",
       "      <th>LastUpDate</th>\n",
       "      <th>Address</th>\n",
       "      <th>Zipcode</th>\n",
       "    </tr>\n",
       "  </thead>\n",
       "  <tbody>\n",
       "    <tr>\n",
       "      <th>1</th>\n",
       "      <td>37103710115998</td>\n",
       "      <td>San Pasqual Academy</td>\n",
       "      <td>92025-5301</td>\n",
       "      <td>http://www.sanpasqualacademy.org</td>\n",
       "      <td>High School</td>\n",
       "      <td>33.090580</td>\n",
       "      <td>-116.95009</td>\n",
       "      <td>2019-02-13</td>\n",
       "      <td>17701 San Pasqual Valley Road,Escondido,CA,92025</td>\n",
       "      <td>92025</td>\n",
       "    </tr>\n",
       "    <tr>\n",
       "      <th>2</th>\n",
       "      <td>37103710120485</td>\n",
       "      <td>Davila Day</td>\n",
       "      <td>91910-3604</td>\n",
       "      <td>NaN</td>\n",
       "      <td>Elementary</td>\n",
       "      <td>32.635041</td>\n",
       "      <td>-117.08832</td>\n",
       "      <td>2019-02-13</td>\n",
       "      <td>540 G Street,Chula Vista,CA,91910</td>\n",
       "      <td>91910</td>\n",
       "    </tr>\n",
       "    <tr>\n",
       "      <th>3</th>\n",
       "      <td>37103710120493</td>\n",
       "      <td>Monarch</td>\n",
       "      <td>92113-1012</td>\n",
       "      <td>http://www.monarchschools.org</td>\n",
       "      <td>Elementary-High Combination</td>\n",
       "      <td>32.702375</td>\n",
       "      <td>-117.15045</td>\n",
       "      <td>2020-08-24</td>\n",
       "      <td>1625 Newton Avenue,San Diego,CA,92113</td>\n",
       "      <td>92113</td>\n",
       "    </tr>\n",
       "    <tr>\n",
       "      <th>4</th>\n",
       "      <td>37103710128520</td>\n",
       "      <td>San Diego County Community</td>\n",
       "      <td>92111-7399</td>\n",
       "      <td>http://www.sdcoe.net</td>\n",
       "      <td>Elementary-High Combination</td>\n",
       "      <td>32.769578</td>\n",
       "      <td>-117.17984</td>\n",
       "      <td>2020-08-21</td>\n",
       "      <td>6401 Linda Vista Road, Room 216,San Diego,CA,9...</td>\n",
       "      <td>92111</td>\n",
       "    </tr>\n",
       "    <tr>\n",
       "      <th>5</th>\n",
       "      <td>37103710128538</td>\n",
       "      <td>San Diego County Court</td>\n",
       "      <td>92123</td>\n",
       "      <td>http://www.sdcoe.net/jccs</td>\n",
       "      <td>High School</td>\n",
       "      <td>32.794147</td>\n",
       "      <td>-117.15396</td>\n",
       "      <td>2019-02-13</td>\n",
       "      <td>2801 Meadow Lark Drive,San Diego,CA,92123</td>\n",
       "      <td>92123</td>\n",
       "    </tr>\n",
       "    <tr>\n",
       "      <th>...</th>\n",
       "      <td>...</td>\n",
       "      <td>...</td>\n",
       "      <td>...</td>\n",
       "      <td>...</td>\n",
       "      <td>...</td>\n",
       "      <td>...</td>\n",
       "      <td>...</td>\n",
       "      <td>...</td>\n",
       "      <td>...</td>\n",
       "      <td>...</td>\n",
       "    </tr>\n",
       "    <tr>\n",
       "      <th>769</th>\n",
       "      <td>37756146112494</td>\n",
       "      <td>Valley Center Elementary</td>\n",
       "      <td>92082-6575</td>\n",
       "      <td>http://vceus.vcpusd.org</td>\n",
       "      <td>Elementary</td>\n",
       "      <td>33.234769</td>\n",
       "      <td>-117.02397</td>\n",
       "      <td>2019-08-21</td>\n",
       "      <td>28751 Cole Grade Road,Valley Center,CA,92082</td>\n",
       "      <td>92082</td>\n",
       "    </tr>\n",
       "    <tr>\n",
       "      <th>779</th>\n",
       "      <td>37768510110122</td>\n",
       "      <td>Bonsall West Elementary</td>\n",
       "      <td>92057-2704</td>\n",
       "      <td>http://www.bonsallusd.com</td>\n",
       "      <td>Elementary</td>\n",
       "      <td>33.263619</td>\n",
       "      <td>-117.29384</td>\n",
       "      <td>2020-08-13</td>\n",
       "      <td>5050 El Mirlo Drive,Oceanside,CA,92057</td>\n",
       "      <td>92057</td>\n",
       "    </tr>\n",
       "    <tr>\n",
       "      <th>780</th>\n",
       "      <td>37768510129320</td>\n",
       "      <td>Bonsall High</td>\n",
       "      <td>92003-4316</td>\n",
       "      <td>http://www.bonsallhs.com</td>\n",
       "      <td>High School</td>\n",
       "      <td>33.296238</td>\n",
       "      <td>-117.17648</td>\n",
       "      <td>2020-08-13</td>\n",
       "      <td>7350 West Lilac Road,Bonsall,CA,92003</td>\n",
       "      <td>92003</td>\n",
       "    </tr>\n",
       "    <tr>\n",
       "      <th>781</th>\n",
       "      <td>37768516037543</td>\n",
       "      <td>Bonsall Elementary</td>\n",
       "      <td>92003-5112</td>\n",
       "      <td>http://www.bonsallusd.com</td>\n",
       "      <td>Elementary</td>\n",
       "      <td>33.287143</td>\n",
       "      <td>-117.22078</td>\n",
       "      <td>2020-08-13</td>\n",
       "      <td>31555 Old River Road,Bonsall,CA,92003</td>\n",
       "      <td>92003</td>\n",
       "    </tr>\n",
       "    <tr>\n",
       "      <th>782</th>\n",
       "      <td>37768516108567</td>\n",
       "      <td>Norman L. Sullivan Middle</td>\n",
       "      <td>92003-5112</td>\n",
       "      <td>http://www.bonsallusd.com</td>\n",
       "      <td>Intermediate/Middle/Junior High</td>\n",
       "      <td>33.296116</td>\n",
       "      <td>-117.17507</td>\n",
       "      <td>2020-08-13</td>\n",
       "      <td>7350 West Lilac Road,Bonsall,CA,92003</td>\n",
       "      <td>92003</td>\n",
       "    </tr>\n",
       "  </tbody>\n",
       "</table>\n",
       "<p>634 rows × 10 columns</p>\n",
       "</div>"
      ],
      "text/plain": [
       "            CDSCode                      School         Zip  \\\n",
       "1    37103710115998         San Pasqual Academy  92025-5301   \n",
       "2    37103710120485                  Davila Day  91910-3604   \n",
       "3    37103710120493                     Monarch  92113-1012   \n",
       "4    37103710128520  San Diego County Community  92111-7399   \n",
       "5    37103710128538      San Diego County Court       92123   \n",
       "..              ...                         ...         ...   \n",
       "769  37756146112494    Valley Center Elementary  92082-6575   \n",
       "779  37768510110122     Bonsall West Elementary  92057-2704   \n",
       "780  37768510129320                Bonsall High  92003-4316   \n",
       "781  37768516037543          Bonsall Elementary  92003-5112   \n",
       "782  37768516108567   Norman L. Sullivan Middle  92003-5112   \n",
       "\n",
       "                              WebSite                          EILName  \\\n",
       "1    http://www.sanpasqualacademy.org                      High School   \n",
       "2                                 NaN                       Elementary   \n",
       "3       http://www.monarchschools.org      Elementary-High Combination   \n",
       "4                http://www.sdcoe.net      Elementary-High Combination   \n",
       "5           http://www.sdcoe.net/jccs                      High School   \n",
       "..                                ...                              ...   \n",
       "769           http://vceus.vcpusd.org                       Elementary   \n",
       "779         http://www.bonsallusd.com                       Elementary   \n",
       "780          http://www.bonsallhs.com                      High School   \n",
       "781         http://www.bonsallusd.com                       Elementary   \n",
       "782         http://www.bonsallusd.com  Intermediate/Middle/Junior High   \n",
       "\n",
       "      Latitude  Longitude LastUpDate  \\\n",
       "1    33.090580 -116.95009 2019-02-13   \n",
       "2    32.635041 -117.08832 2019-02-13   \n",
       "3    32.702375 -117.15045 2020-08-24   \n",
       "4    32.769578 -117.17984 2020-08-21   \n",
       "5    32.794147 -117.15396 2019-02-13   \n",
       "..         ...        ...        ...   \n",
       "769  33.234769 -117.02397 2019-08-21   \n",
       "779  33.263619 -117.29384 2020-08-13   \n",
       "780  33.296238 -117.17648 2020-08-13   \n",
       "781  33.287143 -117.22078 2020-08-13   \n",
       "782  33.296116 -117.17507 2020-08-13   \n",
       "\n",
       "                                               Address  Zipcode  \n",
       "1     17701 San Pasqual Valley Road,Escondido,CA,92025    92025  \n",
       "2                    540 G Street,Chula Vista,CA,91910    91910  \n",
       "3                1625 Newton Avenue,San Diego,CA,92113    92113  \n",
       "4    6401 Linda Vista Road, Room 216,San Diego,CA,9...    92111  \n",
       "5            2801 Meadow Lark Drive,San Diego,CA,92123    92123  \n",
       "..                                                 ...      ...  \n",
       "769       28751 Cole Grade Road,Valley Center,CA,92082    92082  \n",
       "779             5050 El Mirlo Drive,Oceanside,CA,92057    92057  \n",
       "780              7350 West Lilac Road,Bonsall,CA,92003    92003  \n",
       "781              31555 Old River Road,Bonsall,CA,92003    92003  \n",
       "782              7350 West Lilac Road,Bonsall,CA,92003    92003  \n",
       "\n",
       "[634 rows x 10 columns]"
      ]
     },
     "execution_count": 282,
     "metadata": {},
     "output_type": "execute_result"
    }
   ],
   "source": [
    "schools"
   ]
  },
  {
   "cell_type": "code",
   "execution_count": 283,
   "metadata": {},
   "outputs": [],
   "source": [
    "num_schools = len(schools)\n",
    "unique_small_zips = schools['Zipcode'].nunique()\n",
    "unique_zips = len(schools['Zip'].unique())\n",
    "total_zips = len(schools['Zip'])"
   ]
  },
  {
   "cell_type": "code",
   "execution_count": 284,
   "metadata": {},
   "outputs": [
    {
     "name": "stdout",
     "output_type": "stream",
     "text": [
      "There are 90 unique Zipcodes out of 634\n",
      "There are 577 unique Zips out of 634.\n"
     ]
    }
   ],
   "source": [
    "print(\"There are {} unique Zipcodes out of {}\".format(unique_small_zips, total_zips))\n",
    "print(\"There are {} unique Zips out of {}.\".format(unique_zips,total_zips))"
   ]
  },
  {
   "cell_type": "code",
   "execution_count": null,
   "metadata": {},
   "outputs": [],
   "source": []
  },
  {
   "attachments": {
    "image.png": {
     "image/png": "[encoded data removed]"
    }
   },
   "cell_type": "markdown",
   "metadata": {},
   "source": [
    "![image.png](attachment:image.png)"
   ]
  },
  {
   "cell_type": "markdown",
   "metadata": {},
   "source": [
    "### Incomes"
   ]
  },
  {
   "cell_type": "code",
   "execution_count": null,
   "metadata": {},
   "outputs": [],
   "source": [
    "incomes_path = os.path.join('Datasets', 'suave_income.csv')\n",
    "incomes = pd.read_csv(incomes_path, low_memory=False)"
   ]
  },
  {
   "cell_type": "code",
   "execution_count": null,
   "metadata": {
    "scrolled": true
   },
   "outputs": [],
   "source": [
    "incomes_classes = incomes[[\"ZIP\", \n",
    "         \"Hholds with income Less than $10,000#number\", \n",
    "         'Hholds with income $10,000 to $14,999#number',\n",
    "         'Hholds with income $15,000 to $24,999#number',\n",
    "         'Hholds with income $25,000 to $34,999#number',\n",
    "         'Hholds with income $35,000 to $49,999#number',\n",
    "         'Hholds with income $50,000 to $74,999#number',\n",
    "         'Hholds with income $75,000 to $99,999#number',\n",
    "         'Hholds with income $100,000 to $149,999#number',\n",
    "         'Hholds with income $150,000 to $199,999#number',\n",
    "         'Hholds with income $200,000 or more#number',\n",
    "         'Median family income (dollars)#number',\n",
    "         'Mean family income (dollars)#number',\n",
    "         'Health insurance coverage, % of civilian pop#number',\n",
    "         'No health insurance for civil pop#number',\n",
    "         'No health insurance coverage, %#number',\n",
    "         'Worked at home#number'\n",
    "         ]]\n",
    "incomes_clean = incomes_classes.copy()\n",
    "incomes_clean[\"Households with income $0-34,999\"] = (incomes_classes[\"Hholds with income Less than $10,000#number\"] \n",
    "                                               + incomes_classes[\"Hholds with income $10,000 to $14,999#number\"] \n",
    "                                               + incomes_classes[\"Hholds with income $15,000 to $24,999#number\"] \n",
    "                                               + incomes_classes[\"Hholds with income $25,000 to $34,999#number\"]\n",
    "                                              )\n",
    "incomes_clean[\"Households with income $35,000-99,999\"] = (incomes_classes[\"Hholds with income $35,000 to $49,999#number\"] \n",
    "                                               + incomes_classes[\"Hholds with income $50,000 to $74,999#number\"] \n",
    "                                               + incomes_classes[\"Hholds with income $75,000 to $99,999#number\"] \n",
    "                                              )\n",
    "incomes_clean[\"Households with income $100,000+\"] = (incomes_classes[\"Hholds with income $100,000 to $149,999#number\"] \n",
    "                                               + incomes_classes[\"Hholds with income $150,000 to $199,999#number\"]\n",
    "                                               + incomes_classes[\"Hholds with income $200,000 or more#number\"] \n",
    "                                              ) \n",
    "incomes_clean = incomes_clean.drop([\"Hholds with income Less than $10,000#number\", \n",
    "         'Hholds with income $10,000 to $14,999#number',\n",
    "         'Hholds with income $15,000 to $24,999#number',\n",
    "         'Hholds with income $25,000 to $34,999#number',\n",
    "         'Hholds with income $35,000 to $49,999#number',\n",
    "         'Hholds with income $50,000 to $74,999#number',\n",
    "         'Hholds with income $75,000 to $99,999#number',\n",
    "         'Hholds with income $100,000 to $149,999#number',\n",
    "         'Hholds with income $150,000 to $199,999#number',\n",
    "         'Hholds with income $200,000 or more#number',], axis=1)\n",
    "incomes_clean = incomes_clean.rename(columns={'Median family income (dollars)#number': 'Median family income (dollars)',\n",
    "                                             'Mean family income (dollars)#number' :'Mean family income (dollars)',\n",
    "                                             'Health insurance coverage, % of civilian pop#number':'Health insurance coverage, % of civilian pop',\n",
    "                                             'No health insurance for civil pop#number': 'No health insurance for civilian pop',\n",
    "                                             'No health insurance coverage, %#number': 'No health insurance coverage %',\n",
    "                                             'Worked at home#number': 'Worked at home',\n",
    "                                             'ZIP': 'Zipcode'})\n",
    "incomes_clean.head(5)"
   ]
  },
  {
   "cell_type": "markdown",
   "metadata": {},
   "source": [
    "### Cleaned Demographics Data"
   ]
  },
  {
   "cell_type": "code",
   "execution_count": null,
   "metadata": {
    "scrolled": true
   },
   "outputs": [],
   "source": [
    "cleaned_demo_path = os.path.join('Datasets', 'Cleaned_Demographics_Data.csv')\n",
    "cleaned_demo = pd.read_csv(cleaned_demo_path, low_memory=False)\n",
    "cleaned_demo.head(5)"
   ]
  },
  {
   "cell_type": "markdown",
   "metadata": {},
   "source": [
    "### Cleaned Cases by Zipcode"
   ]
  },
  {
   "cell_type": "code",
   "execution_count": null,
   "metadata": {},
   "outputs": [],
   "source": [
    "cleaned_cases_path = os.path.join('Datasets', 'Cleaned_Cases_by_Zipcode.csv')\n",
    "cleaned_cases = pd.read_csv(cleaned_cases_path, low_memory=False)\n",
    "#cleaned_cases = cleaned_cases.rename(columns={'Zipcode': 'Zip'})\n",
    "cleaned_cases"
   ]
  },
  {
   "cell_type": "markdown",
   "metadata": {},
   "source": [
    "# Data Exploration"
   ]
  },
  {
   "cell_type": "code",
   "execution_count": null,
   "metadata": {
    "scrolled": false
   },
   "outputs": [],
   "source": [
    "cleaned_cases#shape[0]"
   ]
  },
  {
   "cell_type": "code",
   "execution_count": null,
   "metadata": {
    "scrolled": true
   },
   "outputs": [],
   "source": [
    "incomes_clean#.shape[0]"
   ]
  },
  {
   "cell_type": "code",
   "execution_count": null,
   "metadata": {
    "scrolled": true
   },
   "outputs": [],
   "source": [
    "zips = schools[\"Zipcode\"].unique()"
   ]
  },
  {
   "cell_type": "code",
   "execution_count": null,
   "metadata": {},
   "outputs": [],
   "source": [
    "final = schools.merge(incomes_clean)\n",
    "#final = schools_income.merge(cleaned_cases)"
   ]
  },
  {
   "cell_type": "code",
   "execution_count": null,
   "metadata": {
    "scrolled": false
   },
   "outputs": [],
   "source": [
    "final"
   ]
  },
  {
   "cell_type": "code",
   "execution_count": null,
   "metadata": {},
   "outputs": [],
   "source": [
    "cumulative_clean = cumulative_clean[cumulative_clean[\"AggregateLevel\"] == \"S\"]"
   ]
  },
  {
   "cell_type": "code",
   "execution_count": null,
   "metadata": {},
   "outputs": [],
   "source": [
    "cumulative_clean = cumulative_clean[cumulative_clean[\"CountyName\"] == \"San Diego\"]\n",
    "cumulative_clean = cumulative_clean.rename(columns={'SchoolName': \"School\"})\n",
    "cumulative_clean = cumulative_clean[cumulative_clean[\"ReportingCategory\"] == \"TA\"]"
   ]
  },
  {
   "cell_type": "code",
   "execution_count": null,
   "metadata": {},
   "outputs": [],
   "source": [
    "cumulative_clean = cumulative_clean[cumulative_clean[\"Charter\"] == \"No \"]"
   ]
  },
  {
   "cell_type": "code",
   "execution_count": null,
   "metadata": {
    "scrolled": true
   },
   "outputs": [],
   "source": [
    "cumulative_clean = cumulative_clean.drop([\"Charter\"], axis=1)"
   ]
  },
  {
   "cell_type": "code",
   "execution_count": null,
   "metadata": {
    "scrolled": true
   },
   "outputs": [],
   "source": [
    "merged = cumulative_clean.merge(final, on=\"School\")"
   ]
  },
  {
   "cell_type": "code",
   "execution_count": null,
   "metadata": {
    "scrolled": false
   },
   "outputs": [],
   "source": [
    "merged"
   ]
  },
  {
   "cell_type": "code",
   "execution_count": null,
   "metadata": {},
   "outputs": [],
   "source": [
    "merged.to_csv(r'C:/Users/Administrator/Data Challenge/border_chlng/Datasets/schools_data.csv')"
   ]
  }
 ],
 "metadata": {
  "kernelspec": {
   "display_name": "Python 3",
   "language": "python",
   "name": "python3"
  },
  "language_info": {
   "codemirror_mode": {
    "name": "ipython",
    "version": 3
   },
   "file_extension": ".py",
   "mimetype": "text/x-python",
   "name": "python",
   "nbconvert_exporter": "python",
   "pygments_lexer": "ipython3",
   "version": "3.8.4"
  }
 },
 "nbformat": 4,
 "nbformat_minor": 4
}
