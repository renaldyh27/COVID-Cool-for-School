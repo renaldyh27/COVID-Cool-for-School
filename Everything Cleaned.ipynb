{
 "cells": [
  {
   "cell_type": "code",
   "execution_count": 639,
   "metadata": {},
   "outputs": [
    {
     "name": "stdout",
     "output_type": "stream",
     "text": [
      "The autoreload extension is already loaded. To reload it, use:\n",
      "  %reload_ext autoreload\n"
     ]
    }
   ],
   "source": [
    "%load_ext autoreload\n",
    "%autoreload 2\n",
    "\n",
    "%matplotlib inline\n",
    "import pandas as pd\n",
    "import numpy as np\n",
    "import seaborn as sns\n",
    "import os\n",
    "\n",
    "from sklearn.linear_model import LinearRegression\n",
    "from sklearn.preprocessing import FunctionTransformer\n",
    "from sklearn.preprocessing import OneHotEncoder\n",
    "from sklearn.pipeline import Pipeline\n",
    "from sklearn.compose import ColumnTransformer\n",
    "\n",
    "from sklearn.tree import DecisionTreeRegressor\n",
    "from sklearn.model_selection import train_test_split\n",
    "from sklearn.neighbors import KNeighborsRegressor\n",
    "from sklearn.model_selection import train_test_split"
   ]
  },
  {
   "cell_type": "code",
   "execution_count": 640,
   "metadata": {},
   "outputs": [],
   "source": [
    "from sklearn import preprocessing"
   ]
  },
  {
   "cell_type": "markdown",
   "metadata": {},
   "source": [
    "Benjamin: cumulative_enrollment, stats_sd\n",
    "\n",
    "Andrew: pubschools_info\n",
    "\n",
    "Alex: border_crossings"
   ]
  },
  {
   "cell_type": "code",
   "execution_count": 641,
   "metadata": {},
   "outputs": [],
   "source": [
    "border_crossings_path = os.path.join('Datasets', 'border_crossings.csv')\n",
    "border_crossings = pd.read_csv(border_crossings_path, low_memory=False)\n",
    "\n",
    "cumulative_enrollment_path = os.path.join('Datasets', 'cumulative_enrollment.csv')\n",
    "cumulative_enrollment = pd.read_csv(cumulative_enrollment_path, low_memory=False)\n",
    "\n",
    "pubschools_info_path = os.path.join('Datasets', 'pubschools_info.csv')\n",
    "pubschools_info = pd.read_csv(pubschools_info_path, low_memory=False)\n",
    "\n",
    "stats_sd_path = os.path.join('Datasets', 'COVID_19_Statistics_San_Diego_County.csv')\n",
    "stats_sd = pd.read_csv(stats_sd_path, low_memory=False)\n",
    "\n",
    "#I'm having a bit of trouble loading this one in for some reason, I'll check it out later.\n",
    "#age_stats_sd_path = os.path.join('Datasets', 'COVID-19_Age_Statistics_by_ZIP_Code')\n",
    "#age_stats_sd = pd.read_csv(age_stats_sd_path, low_memory=False)"
   ]
  },
  {
   "cell_type": "markdown",
   "metadata": {},
   "source": [
    "### Checklist:\n",
    "    1. Get dtypes in order\n",
    "        change dates to object datetime\n",
    "        natural numbers to int\n",
    "        decimals to float\n",
    "    2. Remove columns that are not relevant\n",
    "    3. Remove the unneeded symbols from string data\n",
    "    4. Replace null/blank/missing values with NaN\n",
    "    5. Look for and understand suspicious or out of place values for each column\n",
    "    6. Fill missing values or drop them as needed (for this one we can discuss among us which is the best method to deal with \n",
    "       missingness for each dataset, as there are a lot of ways to do them.\n",
    "                                        "
   ]
  },
  {
   "cell_type": "markdown",
   "metadata": {},
   "source": [
    "### Cumulative Enrollment"
   ]
  },
  {
   "cell_type": "code",
   "execution_count": 642,
   "metadata": {
    "scrolled": true
   },
   "outputs": [],
   "source": [
    "#Removed insignificant columns\n",
    "#Changed all * values (missing for student privacy) to NaN, rest of CumulativeEnrollment to float.\n",
    "cumulative_clean = cumulative_enrollment.drop([\"AcademicYear\", \"CountyCode\", \"DistrictCode\", \"SchoolCode\"], axis=1) #Dropped codes\n",
    "cumulative_clean[\"CumulativeEnrollment\"] = pd.to_numeric(cumulative_clean[\"CumulativeEnrollment\"], errors='coerce')"
   ]
  },
  {
   "cell_type": "code",
   "execution_count": null,
   "metadata": {},
   "outputs": [],
   "source": []
  },
  {
   "cell_type": "code",
   "execution_count": 643,
   "metadata": {},
   "outputs": [],
   "source": [
    "cumulative_clean[\"School, District\"] = cumulative_clean[\"SchoolName\"] + \", \" + cumulative_clean[\"DistrictName\"]"
   ]
  },
  {
   "cell_type": "code",
   "execution_count": 644,
   "metadata": {},
   "outputs": [
    {
     "data": {
      "text/html": [
       "<div>\n",
       "<style scoped>\n",
       "    .dataframe tbody tr th:only-of-type {\n",
       "        vertical-align: middle;\n",
       "    }\n",
       "\n",
       "    .dataframe tbody tr th {\n",
       "        vertical-align: top;\n",
       "    }\n",
       "\n",
       "    .dataframe thead th {\n",
       "        text-align: right;\n",
       "    }\n",
       "</style>\n",
       "<table border=\"1\" class=\"dataframe\">\n",
       "  <thead>\n",
       "    <tr style=\"text-align: right;\">\n",
       "      <th></th>\n",
       "      <th>AggregateLevel</th>\n",
       "      <th>CountyName</th>\n",
       "      <th>DistrictName</th>\n",
       "      <th>SchoolName</th>\n",
       "      <th>Charter</th>\n",
       "      <th>ReportingCategory</th>\n",
       "      <th>CumulativeEnrollment</th>\n",
       "      <th>School, District</th>\n",
       "    </tr>\n",
       "  </thead>\n",
       "  <tbody>\n",
       "    <tr>\n",
       "      <th>0</th>\n",
       "      <td>S</td>\n",
       "      <td>Orange</td>\n",
       "      <td>Saddleback Valley Unified</td>\n",
       "      <td>Portola Hills Elementary</td>\n",
       "      <td>All</td>\n",
       "      <td>RA</td>\n",
       "      <td>90.0</td>\n",
       "      <td>Portola Hills Elementary, Saddleback Valley Un...</td>\n",
       "    </tr>\n",
       "    <tr>\n",
       "      <th>1</th>\n",
       "      <td>S</td>\n",
       "      <td>Orange</td>\n",
       "      <td>Saddleback Valley Unified</td>\n",
       "      <td>Portola Hills Elementary</td>\n",
       "      <td>All</td>\n",
       "      <td>RB</td>\n",
       "      <td>NaN</td>\n",
       "      <td>Portola Hills Elementary, Saddleback Valley Un...</td>\n",
       "    </tr>\n",
       "    <tr>\n",
       "      <th>2</th>\n",
       "      <td>S</td>\n",
       "      <td>Orange</td>\n",
       "      <td>Saddleback Valley Unified</td>\n",
       "      <td>Portola Hills Elementary</td>\n",
       "      <td>All</td>\n",
       "      <td>RD</td>\n",
       "      <td>NaN</td>\n",
       "      <td>Portola Hills Elementary, Saddleback Valley Un...</td>\n",
       "    </tr>\n",
       "    <tr>\n",
       "      <th>3</th>\n",
       "      <td>S</td>\n",
       "      <td>Orange</td>\n",
       "      <td>Saddleback Valley Unified</td>\n",
       "      <td>Portola Hills Elementary</td>\n",
       "      <td>All</td>\n",
       "      <td>RF</td>\n",
       "      <td>18.0</td>\n",
       "      <td>Portola Hills Elementary, Saddleback Valley Un...</td>\n",
       "    </tr>\n",
       "    <tr>\n",
       "      <th>4</th>\n",
       "      <td>S</td>\n",
       "      <td>Orange</td>\n",
       "      <td>Saddleback Valley Unified</td>\n",
       "      <td>Portola Hills Elementary</td>\n",
       "      <td>All</td>\n",
       "      <td>RH</td>\n",
       "      <td>110.0</td>\n",
       "      <td>Portola Hills Elementary, Saddleback Valley Un...</td>\n",
       "    </tr>\n",
       "    <tr>\n",
       "      <th>...</th>\n",
       "      <td>...</td>\n",
       "      <td>...</td>\n",
       "      <td>...</td>\n",
       "      <td>...</td>\n",
       "      <td>...</td>\n",
       "      <td>...</td>\n",
       "      <td>...</td>\n",
       "      <td>...</td>\n",
       "    </tr>\n",
       "    <tr>\n",
       "      <th>355142</th>\n",
       "      <td>C</td>\n",
       "      <td>Imperial</td>\n",
       "      <td>NaN</td>\n",
       "      <td>NaN</td>\n",
       "      <td>No</td>\n",
       "      <td>TA</td>\n",
       "      <td>38536.0</td>\n",
       "      <td>NaN</td>\n",
       "    </tr>\n",
       "    <tr>\n",
       "      <th>355143</th>\n",
       "      <td>C</td>\n",
       "      <td>San Mateo</td>\n",
       "      <td>NaN</td>\n",
       "      <td>NaN</td>\n",
       "      <td>No</td>\n",
       "      <td>TA</td>\n",
       "      <td>88986.0</td>\n",
       "      <td>NaN</td>\n",
       "    </tr>\n",
       "    <tr>\n",
       "      <th>355144</th>\n",
       "      <td>C</td>\n",
       "      <td>Santa Barbara</td>\n",
       "      <td>NaN</td>\n",
       "      <td>NaN</td>\n",
       "      <td>No</td>\n",
       "      <td>TA</td>\n",
       "      <td>66537.0</td>\n",
       "      <td>NaN</td>\n",
       "    </tr>\n",
       "    <tr>\n",
       "      <th>355145</th>\n",
       "      <td>C</td>\n",
       "      <td>Kern</td>\n",
       "      <td>NaN</td>\n",
       "      <td>NaN</td>\n",
       "      <td>No</td>\n",
       "      <td>TA</td>\n",
       "      <td>183911.0</td>\n",
       "      <td>NaN</td>\n",
       "    </tr>\n",
       "    <tr>\n",
       "      <th>355146</th>\n",
       "      <td>T</td>\n",
       "      <td>State</td>\n",
       "      <td>NaN</td>\n",
       "      <td>NaN</td>\n",
       "      <td>No</td>\n",
       "      <td>TA</td>\n",
       "      <td>5678140.0</td>\n",
       "      <td>NaN</td>\n",
       "    </tr>\n",
       "  </tbody>\n",
       "</table>\n",
       "<p>355147 rows × 8 columns</p>\n",
       "</div>"
      ],
      "text/plain": [
       "       AggregateLevel     CountyName               DistrictName  \\\n",
       "0                   S         Orange  Saddleback Valley Unified   \n",
       "1                   S         Orange  Saddleback Valley Unified   \n",
       "2                   S         Orange  Saddleback Valley Unified   \n",
       "3                   S         Orange  Saddleback Valley Unified   \n",
       "4                   S         Orange  Saddleback Valley Unified   \n",
       "...               ...            ...                        ...   \n",
       "355142              C       Imperial                        NaN   \n",
       "355143              C      San Mateo                        NaN   \n",
       "355144              C  Santa Barbara                        NaN   \n",
       "355145              C           Kern                        NaN   \n",
       "355146              T          State                        NaN   \n",
       "\n",
       "                      SchoolName Charter ReportingCategory  \\\n",
       "0       Portola Hills Elementary     All                RA   \n",
       "1       Portola Hills Elementary     All                RB   \n",
       "2       Portola Hills Elementary     All                RD   \n",
       "3       Portola Hills Elementary     All                RF   \n",
       "4       Portola Hills Elementary     All                RH   \n",
       "...                          ...     ...               ...   \n",
       "355142                       NaN     No                 TA   \n",
       "355143                       NaN     No                 TA   \n",
       "355144                       NaN     No                 TA   \n",
       "355145                       NaN     No                 TA   \n",
       "355146                       NaN     No                 TA   \n",
       "\n",
       "        CumulativeEnrollment  \\\n",
       "0                       90.0   \n",
       "1                        NaN   \n",
       "2                        NaN   \n",
       "3                       18.0   \n",
       "4                      110.0   \n",
       "...                      ...   \n",
       "355142               38536.0   \n",
       "355143               88986.0   \n",
       "355144               66537.0   \n",
       "355145              183911.0   \n",
       "355146             5678140.0   \n",
       "\n",
       "                                         School, District  \n",
       "0       Portola Hills Elementary, Saddleback Valley Un...  \n",
       "1       Portola Hills Elementary, Saddleback Valley Un...  \n",
       "2       Portola Hills Elementary, Saddleback Valley Un...  \n",
       "3       Portola Hills Elementary, Saddleback Valley Un...  \n",
       "4       Portola Hills Elementary, Saddleback Valley Un...  \n",
       "...                                                   ...  \n",
       "355142                                                NaN  \n",
       "355143                                                NaN  \n",
       "355144                                                NaN  \n",
       "355145                                                NaN  \n",
       "355146                                                NaN  \n",
       "\n",
       "[355147 rows x 8 columns]"
      ]
     },
     "execution_count": 644,
     "metadata": {},
     "output_type": "execute_result"
    }
   ],
   "source": [
    "cumulative_clean"
   ]
  },
  {
   "cell_type": "markdown",
   "metadata": {},
   "source": [
    "### COVID-19 Stats in San Diego "
   ]
  },
  {
   "cell_type": "code",
   "execution_count": 645,
   "metadata": {
    "scrolled": true
   },
   "outputs": [],
   "source": [
    "stats_sd[\"date\"] = pd.to_datetime(stats_sd[\"date\"])"
   ]
  },
  {
   "cell_type": "markdown",
   "metadata": {},
   "source": [
    "### Border Crossing"
   ]
  },
  {
   "cell_type": "code",
   "execution_count": 646,
   "metadata": {
    "scrolled": false
   },
   "outputs": [],
   "source": [
    "months = [\"January\", \"February\", \"March\", \"April\", \"May\", \"June\", \"July\"]\n",
    "border = pd.read_csv(\"Datasets/border_crossings.csv\")\n",
    "#Dropped nans\n",
    "border = border.dropna(axis=0)\n",
    "for month in months:\n",
    "    border[month] = border[month].str.replace(',', '').astype(int)"
   ]
  },
  {
   "cell_type": "markdown",
   "metadata": {},
   "source": [
    "### Public Schools"
   ]
  },
  {
   "cell_type": "code",
   "execution_count": 647,
   "metadata": {
    "scrolled": true
   },
   "outputs": [
    {
     "name": "stderr",
     "output_type": "stream",
     "text": [
      "c:\\users\\administrator\\appdata\\local\\programs\\python\\python38-32\\lib\\site-packages\\IPython\\core\\interactiveshell.py:3071: DtypeWarning: Columns (0) have mixed types.Specify dtype option on import or set low_memory=False.\n",
      "  has_raised = await self.run_ast_nodes(code_ast.body, cell_name,\n"
     ]
    }
   ],
   "source": [
    "schools = pd.read_csv('Datasets/pubschools_info.csv')\n",
    "\n",
    "schools = schools.loc[schools['County'] == 'San Diego']\n",
    "\n",
    "cols_to_drop = [\"NCESDist\",\"NCESSchool\",\"StreetAbr\",\"MailStreet\",\"MailStrAbr\",\"MailCity\",\n",
    "               \"MailZip\",\"MailState\",\"Ext\",\"FaxNumber\",\"Email\",\"Phone\",\"CharterNum\",\n",
    "                \"FundingType\",\"DOC\",\"DOCType\",\"EdOpsCode\",\"EdOpsName\",\"Magnet\",\"FederalDFCDistrictID\",\n",
    "                \"AdmFName\",\"AdmLName\",\"AdmEmail\",\"YearRoundYN\",'State', \n",
    "                'OpenDate',\"SOC\", \"SOCType\",\"GSoffered\",\"GSserved\",'ClosedDate']\n",
    "\n",
    "schools = schools.drop(cols_to_drop, axis=1)"
   ]
  },
  {
   "cell_type": "code",
   "execution_count": 648,
   "metadata": {},
   "outputs": [
    {
     "name": "stderr",
     "output_type": "stream",
     "text": [
      "<ipython-input-648-f996a1a30d22>:3: SettingWithCopyWarning: \n",
      "A value is trying to be set on a copy of a slice from a DataFrame.\n",
      "Try using .loc[row_indexer,col_indexer] = value instead\n",
      "\n",
      "See the caveats in the documentation: https://pandas.pydata.org/pandas-docs/stable/user_guide/indexing.html#returning-a-view-versus-a-copy\n",
      "  clean3['LastUpDate'] = pd.to_datetime(clean3['LastUpDate']) #change lastUpDate to datetime obj col\n"
     ]
    }
   ],
   "source": [
    "clean1 = schools.loc[schools['StatusType'] == 'Active'] #Keeps only active schools\n",
    "clean3 = clean1.loc[clean1['School'] != 'No Data'] #drops district records - nonschools\n",
    "clean3['LastUpDate'] = pd.to_datetime(clean3['LastUpDate']) #change lastUpDate to datetime obj col\n",
    "clean3 = clean3.reset_index().drop('index',axis = 1)\n",
    "schools = clean3\n",
    "\n",
    "schools = schools.replace(\"No Data\",np.nan) #changed \"No Data\" into NaNs\n",
    "schools['Latitude'] = schools['Latitude'].astype(float) #changed latitutde to float dtype\n",
    "schools['Longitude'] = schools['Longitude'].astype(float) #changed longitude to float dtype\n",
    "schools = schools.drop(['StatusType','County'],axis = 1) #dropped statustype and county col since its all active and SD county\n",
    "\n",
    "# small_zip = schools['Zip'].str.slice(0,5).astype(float)\n",
    "# schools = schools.assign(SmallZip=small_zip)"
   ]
  },
  {
   "cell_type": "code",
   "execution_count": 649,
   "metadata": {},
   "outputs": [],
   "source": [
    "address = schools['Street'] + ',' + schools['City'] + \",CA,\" + schools['Zip'].str.slice(0,5)\n",
    "schools = schools.assign(Address = address).drop([\"Street\",'City'],axis = 1)\n",
    "schools = schools.assign(Zipcode = schools['Zip'].str.slice(0,5))\n",
    "schools['Zipcode'] = schools['Zipcode'].astype(int)"
   ]
  },
  {
   "cell_type": "code",
   "execution_count": 650,
   "metadata": {
    "scrolled": true
   },
   "outputs": [],
   "source": [
    "schools = schools.drop(columns=[\"Virtual\"], axis=1)"
   ]
  },
  {
   "cell_type": "code",
   "execution_count": 651,
   "metadata": {},
   "outputs": [],
   "source": [
    "type_of_schools = ['ELEM','HS','INTMIDJR','ELEMHIGH']\n",
    "schools = schools[schools.EILCode.isin(type_of_schools)]\n",
    "\n",
    "schools = schools.loc[schools['Charter'] == 'N']\n",
    "schools = schools.drop(['EILCode','Charter'],axis = 1)\n"
   ]
  },
  {
   "cell_type": "code",
   "execution_count": 652,
   "metadata": {},
   "outputs": [],
   "source": [
    "num_schools = len(schools)\n",
    "unique_small_zips = schools['Zipcode'].nunique()\n",
    "unique_zips = len(schools['Zip'].unique())\n",
    "total_zips = len(schools['Zip'])"
   ]
  },
  {
   "cell_type": "code",
   "execution_count": 653,
   "metadata": {},
   "outputs": [
    {
     "name": "stdout",
     "output_type": "stream",
     "text": [
      "There are 90 unique Zipcodes out of 634\n",
      "There are 577 unique Zips out of 634.\n"
     ]
    }
   ],
   "source": [
    "print(\"There are {} unique Zipcodes out of {}\".format(unique_small_zips, total_zips))\n",
    "print(\"There are {} unique Zips out of {}.\".format(unique_zips,total_zips))"
   ]
  },
  {
   "cell_type": "code",
   "execution_count": 654,
   "metadata": {},
   "outputs": [],
   "source": [
    "schools[\"School, District\"] = schools[\"School\"] + \", \" + schools[\"District\"]"
   ]
  },
  {
   "cell_type": "code",
   "execution_count": 655,
   "metadata": {},
   "outputs": [
    {
     "data": {
      "text/html": [
       "<div>\n",
       "<style scoped>\n",
       "    .dataframe tbody tr th:only-of-type {\n",
       "        vertical-align: middle;\n",
       "    }\n",
       "\n",
       "    .dataframe tbody tr th {\n",
       "        vertical-align: top;\n",
       "    }\n",
       "\n",
       "    .dataframe thead th {\n",
       "        text-align: right;\n",
       "    }\n",
       "</style>\n",
       "<table border=\"1\" class=\"dataframe\">\n",
       "  <thead>\n",
       "    <tr style=\"text-align: right;\">\n",
       "      <th></th>\n",
       "      <th>CDSCode</th>\n",
       "      <th>District</th>\n",
       "      <th>School</th>\n",
       "      <th>Zip</th>\n",
       "      <th>WebSite</th>\n",
       "      <th>EILName</th>\n",
       "      <th>Latitude</th>\n",
       "      <th>Longitude</th>\n",
       "      <th>LastUpDate</th>\n",
       "      <th>Address</th>\n",
       "      <th>Zipcode</th>\n",
       "      <th>School, District</th>\n",
       "    </tr>\n",
       "  </thead>\n",
       "  <tbody>\n",
       "    <tr>\n",
       "      <th>1</th>\n",
       "      <td>37103710115998</td>\n",
       "      <td>San Diego County Office of Education</td>\n",
       "      <td>San Pasqual Academy</td>\n",
       "      <td>92025-5301</td>\n",
       "      <td>http://www.sanpasqualacademy.org</td>\n",
       "      <td>High School</td>\n",
       "      <td>33.090580</td>\n",
       "      <td>-116.95009</td>\n",
       "      <td>2019-02-13</td>\n",
       "      <td>17701 San Pasqual Valley Road,Escondido,CA,92025</td>\n",
       "      <td>92025</td>\n",
       "      <td>San Pasqual Academy, San Diego County Office o...</td>\n",
       "    </tr>\n",
       "    <tr>\n",
       "      <th>2</th>\n",
       "      <td>37103710120485</td>\n",
       "      <td>San Diego County Office of Education</td>\n",
       "      <td>Davila Day</td>\n",
       "      <td>91910-3604</td>\n",
       "      <td>NaN</td>\n",
       "      <td>Elementary</td>\n",
       "      <td>32.635041</td>\n",
       "      <td>-117.08832</td>\n",
       "      <td>2019-02-13</td>\n",
       "      <td>540 G Street,Chula Vista,CA,91910</td>\n",
       "      <td>91910</td>\n",
       "      <td>Davila Day, San Diego County Office of Education</td>\n",
       "    </tr>\n",
       "    <tr>\n",
       "      <th>3</th>\n",
       "      <td>37103710120493</td>\n",
       "      <td>San Diego County Office of Education</td>\n",
       "      <td>Monarch</td>\n",
       "      <td>92113-1012</td>\n",
       "      <td>http://www.monarchschools.org</td>\n",
       "      <td>Elementary-High Combination</td>\n",
       "      <td>32.702375</td>\n",
       "      <td>-117.15045</td>\n",
       "      <td>2020-08-24</td>\n",
       "      <td>1625 Newton Avenue,San Diego,CA,92113</td>\n",
       "      <td>92113</td>\n",
       "      <td>Monarch, San Diego County Office of Education</td>\n",
       "    </tr>\n",
       "    <tr>\n",
       "      <th>4</th>\n",
       "      <td>37103710128520</td>\n",
       "      <td>San Diego County Office of Education</td>\n",
       "      <td>San Diego County Community</td>\n",
       "      <td>92111-7399</td>\n",
       "      <td>http://www.sdcoe.net</td>\n",
       "      <td>Elementary-High Combination</td>\n",
       "      <td>32.769578</td>\n",
       "      <td>-117.17984</td>\n",
       "      <td>2020-08-21</td>\n",
       "      <td>6401 Linda Vista Road, Room 216,San Diego,CA,9...</td>\n",
       "      <td>92111</td>\n",
       "      <td>San Diego County Community, San Diego County O...</td>\n",
       "    </tr>\n",
       "    <tr>\n",
       "      <th>5</th>\n",
       "      <td>37103710128538</td>\n",
       "      <td>San Diego County Office of Education</td>\n",
       "      <td>San Diego County Court</td>\n",
       "      <td>92123</td>\n",
       "      <td>http://www.sdcoe.net/jccs</td>\n",
       "      <td>High School</td>\n",
       "      <td>32.794147</td>\n",
       "      <td>-117.15396</td>\n",
       "      <td>2019-02-13</td>\n",
       "      <td>2801 Meadow Lark Drive,San Diego,CA,92123</td>\n",
       "      <td>92123</td>\n",
       "      <td>San Diego County Court, San Diego County Offic...</td>\n",
       "    </tr>\n",
       "    <tr>\n",
       "      <th>...</th>\n",
       "      <td>...</td>\n",
       "      <td>...</td>\n",
       "      <td>...</td>\n",
       "      <td>...</td>\n",
       "      <td>...</td>\n",
       "      <td>...</td>\n",
       "      <td>...</td>\n",
       "      <td>...</td>\n",
       "      <td>...</td>\n",
       "      <td>...</td>\n",
       "      <td>...</td>\n",
       "      <td>...</td>\n",
       "    </tr>\n",
       "    <tr>\n",
       "      <th>769</th>\n",
       "      <td>37756146112494</td>\n",
       "      <td>Valley Center-Pauma Unified</td>\n",
       "      <td>Valley Center Elementary</td>\n",
       "      <td>92082-6575</td>\n",
       "      <td>http://vceus.vcpusd.org</td>\n",
       "      <td>Elementary</td>\n",
       "      <td>33.234769</td>\n",
       "      <td>-117.02397</td>\n",
       "      <td>2019-08-21</td>\n",
       "      <td>28751 Cole Grade Road,Valley Center,CA,92082</td>\n",
       "      <td>92082</td>\n",
       "      <td>Valley Center Elementary, Valley Center-Pauma ...</td>\n",
       "    </tr>\n",
       "    <tr>\n",
       "      <th>779</th>\n",
       "      <td>37768510110122</td>\n",
       "      <td>Bonsall Unified</td>\n",
       "      <td>Bonsall West Elementary</td>\n",
       "      <td>92057-2704</td>\n",
       "      <td>http://www.bonsallusd.com</td>\n",
       "      <td>Elementary</td>\n",
       "      <td>33.263619</td>\n",
       "      <td>-117.29384</td>\n",
       "      <td>2020-08-13</td>\n",
       "      <td>5050 El Mirlo Drive,Oceanside,CA,92057</td>\n",
       "      <td>92057</td>\n",
       "      <td>Bonsall West Elementary, Bonsall Unified</td>\n",
       "    </tr>\n",
       "    <tr>\n",
       "      <th>780</th>\n",
       "      <td>37768510129320</td>\n",
       "      <td>Bonsall Unified</td>\n",
       "      <td>Bonsall High</td>\n",
       "      <td>92003-4316</td>\n",
       "      <td>http://www.bonsallhs.com</td>\n",
       "      <td>High School</td>\n",
       "      <td>33.296238</td>\n",
       "      <td>-117.17648</td>\n",
       "      <td>2020-08-13</td>\n",
       "      <td>7350 West Lilac Road,Bonsall,CA,92003</td>\n",
       "      <td>92003</td>\n",
       "      <td>Bonsall High, Bonsall Unified</td>\n",
       "    </tr>\n",
       "    <tr>\n",
       "      <th>781</th>\n",
       "      <td>37768516037543</td>\n",
       "      <td>Bonsall Unified</td>\n",
       "      <td>Bonsall Elementary</td>\n",
       "      <td>92003-5112</td>\n",
       "      <td>http://www.bonsallusd.com</td>\n",
       "      <td>Elementary</td>\n",
       "      <td>33.287143</td>\n",
       "      <td>-117.22078</td>\n",
       "      <td>2020-08-13</td>\n",
       "      <td>31555 Old River Road,Bonsall,CA,92003</td>\n",
       "      <td>92003</td>\n",
       "      <td>Bonsall Elementary, Bonsall Unified</td>\n",
       "    </tr>\n",
       "    <tr>\n",
       "      <th>782</th>\n",
       "      <td>37768516108567</td>\n",
       "      <td>Bonsall Unified</td>\n",
       "      <td>Norman L. Sullivan Middle</td>\n",
       "      <td>92003-5112</td>\n",
       "      <td>http://www.bonsallusd.com</td>\n",
       "      <td>Intermediate/Middle/Junior High</td>\n",
       "      <td>33.296116</td>\n",
       "      <td>-117.17507</td>\n",
       "      <td>2020-08-13</td>\n",
       "      <td>7350 West Lilac Road,Bonsall,CA,92003</td>\n",
       "      <td>92003</td>\n",
       "      <td>Norman L. Sullivan Middle, Bonsall Unified</td>\n",
       "    </tr>\n",
       "  </tbody>\n",
       "</table>\n",
       "<p>634 rows × 12 columns</p>\n",
       "</div>"
      ],
      "text/plain": [
       "            CDSCode                              District  \\\n",
       "1    37103710115998  San Diego County Office of Education   \n",
       "2    37103710120485  San Diego County Office of Education   \n",
       "3    37103710120493  San Diego County Office of Education   \n",
       "4    37103710128520  San Diego County Office of Education   \n",
       "5    37103710128538  San Diego County Office of Education   \n",
       "..              ...                                   ...   \n",
       "769  37756146112494           Valley Center-Pauma Unified   \n",
       "779  37768510110122                       Bonsall Unified   \n",
       "780  37768510129320                       Bonsall Unified   \n",
       "781  37768516037543                       Bonsall Unified   \n",
       "782  37768516108567                       Bonsall Unified   \n",
       "\n",
       "                         School         Zip                           WebSite  \\\n",
       "1           San Pasqual Academy  92025-5301  http://www.sanpasqualacademy.org   \n",
       "2                    Davila Day  91910-3604                               NaN   \n",
       "3                       Monarch  92113-1012     http://www.monarchschools.org   \n",
       "4    San Diego County Community  92111-7399              http://www.sdcoe.net   \n",
       "5        San Diego County Court       92123         http://www.sdcoe.net/jccs   \n",
       "..                          ...         ...                               ...   \n",
       "769    Valley Center Elementary  92082-6575           http://vceus.vcpusd.org   \n",
       "779     Bonsall West Elementary  92057-2704         http://www.bonsallusd.com   \n",
       "780                Bonsall High  92003-4316          http://www.bonsallhs.com   \n",
       "781          Bonsall Elementary  92003-5112         http://www.bonsallusd.com   \n",
       "782   Norman L. Sullivan Middle  92003-5112         http://www.bonsallusd.com   \n",
       "\n",
       "                             EILName   Latitude  Longitude LastUpDate  \\\n",
       "1                        High School  33.090580 -116.95009 2019-02-13   \n",
       "2                         Elementary  32.635041 -117.08832 2019-02-13   \n",
       "3        Elementary-High Combination  32.702375 -117.15045 2020-08-24   \n",
       "4        Elementary-High Combination  32.769578 -117.17984 2020-08-21   \n",
       "5                        High School  32.794147 -117.15396 2019-02-13   \n",
       "..                               ...        ...        ...        ...   \n",
       "769                       Elementary  33.234769 -117.02397 2019-08-21   \n",
       "779                       Elementary  33.263619 -117.29384 2020-08-13   \n",
       "780                      High School  33.296238 -117.17648 2020-08-13   \n",
       "781                       Elementary  33.287143 -117.22078 2020-08-13   \n",
       "782  Intermediate/Middle/Junior High  33.296116 -117.17507 2020-08-13   \n",
       "\n",
       "                                               Address  Zipcode  \\\n",
       "1     17701 San Pasqual Valley Road,Escondido,CA,92025    92025   \n",
       "2                    540 G Street,Chula Vista,CA,91910    91910   \n",
       "3                1625 Newton Avenue,San Diego,CA,92113    92113   \n",
       "4    6401 Linda Vista Road, Room 216,San Diego,CA,9...    92111   \n",
       "5            2801 Meadow Lark Drive,San Diego,CA,92123    92123   \n",
       "..                                                 ...      ...   \n",
       "769       28751 Cole Grade Road,Valley Center,CA,92082    92082   \n",
       "779             5050 El Mirlo Drive,Oceanside,CA,92057    92057   \n",
       "780              7350 West Lilac Road,Bonsall,CA,92003    92003   \n",
       "781              31555 Old River Road,Bonsall,CA,92003    92003   \n",
       "782              7350 West Lilac Road,Bonsall,CA,92003    92003   \n",
       "\n",
       "                                      School, District  \n",
       "1    San Pasqual Academy, San Diego County Office o...  \n",
       "2     Davila Day, San Diego County Office of Education  \n",
       "3        Monarch, San Diego County Office of Education  \n",
       "4    San Diego County Community, San Diego County O...  \n",
       "5    San Diego County Court, San Diego County Offic...  \n",
       "..                                                 ...  \n",
       "769  Valley Center Elementary, Valley Center-Pauma ...  \n",
       "779           Bonsall West Elementary, Bonsall Unified  \n",
       "780                      Bonsall High, Bonsall Unified  \n",
       "781                Bonsall Elementary, Bonsall Unified  \n",
       "782         Norman L. Sullivan Middle, Bonsall Unified  \n",
       "\n",
       "[634 rows x 12 columns]"
      ]
     },
     "execution_count": 655,
     "metadata": {},
     "output_type": "execute_result"
    }
   ],
   "source": [
    "schools"
   ]
  },
  {
   "attachments": {
    "image.png": {
     "image/png": "[encoded data removed]"
    }
   },
   "cell_type": "markdown",
   "metadata": {},
   "source": [
    "![image.png](attachment:image.png)"
   ]
  },
  {
   "cell_type": "markdown",
   "metadata": {},
   "source": [
    "### Incomes"
   ]
  },
  {
   "cell_type": "code",
   "execution_count": 656,
   "metadata": {},
   "outputs": [],
   "source": [
    "incomes_path = os.path.join('Datasets', 'suave_income.csv')\n",
    "incomes = pd.read_csv(incomes_path, low_memory=False)"
   ]
  },
  {
   "cell_type": "code",
   "execution_count": 657,
   "metadata": {
    "scrolled": true
   },
   "outputs": [],
   "source": [
    "incomes_classes = incomes[[\"ZIP\", \n",
    "         \"Hholds with income Less than $10,000#number\", \n",
    "         'Hholds with income $10,000 to $14,999#number',\n",
    "         'Hholds with income $15,000 to $24,999#number',\n",
    "         'Hholds with income $25,000 to $34,999#number',\n",
    "         'Hholds with income $35,000 to $49,999#number',\n",
    "         'Hholds with income $50,000 to $74,999#number',\n",
    "         'Hholds with income $75,000 to $99,999#number',\n",
    "         'Hholds with income $100,000 to $149,999#number',\n",
    "         'Hholds with income $150,000 to $199,999#number',\n",
    "         'Hholds with income $200,000 or more#number',\n",
    "         'Median family income (dollars)#number',\n",
    "         'Mean family income (dollars)#number',\n",
    "         'Health insurance coverage, % of civilian pop#number',\n",
    "         'No health insurance for civil pop#number',\n",
    "         'No health insurance coverage, %#number',\n",
    "         'Worked at home#number', 'Population 16+yo#number', 'Children of the hh 6-17 yo#number'\n",
    "         ]]\n",
    "incomes_clean = incomes_classes.copy()\n",
    "incomes_clean[\"Households with income $0-34,999\"] = (incomes_classes[\"Hholds with income Less than $10,000#number\"] \n",
    "                                               + incomes_classes[\"Hholds with income $10,000 to $14,999#number\"] \n",
    "                                               + incomes_classes[\"Hholds with income $15,000 to $24,999#number\"] \n",
    "                                               + incomes_classes[\"Hholds with income $25,000 to $34,999#number\"]\n",
    "                                              )\n",
    "incomes_clean[\"Households with income $35,000-99,999\"] = (incomes_classes[\"Hholds with income $35,000 to $49,999#number\"] \n",
    "                                               + incomes_classes[\"Hholds with income $50,000 to $74,999#number\"] \n",
    "                                               + incomes_classes[\"Hholds with income $75,000 to $99,999#number\"] \n",
    "                                              )\n",
    "incomes_clean[\"Households with income $100,000+\"] = (incomes_classes[\"Hholds with income $100,000 to $149,999#number\"] \n",
    "                                               + incomes_classes[\"Hholds with income $150,000 to $199,999#number\"]\n",
    "                                               + incomes_classes[\"Hholds with income $200,000 or more#number\"] \n",
    "                                              ) \n",
    "incomes_clean = incomes_clean.drop([\"Hholds with income Less than $10,000#number\", \n",
    "         'Hholds with income $10,000 to $14,999#number',\n",
    "         'Hholds with income $15,000 to $24,999#number',\n",
    "         'Hholds with income $25,000 to $34,999#number',\n",
    "         'Hholds with income $35,000 to $49,999#number',\n",
    "         'Hholds with income $50,000 to $74,999#number',\n",
    "         'Hholds with income $75,000 to $99,999#number',\n",
    "         'Hholds with income $100,000 to $149,999#number',\n",
    "         'Hholds with income $150,000 to $199,999#number',\n",
    "         'Hholds with income $200,000 or more#number',], axis=1)\n",
    "incomes_clean = incomes_clean.rename(columns={'Median family income (dollars)#number': 'Median family income (dollars)',\n",
    "                                             'Mean family income (dollars)#number' :'Mean family income (dollars)',\n",
    "                                             'Health insurance coverage, % of civilian pop#number':'Health insurance coverage, % of civilian pop',\n",
    "                                             'No health insurance for civil pop#number': 'No health insurance for civilian pop',\n",
    "                                             'No health insurance coverage, %#number': 'No health insurance coverage %',\n",
    "                                             'Worked at home#number': 'Worked at home',\n",
    "                                             'ZIP': 'Zipcode', 'Population 16+yo#number':'Population 16+', \n",
    "                                             'Children of the hh 6-17 yo#number': 'Children of the household 6-17'})\n"
   ]
  },
  {
   "cell_type": "code",
   "execution_count": 658,
   "metadata": {},
   "outputs": [],
   "source": [
    "pop = incomes_clean[[\"Zipcode\", \"Population 16+\"]]"
   ]
  },
  {
   "cell_type": "markdown",
   "metadata": {},
   "source": [
    "### Cleaned Demographics Data"
   ]
  },
  {
   "cell_type": "code",
   "execution_count": 659,
   "metadata": {
    "scrolled": true
   },
   "outputs": [],
   "source": [
    "cleaned_demo_path = os.path.join('Datasets', 'Cleaned_Demographics_Data.csv')\n",
    "cleaned_demo = pd.read_csv(cleaned_demo_path, low_memory=False)\n"
   ]
  },
  {
   "cell_type": "markdown",
   "metadata": {},
   "source": [
    "### Cleaned Cases by Zipcode"
   ]
  },
  {
   "cell_type": "code",
   "execution_count": 660,
   "metadata": {},
   "outputs": [],
   "source": [
    "cleaned_cases_path = os.path.join('Datasets', 'Cleaned_Cases_by_Zipcode.csv')\n",
    "cleaned_cases = pd.read_csv(cleaned_cases_path, low_memory=False)\n",
    "#cleaned_cases = cleaned_cases.rename(columns={'Zipcode': 'Zip'})\n"
   ]
  },
  {
   "cell_type": "markdown",
   "metadata": {},
   "source": [
    "### August Cases Increase"
   ]
  },
  {
   "cell_type": "code",
   "execution_count": 661,
   "metadata": {},
   "outputs": [],
   "source": [
    "august_cases_path = os.path.join('Datasets', 'August_Case_Increase.csv')\n",
    "august_cases = pd.read_csv(august_cases_path, low_memory=False)"
   ]
  },
  {
   "cell_type": "code",
   "execution_count": 662,
   "metadata": {},
   "outputs": [],
   "source": [
    "august_cases = august_cases[[\"Zipcode\", \"Absolute Increase\", \"Percent Increase\"]]"
   ]
  },
  {
   "cell_type": "code",
   "execution_count": 663,
   "metadata": {},
   "outputs": [],
   "source": [
    "august_cases = august_cases.merge(pop, on=\"Zipcode\")"
   ]
  },
  {
   "cell_type": "code",
   "execution_count": 664,
   "metadata": {
    "scrolled": true
   },
   "outputs": [],
   "source": [
    "august_cases[\"Absolute Increase Standardized\"] = august_cases[\"Absolute Increase\"] / august_cases[\"Population 16+\"]"
   ]
  },
  {
   "cell_type": "code",
   "execution_count": 665,
   "metadata": {},
   "outputs": [],
   "source": [
    "august_cases = august_cases.drop([\"Absolute Increase\", \"Population 16+\"], axis=1)"
   ]
  },
  {
   "cell_type": "code",
   "execution_count": 666,
   "metadata": {},
   "outputs": [
    {
     "data": {
      "text/html": [
       "<div>\n",
       "<style scoped>\n",
       "    .dataframe tbody tr th:only-of-type {\n",
       "        vertical-align: middle;\n",
       "    }\n",
       "\n",
       "    .dataframe tbody tr th {\n",
       "        vertical-align: top;\n",
       "    }\n",
       "\n",
       "    .dataframe thead th {\n",
       "        text-align: right;\n",
       "    }\n",
       "</style>\n",
       "<table border=\"1\" class=\"dataframe\">\n",
       "  <thead>\n",
       "    <tr style=\"text-align: right;\">\n",
       "      <th></th>\n",
       "      <th>Zipcode</th>\n",
       "      <th>Percent Increase</th>\n",
       "      <th>Absolute Increase Standardized</th>\n",
       "    </tr>\n",
       "  </thead>\n",
       "  <tbody>\n",
       "    <tr>\n",
       "      <th>0</th>\n",
       "      <td>91901</td>\n",
       "      <td>23.08</td>\n",
       "      <td>0.001211</td>\n",
       "    </tr>\n",
       "    <tr>\n",
       "      <th>1</th>\n",
       "      <td>91902</td>\n",
       "      <td>31.36</td>\n",
       "      <td>0.003275</td>\n",
       "    </tr>\n",
       "    <tr>\n",
       "      <th>2</th>\n",
       "      <td>91905</td>\n",
       "      <td>16.67</td>\n",
       "      <td>0.000711</td>\n",
       "    </tr>\n",
       "    <tr>\n",
       "      <th>3</th>\n",
       "      <td>91906</td>\n",
       "      <td>18.75</td>\n",
       "      <td>0.001093</td>\n",
       "    </tr>\n",
       "    <tr>\n",
       "      <th>4</th>\n",
       "      <td>91910</td>\n",
       "      <td>31.97</td>\n",
       "      <td>0.006362</td>\n",
       "    </tr>\n",
       "    <tr>\n",
       "      <th>...</th>\n",
       "      <td>...</td>\n",
       "      <td>...</td>\n",
       "      <td>...</td>\n",
       "    </tr>\n",
       "    <tr>\n",
       "      <th>99</th>\n",
       "      <td>92140</td>\n",
       "      <td>41.27</td>\n",
       "      <td>0.007834</td>\n",
       "    </tr>\n",
       "    <tr>\n",
       "      <th>100</th>\n",
       "      <td>92145</td>\n",
       "      <td>14.29</td>\n",
       "      <td>0.000643</td>\n",
       "    </tr>\n",
       "    <tr>\n",
       "      <th>101</th>\n",
       "      <td>92154</td>\n",
       "      <td>28.95</td>\n",
       "      <td>0.007578</td>\n",
       "    </tr>\n",
       "    <tr>\n",
       "      <th>102</th>\n",
       "      <td>92173</td>\n",
       "      <td>34.09</td>\n",
       "      <td>0.014020</td>\n",
       "    </tr>\n",
       "    <tr>\n",
       "      <th>103</th>\n",
       "      <td>92536</td>\n",
       "      <td>0.00</td>\n",
       "      <td>0.000000</td>\n",
       "    </tr>\n",
       "  </tbody>\n",
       "</table>\n",
       "<p>104 rows × 3 columns</p>\n",
       "</div>"
      ],
      "text/plain": [
       "     Zipcode  Percent Increase  Absolute Increase Standardized\n",
       "0      91901             23.08                        0.001211\n",
       "1      91902             31.36                        0.003275\n",
       "2      91905             16.67                        0.000711\n",
       "3      91906             18.75                        0.001093\n",
       "4      91910             31.97                        0.006362\n",
       "..       ...               ...                             ...\n",
       "99     92140             41.27                        0.007834\n",
       "100    92145             14.29                        0.000643\n",
       "101    92154             28.95                        0.007578\n",
       "102    92173             34.09                        0.014020\n",
       "103    92536              0.00                        0.000000\n",
       "\n",
       "[104 rows x 3 columns]"
      ]
     },
     "execution_count": 666,
     "metadata": {},
     "output_type": "execute_result"
    }
   ],
   "source": [
    "august_cases"
   ]
  },
  {
   "cell_type": "markdown",
   "metadata": {},
   "source": [
    "# Data Exploration"
   ]
  },
  {
   "cell_type": "code",
   "execution_count": 667,
   "metadata": {
    "scrolled": true
   },
   "outputs": [],
   "source": [
    "zips = schools[\"Zipcode\"].unique()"
   ]
  },
  {
   "cell_type": "code",
   "execution_count": 668,
   "metadata": {},
   "outputs": [],
   "source": [
    "cumulative_clean = cumulative_clean[cumulative_clean[\"AggregateLevel\"] == \"S\"]"
   ]
  },
  {
   "cell_type": "code",
   "execution_count": 669,
   "metadata": {},
   "outputs": [],
   "source": [
    "cumulative_clean = cumulative_clean[cumulative_clean[\"CountyName\"] == \"San Diego\"]\n",
    "cumulative_clean = cumulative_clean.rename(columns={'SchoolName': \"School\"})\n",
    "cumulative_clean = cumulative_clean[cumulative_clean[\"ReportingCategory\"] == \"TA\"]"
   ]
  },
  {
   "cell_type": "code",
   "execution_count": 670,
   "metadata": {},
   "outputs": [],
   "source": [
    "cumulative_clean = cumulative_clean[cumulative_clean[\"Charter\"] == \"No \"]"
   ]
  },
  {
   "cell_type": "code",
   "execution_count": 671,
   "metadata": {
    "scrolled": true
   },
   "outputs": [],
   "source": [
    "cumulative_clean = cumulative_clean.drop([\"Charter\"], axis=1)"
   ]
  },
  {
   "cell_type": "code",
   "execution_count": 672,
   "metadata": {},
   "outputs": [],
   "source": [
    "merged = schools.merge(cumulative_clean, on=\"School, District\")"
   ]
  },
  {
   "cell_type": "code",
   "execution_count": 673,
   "metadata": {
    "scrolled": true
   },
   "outputs": [],
   "source": [
    "done = merged.merge(incomes_clean, on=\"Zipcode\")"
   ]
  },
  {
   "cell_type": "code",
   "execution_count": 674,
   "metadata": {
    "scrolled": false
   },
   "outputs": [],
   "source": [
    "done = done.merge(august_cases, on=\"Zipcode\")"
   ]
  },
  {
   "cell_type": "code",
   "execution_count": 675,
   "metadata": {},
   "outputs": [],
   "source": [
    "done_shorter = done.drop(columns=[\"AggregateLevel\", \"CountyName\", \"CDSCode\", \n",
    "                                  \"Zip\", \"WebSite\", \"ReportingCategory\", \n",
    "                                  \"LastUpDate\", \"School_x\", \"School_y\", \"District\"], axis=1)"
   ]
  },
  {
   "cell_type": "code",
   "execution_count": 676,
   "metadata": {},
   "outputs": [],
   "source": [
    "#Impute value for median family income for zip 91905 with that of 91906\n",
    "done_shorter.loc[319, \"Median family income (dollars)\"] = 60240.0"
   ]
  },
  {
   "cell_type": "code",
   "execution_count": 677,
   "metadata": {},
   "outputs": [],
   "source": [
    "from sklearn.cluster import KMeans\n",
    "import sklearn.preprocessing as pp"
   ]
  },
  {
   "cell_type": "code",
   "execution_count": 678,
   "metadata": {},
   "outputs": [],
   "source": [
    "for i in done_shorter.columns:\n",
    "    if done_shorter[i].isnull().values.any() == True:\n",
    "        print(i)\n"
   ]
  },
  {
   "cell_type": "code",
   "execution_count": 679,
   "metadata": {},
   "outputs": [
    {
     "data": {
      "text/html": [
       "<div>\n",
       "<style scoped>\n",
       "    .dataframe tbody tr th:only-of-type {\n",
       "        vertical-align: middle;\n",
       "    }\n",
       "\n",
       "    .dataframe tbody tr th {\n",
       "        vertical-align: top;\n",
       "    }\n",
       "\n",
       "    .dataframe thead th {\n",
       "        text-align: right;\n",
       "    }\n",
       "</style>\n",
       "<table border=\"1\" class=\"dataframe\">\n",
       "  <thead>\n",
       "    <tr style=\"text-align: right;\">\n",
       "      <th></th>\n",
       "      <th>EILName</th>\n",
       "      <th>Latitude</th>\n",
       "      <th>Longitude</th>\n",
       "      <th>Address</th>\n",
       "      <th>Zipcode</th>\n",
       "      <th>School, District</th>\n",
       "      <th>DistrictName</th>\n",
       "      <th>CumulativeEnrollment</th>\n",
       "      <th>Median family income (dollars)</th>\n",
       "      <th>Mean family income (dollars)</th>\n",
       "      <th>...</th>\n",
       "      <th>No health insurance for civilian pop</th>\n",
       "      <th>No health insurance coverage %</th>\n",
       "      <th>Worked at home</th>\n",
       "      <th>Population 16+</th>\n",
       "      <th>Children of the household 6-17</th>\n",
       "      <th>Households with income $0-34,999</th>\n",
       "      <th>Households with income $35,000-99,999</th>\n",
       "      <th>Households with income $100,000+</th>\n",
       "      <th>Percent Increase</th>\n",
       "      <th>Absolute Increase Standardized</th>\n",
       "    </tr>\n",
       "  </thead>\n",
       "  <tbody>\n",
       "  </tbody>\n",
       "</table>\n",
       "<p>0 rows × 21 columns</p>\n",
       "</div>"
      ],
      "text/plain": [
       "Empty DataFrame\n",
       "Columns: [EILName, Latitude, Longitude, Address, Zipcode, School, District, DistrictName, CumulativeEnrollment, Median family income (dollars), Mean family income (dollars), Health insurance coverage, % of civilian pop, No health insurance for civilian pop, No health insurance coverage %, Worked at home, Population 16+, Children of the household 6-17, Households with income $0-34,999, Households with income $35,000-99,999, Households with income $100,000+, Percent Increase, Absolute Increase Standardized]\n",
       "Index: []\n",
       "\n",
       "[0 rows x 21 columns]"
      ]
     },
     "execution_count": 679,
     "metadata": {},
     "output_type": "execute_result"
    }
   ],
   "source": [
    "done_shorter[done_shorter[\"Median family income (dollars)\"].isna() == True]"
   ]
  },
  {
   "cell_type": "code",
   "execution_count": 680,
   "metadata": {},
   "outputs": [],
   "source": [
    "# Numeric columns and associated transformers\n",
    "num_feat = [\n",
    "    'CumulativeEnrollment', \n",
    "    'Median family income (dollars)', \n",
    "    'Mean family income (dollars)', \n",
    "    \"Health insurance coverage, % of civilian pop\", \n",
    "    \"No health insurance for civilian pop\", \n",
    "    \"No health insurance coverage %\", \n",
    "    \"Worked at home\", \n",
    "    \"Households with income $0-34,999\", \n",
    "    \"Households with income $35,000-99,999\", \n",
    "    \"Households with income $100,000+\",\n",
    "    \"Population 16+\",\n",
    "    \"Children of the household 6-17\",\n",
    "    \"Absolute Increase Standardized\",\n",
    "    \"Percent Increase\"\n",
    "]\n",
    "num_transformer = Pipeline(steps=[\n",
    "    ('scaler', pp.StandardScaler())   # z-scale\n",
    "])\n",
    "\n",
    "# Categorical columns and associated transformers\n",
    "cat_feat = ['EILName', 'Zipcode']\n",
    "cat_transformer = Pipeline(steps=[\n",
    "    ('intenc', pp.OrdinalEncoder()),   # converts to int\n",
    "    ('onehot', pp.OneHotEncoder())     # output from Ordinal becomes input to OneHot\n",
    "])\n",
    "\n",
    "# preprocessing pipeline (put them together)\n",
    "preproc = ColumnTransformer(transformers=[('num', num_transformer, num_feat), ('cat', cat_transformer, cat_feat)])\n",
    "\n",
    "pl = Pipeline(steps=[('preprocessor', preproc), ('kmeans', KMeans(n_clusters=2, n_init=100))])"
   ]
  },
  {
   "cell_type": "code",
   "execution_count": 681,
   "metadata": {
    "scrolled": true
   },
   "outputs": [
    {
     "data": {
      "text/plain": [
       "Pipeline(steps=[('preprocessor',\n",
       "                 ColumnTransformer(transformers=[('num',\n",
       "                                                  Pipeline(steps=[('scaler',\n",
       "                                                                   StandardScaler())]),\n",
       "                                                  ['CumulativeEnrollment',\n",
       "                                                   'Median family income '\n",
       "                                                   '(dollars)',\n",
       "                                                   'Mean family income '\n",
       "                                                   '(dollars)',\n",
       "                                                   'Health insurance coverage, '\n",
       "                                                   '% of civilian pop',\n",
       "                                                   'No health insurance for '\n",
       "                                                   'civilian pop',\n",
       "                                                   'No health insurance '\n",
       "                                                   'coverage %',\n",
       "                                                   'Worked at home',\n",
       "                                                   'Households with income '\n",
       "                                                   '$0-34,999',\n",
       "                                                   'Households with income '\n",
       "                                                   '$35,000-99,999',\n",
       "                                                   'Households with income '\n",
       "                                                   '$100,000+',\n",
       "                                                   'Population 16+',\n",
       "                                                   'Children of the household '\n",
       "                                                   '6-17',\n",
       "                                                   'Absolute Increase '\n",
       "                                                   'Standardized',\n",
       "                                                   'Percent Increase']),\n",
       "                                                 ('cat',\n",
       "                                                  Pipeline(steps=[('intenc',\n",
       "                                                                   OrdinalEncoder()),\n",
       "                                                                  ('onehot',\n",
       "                                                                   OneHotEncoder())]),\n",
       "                                                  ['EILName', 'Zipcode'])])),\n",
       "                ('kmeans', KMeans(n_clusters=2, n_init=100))])"
      ]
     },
     "execution_count": 681,
     "metadata": {},
     "output_type": "execute_result"
    }
   ],
   "source": [
    "pl.fit(done_shorter)"
   ]
  },
  {
   "cell_type": "code",
   "execution_count": 682,
   "metadata": {},
   "outputs": [],
   "source": [
    "predictions = pl.predict(done_shorter)"
   ]
  },
  {
   "cell_type": "code",
   "execution_count": 683,
   "metadata": {},
   "outputs": [],
   "source": [
    "done_shorter[\"predictions\"] = predictions"
   ]
  },
  {
   "cell_type": "code",
   "execution_count": 684,
   "metadata": {
    "scrolled": true
   },
   "outputs": [
    {
     "data": {
      "text/html": [
       "<div>\n",
       "<style scoped>\n",
       "    .dataframe tbody tr th:only-of-type {\n",
       "        vertical-align: middle;\n",
       "    }\n",
       "\n",
       "    .dataframe tbody tr th {\n",
       "        vertical-align: top;\n",
       "    }\n",
       "\n",
       "    .dataframe thead th {\n",
       "        text-align: right;\n",
       "    }\n",
       "</style>\n",
       "<table border=\"1\" class=\"dataframe\">\n",
       "  <thead>\n",
       "    <tr style=\"text-align: right;\">\n",
       "      <th></th>\n",
       "      <th>School, District</th>\n",
       "      <th>predictions</th>\n",
       "    </tr>\n",
       "  </thead>\n",
       "  <tbody>\n",
       "    <tr>\n",
       "      <th>0</th>\n",
       "      <td>San Pasqual Academy, San Diego County Office o...</td>\n",
       "      <td>0</td>\n",
       "    </tr>\n",
       "    <tr>\n",
       "      <th>1</th>\n",
       "      <td>Bear Valley Middle, Escondido Union</td>\n",
       "      <td>0</td>\n",
       "    </tr>\n",
       "    <tr>\n",
       "      <th>2</th>\n",
       "      <td>Central Elementary, Escondido Union</td>\n",
       "      <td>0</td>\n",
       "    </tr>\n",
       "    <tr>\n",
       "      <th>3</th>\n",
       "      <td>Del Dios Academy of Arts and Sciences, Escondi...</td>\n",
       "      <td>0</td>\n",
       "    </tr>\n",
       "    <tr>\n",
       "      <th>4</th>\n",
       "      <td>Felicita Elementary, Escondido Union</td>\n",
       "      <td>0</td>\n",
       "    </tr>\n",
       "    <tr>\n",
       "      <th>...</th>\n",
       "      <td>...</td>\n",
       "      <td>...</td>\n",
       "    </tr>\n",
       "    <tr>\n",
       "      <th>613</th>\n",
       "      <td>Valley Center Elementary, Valley Center-Pauma ...</td>\n",
       "      <td>1</td>\n",
       "    </tr>\n",
       "    <tr>\n",
       "      <th>614</th>\n",
       "      <td>Pauma Elementary, Valley Center-Pauma Unified</td>\n",
       "      <td>1</td>\n",
       "    </tr>\n",
       "    <tr>\n",
       "      <th>615</th>\n",
       "      <td>Bonsall High, Bonsall Unified</td>\n",
       "      <td>1</td>\n",
       "    </tr>\n",
       "    <tr>\n",
       "      <th>616</th>\n",
       "      <td>Bonsall Elementary, Bonsall Unified</td>\n",
       "      <td>1</td>\n",
       "    </tr>\n",
       "    <tr>\n",
       "      <th>617</th>\n",
       "      <td>Norman L. Sullivan Middle, Bonsall Unified</td>\n",
       "      <td>1</td>\n",
       "    </tr>\n",
       "  </tbody>\n",
       "</table>\n",
       "<p>618 rows × 2 columns</p>\n",
       "</div>"
      ],
      "text/plain": [
       "                                      School, District  predictions\n",
       "0    San Pasqual Academy, San Diego County Office o...            0\n",
       "1                  Bear Valley Middle, Escondido Union            0\n",
       "2                  Central Elementary, Escondido Union            0\n",
       "3    Del Dios Academy of Arts and Sciences, Escondi...            0\n",
       "4                 Felicita Elementary, Escondido Union            0\n",
       "..                                                 ...          ...\n",
       "613  Valley Center Elementary, Valley Center-Pauma ...            1\n",
       "614      Pauma Elementary, Valley Center-Pauma Unified            1\n",
       "615                      Bonsall High, Bonsall Unified            1\n",
       "616                Bonsall Elementary, Bonsall Unified            1\n",
       "617         Norman L. Sullivan Middle, Bonsall Unified            1\n",
       "\n",
       "[618 rows x 2 columns]"
      ]
     },
     "execution_count": 684,
     "metadata": {},
     "output_type": "execute_result"
    }
   ],
   "source": [
    "done_shorter[[\"School, District\", \"predictions\"]]"
   ]
  },
  {
   "cell_type": "code",
   "execution_count": null,
   "metadata": {},
   "outputs": [],
   "source": []
  },
  {
   "cell_type": "code",
   "execution_count": 685,
   "metadata": {},
   "outputs": [
    {
     "data": {
      "text/plain": [
       "<matplotlib.axes._subplots.AxesSubplot at 0x2e665b68>"
      ]
     },
     "execution_count": 685,
     "metadata": {},
     "output_type": "execute_result"
    },
    {
     "data": {
      "image/png": "[encoded data removed]",
      "text/plain": [
       "<Figure size 432x288 with 2 Axes>"
      ]
     },
     "metadata": {
      "needs_background": "light"
     },
     "output_type": "display_data"
    }
   ],
   "source": [
    "import seaborn as sns \n",
    "  \n",
    "# generating correlation heatmap \n",
    "sns.heatmap(done_shorter.corr(), annot = True) "
   ]
  },
  {
   "cell_type": "code",
   "execution_count": 686,
   "metadata": {},
   "outputs": [],
   "source": [
    "merged.to_csv(r'C:/Users/Administrator/Data Challenge/border_chlng/Datasets/schools_data.csv')"
   ]
  }
 ],
 "metadata": {
  "kernelspec": {
   "display_name": "Python 3",
   "language": "python",
   "name": "python3"
  },
  "language_info": {
   "codemirror_mode": {
    "name": "ipython",
    "version": 3
   },
   "file_extension": ".py",
   "mimetype": "text/x-python",
   "name": "python",
   "nbconvert_exporter": "python",
   "pygments_lexer": "ipython3",
   "version": "3.8.4"
  }
 },
 "nbformat": 4,
 "nbformat_minor": 4
}
