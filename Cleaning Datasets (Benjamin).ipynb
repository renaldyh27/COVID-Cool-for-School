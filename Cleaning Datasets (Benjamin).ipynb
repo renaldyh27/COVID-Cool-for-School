{
 "cells": [
  {
   "cell_type": "code",
   "execution_count": 105,
   "metadata": {},
   "outputs": [
    {
     "name": "stdout",
     "output_type": "stream",
     "text": [
      "The autoreload extension is already loaded. To reload it, use:\n",
      "  %reload_ext autoreload\n"
     ]
    }
   ],
   "source": [
    "%load_ext autoreload\n",
    "%autoreload 2\n",
    "\n",
    "%matplotlib inline\n",
    "import pandas as pd\n",
    "import numpy as np\n",
    "import seaborn as sns\n",
    "import os\n",
    "\n",
    "from sklearn.linear_model import LinearRegression\n",
    "from sklearn.preprocessing import FunctionTransformer\n",
    "from sklearn.preprocessing import OneHotEncoder\n",
    "from sklearn.pipeline import Pipeline\n",
    "from sklearn.compose import ColumnTransformer\n",
    "\n",
    "from sklearn.tree import DecisionTreeRegressor\n",
    "from sklearn.model_selection import train_test_split\n",
    "from sklearn.neighbors import KNeighborsRegressor\n",
    "from sklearn.model_selection import train_test_split"
   ]
  },
  {
   "cell_type": "markdown",
   "metadata": {},
   "source": [
    "Benjamin: cumulative_enrollment, stats_sd\n",
    "\n",
    "Andrew: pubschools_info\n",
    "\n",
    "Alex: border_crossings"
   ]
  },
  {
   "cell_type": "code",
   "execution_count": 106,
   "metadata": {},
   "outputs": [],
   "source": [
    "border_crossings_path = os.path.join('Datasets', 'border_crossings.csv')\n",
    "border_crossings = pd.read_csv(border_crossings_path, low_memory=False)\n",
    "\n",
    "cumulative_enrollment_path = os.path.join('Datasets', 'cumulative_enrollment.csv')\n",
    "cumulative_enrollment = pd.read_csv(cumulative_enrollment_path, low_memory=False)\n",
    "\n",
    "pubschools_info_path = os.path.join('Datasets', 'pubschools_info.csv')\n",
    "pubschools_info = pd.read_csv(pubschools_info_path, low_memory=False)\n",
    "\n",
    "stats_sd_path = os.path.join('Datasets', 'COVID_19_Statistics_San_Diego_County.csv')\n",
    "stats_sd = pd.read_csv(stats_sd_path, low_memory=False)\n",
    "\n",
    "#I'm having a bit of trouble loading this one in for some reason, I'll check it out later.\n",
    "#age_stats_sd_path = os.path.join('Datasets', 'COVID-19_Age_Statistics_by_ZIP_Code')\n",
    "#age_stats_sd = pd.read_csv(age_stats_sd_path, low_memory=False)"
   ]
  },
  {
   "cell_type": "markdown",
   "metadata": {},
   "source": [
    "### Checklist:\n",
    "    1. Get dtypes in order\n",
    "        change dates to object datetime\n",
    "        natural numbers to int\n",
    "        decimals to float\n",
    "    2. Remove columns that are not relevant\n",
    "    3. Remove the unneeded symbols from string data\n",
    "    4. Replace null/blank/missing values with NaN\n",
    "    5. Look for and understand suspicious or out of place values for each column\n",
    "    6. Fill missing values or drop them as needed (for this one we can discuss among us which is the best method to deal with \n",
    "       missingness for each dataset, as there are a lot of ways to do them.\n",
    "                                        "
   ]
  },
  {
   "cell_type": "markdown",
   "metadata": {},
   "source": [
    "# Cumulative Enrollment"
   ]
  },
  {
   "cell_type": "code",
   "execution_count": 120,
   "metadata": {
    "scrolled": true
   },
   "outputs": [],
   "source": [
    "#Removed insignificant columns\n",
    "#Changed all * values (missing for student privacy) to NaN, rest of CumulativeEnrollment to float.\n",
    "cumulative_clean = cumulative_enrollment.drop([\"AcademicYear\", \"CountyCode\", \"DistrictCode\", \"SchoolCode\", \"ReportingCategory\"], axis=1) #Dropped codes\n",
    "cumulative_clean[\"CumulativeEnrollment\"] = pd.to_numeric(cumulative_clean[\"CumulativeEnrollment\"], errors='coerce')"
   ]
  },
  {
   "cell_type": "code",
   "execution_count": 121,
   "metadata": {
    "scrolled": false
   },
   "outputs": [
    {
     "data": {
      "text/html": [
       "<div>\n",
       "<style scoped>\n",
       "    .dataframe tbody tr th:only-of-type {\n",
       "        vertical-align: middle;\n",
       "    }\n",
       "\n",
       "    .dataframe tbody tr th {\n",
       "        vertical-align: top;\n",
       "    }\n",
       "\n",
       "    .dataframe thead th {\n",
       "        text-align: right;\n",
       "    }\n",
       "</style>\n",
       "<table border=\"1\" class=\"dataframe\">\n",
       "  <thead>\n",
       "    <tr style=\"text-align: right;\">\n",
       "      <th></th>\n",
       "      <th>AggregateLevel</th>\n",
       "      <th>CountyName</th>\n",
       "      <th>DistrictName</th>\n",
       "      <th>SchoolName</th>\n",
       "      <th>Charter</th>\n",
       "      <th>CumulativeEnrollment</th>\n",
       "    </tr>\n",
       "  </thead>\n",
       "  <tbody>\n",
       "    <tr>\n",
       "      <th>0</th>\n",
       "      <td>S</td>\n",
       "      <td>Orange</td>\n",
       "      <td>Saddleback Valley Unified</td>\n",
       "      <td>Portola Hills Elementary</td>\n",
       "      <td>All</td>\n",
       "      <td>90.0</td>\n",
       "    </tr>\n",
       "    <tr>\n",
       "      <th>1</th>\n",
       "      <td>S</td>\n",
       "      <td>Orange</td>\n",
       "      <td>Saddleback Valley Unified</td>\n",
       "      <td>Portola Hills Elementary</td>\n",
       "      <td>All</td>\n",
       "      <td>NaN</td>\n",
       "    </tr>\n",
       "    <tr>\n",
       "      <th>2</th>\n",
       "      <td>S</td>\n",
       "      <td>Orange</td>\n",
       "      <td>Saddleback Valley Unified</td>\n",
       "      <td>Portola Hills Elementary</td>\n",
       "      <td>All</td>\n",
       "      <td>NaN</td>\n",
       "    </tr>\n",
       "    <tr>\n",
       "      <th>3</th>\n",
       "      <td>S</td>\n",
       "      <td>Orange</td>\n",
       "      <td>Saddleback Valley Unified</td>\n",
       "      <td>Portola Hills Elementary</td>\n",
       "      <td>All</td>\n",
       "      <td>18.0</td>\n",
       "    </tr>\n",
       "    <tr>\n",
       "      <th>4</th>\n",
       "      <td>S</td>\n",
       "      <td>Orange</td>\n",
       "      <td>Saddleback Valley Unified</td>\n",
       "      <td>Portola Hills Elementary</td>\n",
       "      <td>All</td>\n",
       "      <td>110.0</td>\n",
       "    </tr>\n",
       "    <tr>\n",
       "      <th>...</th>\n",
       "      <td>...</td>\n",
       "      <td>...</td>\n",
       "      <td>...</td>\n",
       "      <td>...</td>\n",
       "      <td>...</td>\n",
       "      <td>...</td>\n",
       "    </tr>\n",
       "    <tr>\n",
       "      <th>355142</th>\n",
       "      <td>C</td>\n",
       "      <td>Imperial</td>\n",
       "      <td>NaN</td>\n",
       "      <td>NaN</td>\n",
       "      <td>No</td>\n",
       "      <td>38536.0</td>\n",
       "    </tr>\n",
       "    <tr>\n",
       "      <th>355143</th>\n",
       "      <td>C</td>\n",
       "      <td>San Mateo</td>\n",
       "      <td>NaN</td>\n",
       "      <td>NaN</td>\n",
       "      <td>No</td>\n",
       "      <td>88986.0</td>\n",
       "    </tr>\n",
       "    <tr>\n",
       "      <th>355144</th>\n",
       "      <td>C</td>\n",
       "      <td>Santa Barbara</td>\n",
       "      <td>NaN</td>\n",
       "      <td>NaN</td>\n",
       "      <td>No</td>\n",
       "      <td>66537.0</td>\n",
       "    </tr>\n",
       "    <tr>\n",
       "      <th>355145</th>\n",
       "      <td>C</td>\n",
       "      <td>Kern</td>\n",
       "      <td>NaN</td>\n",
       "      <td>NaN</td>\n",
       "      <td>No</td>\n",
       "      <td>183911.0</td>\n",
       "    </tr>\n",
       "    <tr>\n",
       "      <th>355146</th>\n",
       "      <td>T</td>\n",
       "      <td>State</td>\n",
       "      <td>NaN</td>\n",
       "      <td>NaN</td>\n",
       "      <td>No</td>\n",
       "      <td>5678140.0</td>\n",
       "    </tr>\n",
       "  </tbody>\n",
       "</table>\n",
       "<p>355147 rows × 6 columns</p>\n",
       "</div>"
      ],
      "text/plain": [
       "       AggregateLevel     CountyName               DistrictName  \\\n",
       "0                   S         Orange  Saddleback Valley Unified   \n",
       "1                   S         Orange  Saddleback Valley Unified   \n",
       "2                   S         Orange  Saddleback Valley Unified   \n",
       "3                   S         Orange  Saddleback Valley Unified   \n",
       "4                   S         Orange  Saddleback Valley Unified   \n",
       "...               ...            ...                        ...   \n",
       "355142              C       Imperial                        NaN   \n",
       "355143              C      San Mateo                        NaN   \n",
       "355144              C  Santa Barbara                        NaN   \n",
       "355145              C           Kern                        NaN   \n",
       "355146              T          State                        NaN   \n",
       "\n",
       "                      SchoolName Charter  CumulativeEnrollment  \n",
       "0       Portola Hills Elementary     All                  90.0  \n",
       "1       Portola Hills Elementary     All                   NaN  \n",
       "2       Portola Hills Elementary     All                   NaN  \n",
       "3       Portola Hills Elementary     All                  18.0  \n",
       "4       Portola Hills Elementary     All                 110.0  \n",
       "...                          ...     ...                   ...  \n",
       "355142                       NaN     No                38536.0  \n",
       "355143                       NaN     No                88986.0  \n",
       "355144                       NaN     No                66537.0  \n",
       "355145                       NaN     No               183911.0  \n",
       "355146                       NaN     No              5678140.0  \n",
       "\n",
       "[355147 rows x 6 columns]"
      ]
     },
     "execution_count": 121,
     "metadata": {},
     "output_type": "execute_result"
    }
   ],
   "source": [
    "cumulative_clean"
   ]
  },
  {
   "cell_type": "markdown",
   "metadata": {},
   "source": [
    "# COVID-19 Stats in San Diego "
   ]
  },
  {
   "cell_type": "code",
   "execution_count": 135,
   "metadata": {},
   "outputs": [
    {
     "data": {
      "text/plain": [
       "X                                     float64\n",
       "Y                                     float64\n",
       "objectid                                int64\n",
       "date                      datetime64[ns, UTC]\n",
       "tests                                 float64\n",
       "positives                               int64\n",
       "hospitalized                          float64\n",
       "icu                                   float64\n",
       "deaths                                float64\n",
       "newcases                                int64\n",
       "age_9                                 float64\n",
       "age10_19                              float64\n",
       "age40_49                              float64\n",
       "age50_59                              float64\n",
       "age60_69                              float64\n",
       "age70_79                              float64\n",
       "age80_plus                            float64\n",
       "ageunknow                             float64\n",
       "age20_29                              float64\n",
       "genderfemale                          float64\n",
       "gendermale                            float64\n",
       "gendeunk                              float64\n",
       "age30_39                              float64\n",
       "globalid                               object\n",
       "newtests                              float64\n",
       "rolling_perc_pos_cases                float64\n",
       "dtype: object"
      ]
     },
     "execution_count": 135,
     "metadata": {},
     "output_type": "execute_result"
    }
   ],
   "source": [
    "stats_sd[\"date\"] = pd.to_datetime(stats_sd[\"date\"])\n",
    "stats_sd.dtypes"
   ]
  }
 ],
 "metadata": {
  "kernelspec": {
   "display_name": "Python 3",
   "language": "python",
   "name": "python3"
  },
  "language_info": {
   "codemirror_mode": {
    "name": "ipython",
    "version": 3
   },
   "file_extension": ".py",
   "mimetype": "text/x-python",
   "name": "python",
   "nbconvert_exporter": "python",
   "pygments_lexer": "ipython3",
   "version": "3.8.4"
  }
 },
 "nbformat": 4,
 "nbformat_minor": 4
}
