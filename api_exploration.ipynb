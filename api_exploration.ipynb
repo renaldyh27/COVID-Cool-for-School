{
 "metadata": {
  "language_info": {
   "codemirror_mode": {
    "name": "ipython",
    "version": 3
   },
   "file_extension": ".py",
   "mimetype": "text/x-python",
   "name": "python",
   "nbconvert_exporter": "python",
   "pygments_lexer": "ipython3",
   "version": "3.8.3-final"
  },
  "orig_nbformat": 2,
  "kernelspec": {
   "name": "python_defaultSpec_1600383301821",
   "display_name": "Python 3.8.3 64-bit ('base': conda)"
  }
 },
 "nbformat": 4,
 "nbformat_minor": 2,
 "cells": [
  {
   "cell_type": "code",
   "execution_count": 61,
   "metadata": {},
   "outputs": [],
   "source": [
    "import requests, json\n",
    "import pandas as pd \n",
    "import numpy as np \n",
    "\n",
    "cases_by_zip_url = \"https://gis-public.sandiegocounty.gov/arcgis/rest/services/Hosted/COVID_19_Statistics__by_ZIP_Code/FeatureServer/0/query?where=1%3D1&outFields=*&outSR=4326&f=json\"\n"
   ]
  },
  {
   "cell_type": "code",
   "execution_count": 62,
   "metadata": {},
   "outputs": [],
   "source": [
    "response = requests.get(cases_by_zip_url)\n",
    "data = response.json()\n",
    "#data is in dict format"
   ]
  },
  {
   "cell_type": "code",
   "execution_count": 37,
   "metadata": {},
   "outputs": [
    {
     "output_type": "execute_result",
     "data": {
      "text/plain": "dict_keys(['exceededTransferLimit', 'features', 'fields', 'geometryType', 'spatialReference', 'globalIdFieldName', 'objectIdFieldName', 'hasZ', 'hasM'])"
     },
     "metadata": {},
     "execution_count": 37
    }
   ],
   "source": [
    "data.keys()"
   ]
  },
  {
   "cell_type": "code",
   "execution_count": 49,
   "metadata": {},
   "outputs": [
    {
     "output_type": "execute_result",
     "data": {
      "text/plain": "{'attributes': {'objectid': 1081,\n  'zipcode_zip': 91906,\n  'ziptext': '91906',\n  'case_count': None,\n  'updatedate': 1586505600000,\n  'created_user': 'John.Taylor@sdcounty.ca.gov',\n  'created_date': 1586646600000,\n  'last_edited_user': 'John.Taylor@sdcounty.ca.gov',\n  'last_edited_date': 1586646600000,\n  'globalid': '{B3B30588-FE04-4679-A8F0-C228A4F3BA50}',\n  'rate_100k': None,\n  'test_positive': None,\n  'test_neg': None,\n  'test_ind': None,\n  'test_total': None,\n  'test_100k': None,\n  'testspctpositive': None},\n 'geometry': {'x': -116.46968055286347, 'y': 32.66042735240326}}"
     },
     "metadata": {},
     "execution_count": 49
    }
   ],
   "source": [
    "data[\"features\"][1]"
   ]
  },
  {
   "cell_type": "code",
   "execution_count": 60,
   "metadata": {},
   "outputs": [
    {
     "output_type": "execute_result",
     "data": {
      "text/plain": "{'objectid': 1081,\n 'zipcode_zip': 91906,\n 'ziptext': '91906',\n 'case_count': None,\n 'updatedate': 1586505600000,\n 'created_user': 'John.Taylor@sdcounty.ca.gov',\n 'created_date': 1586646600000,\n 'last_edited_user': 'John.Taylor@sdcounty.ca.gov',\n 'last_edited_date': 1586646600000,\n 'globalid': '{B3B30588-FE04-4679-A8F0-C228A4F3BA50}',\n 'rate_100k': None,\n 'test_positive': None,\n 'test_neg': None,\n 'test_ind': None,\n 'test_total': None,\n 'test_100k': None,\n 'testspctpositive': None}"
     },
     "metadata": {},
     "execution_count": 60
    }
   ],
   "source": [
    "data[\"features\"][1][\"attributes\"]\n",
    "#updatedate is April 10, 2020\n",
    "#created_date is April 11, 2020"
   ]
  },
  {
   "cell_type": "code",
   "execution_count": 54,
   "metadata": {},
   "outputs": [
    {
     "output_type": "execute_result",
     "data": {
      "text/plain": "'91906'"
     },
     "metadata": {},
     "execution_count": 54
    }
   ],
   "source": [
    "data[\"features\"][1][\"attributes\"][\"ziptext\"]\n"
   ]
  },
  {
   "cell_type": "code",
   "execution_count": 57,
   "metadata": {},
   "outputs": [
    {
     "output_type": "execute_result",
     "data": {
      "text/plain": "{'objectid': 771,\n 'zipcode_zip': 92014,\n 'ziptext': '92014',\n 'case_count': 13,\n 'updatedate': 1586246400000,\n 'created_user': 'Ross.Martin@sdcounty.ca.gov',\n 'created_date': 1586630625000,\n 'last_edited_user': 'Ross.Martin@sdcounty.ca.gov',\n 'last_edited_date': 1586630625000,\n 'globalid': '{B15617F1-351C-43BB-8B69-7C6869FCD333}',\n 'rate_100k': None,\n 'test_positive': None,\n 'test_neg': None,\n 'test_ind': None,\n 'test_total': None,\n 'test_100k': None,\n 'testspctpositive': None}"
     },
     "metadata": {},
     "execution_count": 57
    }
   ],
   "source": [
    "data[\"features\"][1999][\"attributes\"]\n",
    "#updatedate: April 7, 2020 - the day the cases were reported\n",
    "#create data: April 11, 2020 - not useful"
   ]
  },
  {
   "cell_type": "code",
   "execution_count": 75,
   "metadata": {},
   "outputs": [
    {
     "output_type": "execute_result",
     "data": {
      "text/plain": "                  X             Y  objectid  zipcode_zip  ziptext  case_count  \\\n0     -1.299049e+07  3.869543e+06         1      91901.0    91901         1.0   \n1     -1.302606e+07  3.851793e+06         2      91902.0    91902         9.0   \n2     -1.303169e+07  3.847143e+06         3      91910.0    91910        23.0   \n3     -1.302997e+07  3.843296e+06         4      91911.0    91911        21.0   \n4     -1.302299e+07  3.844480e+06         5      91913.0    91913        20.0   \n...             ...           ...       ...          ...      ...         ...   \n18586 -1.302967e+07  3.836284e+06     19464          NaN    92173      1416.0   \n18587 -1.303254e+07  3.865633e+06     19465          NaN    92182         5.0   \n18588 -1.293020e+07  3.864272e+06     19466          NaN    92259         NaN   \n18589 -1.299327e+07  3.948342e+06     19467          NaN    92536         1.0   \n18590 -1.308800e+07  3.947071e+06     19468          NaN    92672         NaN   \n\n                   updatedate                 created_user  \\\n0      2020/04/01 08:00:00+00  Ross.Martin@sdcounty.ca.gov   \n1      2020/04/01 08:00:00+00  Ross.Martin@sdcounty.ca.gov   \n2      2020/04/01 08:00:00+00  Ross.Martin@sdcounty.ca.gov   \n3      2020/04/01 08:00:00+00  Ross.Martin@sdcounty.ca.gov   \n4      2020/04/01 08:00:00+00  Ross.Martin@sdcounty.ca.gov   \n...                       ...                          ...   \n18586  2020/09/11 08:00:00+00                          NaN   \n18587  2020/09/11 08:00:00+00                          NaN   \n18588  2020/09/11 08:00:00+00                          NaN   \n18589  2020/09/11 08:00:00+00                          NaN   \n18590  2020/09/11 08:00:00+00                          NaN   \n\n                 created_date             last_edited_user  \\\n0      2020/04/11 18:43:45+00  Ross.Martin@sdcounty.ca.gov   \n1      2020/04/11 18:43:45+00  Ross.Martin@sdcounty.ca.gov   \n2      2020/04/11 18:43:45+00  Ross.Martin@sdcounty.ca.gov   \n3      2020/04/11 18:43:45+00  Ross.Martin@sdcounty.ca.gov   \n4      2020/04/11 18:43:45+00  Ross.Martin@sdcounty.ca.gov   \n...                       ...                          ...   \n18586                     NaN                          NaN   \n18587                     NaN                          NaN   \n18588                     NaN                          NaN   \n18589                     NaN                          NaN   \n18590                     NaN                          NaN   \n\n             last_edited_date                                globalid  \\\n0      2020/04/11 18:43:45+00  {87C2AEFB-2AB8-473D-BE60-B021F0AD990A}   \n1      2020/04/11 18:43:45+00  {0BBF31F5-A98F-4A42-869E-F425379D6BA8}   \n2      2020/04/11 18:43:45+00  {94FEB6AB-AB77-4534-9692-CF8DFC823461}   \n3      2020/04/11 18:43:45+00  {83793CC0-427A-4747-9BDD-5D79A947C3FF}   \n4      2020/04/11 18:43:45+00  {597D4C08-7AD1-49D2-811D-D54EE7C2BB13}   \n...                       ...                                     ...   \n18586                     NaN  {60F83469-57AF-449E-B63F-25944269668B}   \n18587                     NaN  {31969B3E-E93F-47CA-9F4E-D74CF0309002}   \n18588                     NaN  {EFFEF789-3067-4F01-A5AE-557D97D7F980}   \n18589                     NaN  {1B2C5C9E-B655-4F20-BCDA-3F9191F5517E}   \n18590                     NaN  {575EBC49-68C3-4EEF-B7C3-91E562E7C8D7}   \n\n       rate_100k  test_positive  test_neg  test_ind  test_total  test_100k  \\\n0            NaN            NaN       NaN       NaN         NaN        NaN   \n1            NaN            NaN       NaN       NaN         NaN        NaN   \n2            NaN            NaN       NaN       NaN         NaN        NaN   \n3            NaN            NaN       NaN       NaN         NaN        NaN   \n4            NaN            NaN       NaN       NaN         NaN        NaN   \n...          ...            ...       ...       ...         ...        ...   \n18586     5225.7            NaN       NaN       NaN         NaN        NaN   \n18587        NaN            NaN       NaN       NaN         NaN        NaN   \n18588        NaN            NaN       NaN       NaN         NaN        NaN   \n18589        0.0            NaN       NaN       NaN         NaN        NaN   \n18590        NaN            NaN       NaN       NaN         NaN        NaN   \n\n       testspctpositive  \n0                   NaN  \n1                   NaN  \n2                   NaN  \n3                   NaN  \n4                   NaN  \n...                 ...  \n18586               NaN  \n18587               NaN  \n18588               NaN  \n18589               NaN  \n18590               NaN  \n\n[18591 rows x 19 columns]",
      "text/html": "<div>\n<style scoped>\n    .dataframe tbody tr th:only-of-type {\n        vertical-align: middle;\n    }\n\n    .dataframe tbody tr th {\n        vertical-align: top;\n    }\n\n    .dataframe thead th {\n        text-align: right;\n    }\n</style>\n<table border=\"1\" class=\"dataframe\">\n  <thead>\n    <tr style=\"text-align: right;\">\n      <th></th>\n      <th>X</th>\n      <th>Y</th>\n      <th>objectid</th>\n      <th>zipcode_zip</th>\n      <th>ziptext</th>\n      <th>case_count</th>\n      <th>updatedate</th>\n      <th>created_user</th>\n      <th>created_date</th>\n      <th>last_edited_user</th>\n      <th>last_edited_date</th>\n      <th>globalid</th>\n      <th>rate_100k</th>\n      <th>test_positive</th>\n      <th>test_neg</th>\n      <th>test_ind</th>\n      <th>test_total</th>\n      <th>test_100k</th>\n      <th>testspctpositive</th>\n    </tr>\n  </thead>\n  <tbody>\n    <tr>\n      <th>0</th>\n      <td>-1.299049e+07</td>\n      <td>3.869543e+06</td>\n      <td>1</td>\n      <td>91901.0</td>\n      <td>91901</td>\n      <td>1.0</td>\n      <td>2020/04/01 08:00:00+00</td>\n      <td>Ross.Martin@sdcounty.ca.gov</td>\n      <td>2020/04/11 18:43:45+00</td>\n      <td>Ross.Martin@sdcounty.ca.gov</td>\n      <td>2020/04/11 18:43:45+00</td>\n      <td>{87C2AEFB-2AB8-473D-BE60-B021F0AD990A}</td>\n      <td>NaN</td>\n      <td>NaN</td>\n      <td>NaN</td>\n      <td>NaN</td>\n      <td>NaN</td>\n      <td>NaN</td>\n      <td>NaN</td>\n    </tr>\n    <tr>\n      <th>1</th>\n      <td>-1.302606e+07</td>\n      <td>3.851793e+06</td>\n      <td>2</td>\n      <td>91902.0</td>\n      <td>91902</td>\n      <td>9.0</td>\n      <td>2020/04/01 08:00:00+00</td>\n      <td>Ross.Martin@sdcounty.ca.gov</td>\n      <td>2020/04/11 18:43:45+00</td>\n      <td>Ross.Martin@sdcounty.ca.gov</td>\n      <td>2020/04/11 18:43:45+00</td>\n      <td>{0BBF31F5-A98F-4A42-869E-F425379D6BA8}</td>\n      <td>NaN</td>\n      <td>NaN</td>\n      <td>NaN</td>\n      <td>NaN</td>\n      <td>NaN</td>\n      <td>NaN</td>\n      <td>NaN</td>\n    </tr>\n    <tr>\n      <th>2</th>\n      <td>-1.303169e+07</td>\n      <td>3.847143e+06</td>\n      <td>3</td>\n      <td>91910.0</td>\n      <td>91910</td>\n      <td>23.0</td>\n      <td>2020/04/01 08:00:00+00</td>\n      <td>Ross.Martin@sdcounty.ca.gov</td>\n      <td>2020/04/11 18:43:45+00</td>\n      <td>Ross.Martin@sdcounty.ca.gov</td>\n      <td>2020/04/11 18:43:45+00</td>\n      <td>{94FEB6AB-AB77-4534-9692-CF8DFC823461}</td>\n      <td>NaN</td>\n      <td>NaN</td>\n      <td>NaN</td>\n      <td>NaN</td>\n      <td>NaN</td>\n      <td>NaN</td>\n      <td>NaN</td>\n    </tr>\n    <tr>\n      <th>3</th>\n      <td>-1.302997e+07</td>\n      <td>3.843296e+06</td>\n      <td>4</td>\n      <td>91911.0</td>\n      <td>91911</td>\n      <td>21.0</td>\n      <td>2020/04/01 08:00:00+00</td>\n      <td>Ross.Martin@sdcounty.ca.gov</td>\n      <td>2020/04/11 18:43:45+00</td>\n      <td>Ross.Martin@sdcounty.ca.gov</td>\n      <td>2020/04/11 18:43:45+00</td>\n      <td>{83793CC0-427A-4747-9BDD-5D79A947C3FF}</td>\n      <td>NaN</td>\n      <td>NaN</td>\n      <td>NaN</td>\n      <td>NaN</td>\n      <td>NaN</td>\n      <td>NaN</td>\n      <td>NaN</td>\n    </tr>\n    <tr>\n      <th>4</th>\n      <td>-1.302299e+07</td>\n      <td>3.844480e+06</td>\n      <td>5</td>\n      <td>91913.0</td>\n      <td>91913</td>\n      <td>20.0</td>\n      <td>2020/04/01 08:00:00+00</td>\n      <td>Ross.Martin@sdcounty.ca.gov</td>\n      <td>2020/04/11 18:43:45+00</td>\n      <td>Ross.Martin@sdcounty.ca.gov</td>\n      <td>2020/04/11 18:43:45+00</td>\n      <td>{597D4C08-7AD1-49D2-811D-D54EE7C2BB13}</td>\n      <td>NaN</td>\n      <td>NaN</td>\n      <td>NaN</td>\n      <td>NaN</td>\n      <td>NaN</td>\n      <td>NaN</td>\n      <td>NaN</td>\n    </tr>\n    <tr>\n      <th>...</th>\n      <td>...</td>\n      <td>...</td>\n      <td>...</td>\n      <td>...</td>\n      <td>...</td>\n      <td>...</td>\n      <td>...</td>\n      <td>...</td>\n      <td>...</td>\n      <td>...</td>\n      <td>...</td>\n      <td>...</td>\n      <td>...</td>\n      <td>...</td>\n      <td>...</td>\n      <td>...</td>\n      <td>...</td>\n      <td>...</td>\n      <td>...</td>\n    </tr>\n    <tr>\n      <th>18586</th>\n      <td>-1.302967e+07</td>\n      <td>3.836284e+06</td>\n      <td>19464</td>\n      <td>NaN</td>\n      <td>92173</td>\n      <td>1416.0</td>\n      <td>2020/09/11 08:00:00+00</td>\n      <td>NaN</td>\n      <td>NaN</td>\n      <td>NaN</td>\n      <td>NaN</td>\n      <td>{60F83469-57AF-449E-B63F-25944269668B}</td>\n      <td>5225.7</td>\n      <td>NaN</td>\n      <td>NaN</td>\n      <td>NaN</td>\n      <td>NaN</td>\n      <td>NaN</td>\n      <td>NaN</td>\n    </tr>\n    <tr>\n      <th>18587</th>\n      <td>-1.303254e+07</td>\n      <td>3.865633e+06</td>\n      <td>19465</td>\n      <td>NaN</td>\n      <td>92182</td>\n      <td>5.0</td>\n      <td>2020/09/11 08:00:00+00</td>\n      <td>NaN</td>\n      <td>NaN</td>\n      <td>NaN</td>\n      <td>NaN</td>\n      <td>{31969B3E-E93F-47CA-9F4E-D74CF0309002}</td>\n      <td>NaN</td>\n      <td>NaN</td>\n      <td>NaN</td>\n      <td>NaN</td>\n      <td>NaN</td>\n      <td>NaN</td>\n      <td>NaN</td>\n    </tr>\n    <tr>\n      <th>18588</th>\n      <td>-1.293020e+07</td>\n      <td>3.864272e+06</td>\n      <td>19466</td>\n      <td>NaN</td>\n      <td>92259</td>\n      <td>NaN</td>\n      <td>2020/09/11 08:00:00+00</td>\n      <td>NaN</td>\n      <td>NaN</td>\n      <td>NaN</td>\n      <td>NaN</td>\n      <td>{EFFEF789-3067-4F01-A5AE-557D97D7F980}</td>\n      <td>NaN</td>\n      <td>NaN</td>\n      <td>NaN</td>\n      <td>NaN</td>\n      <td>NaN</td>\n      <td>NaN</td>\n      <td>NaN</td>\n    </tr>\n    <tr>\n      <th>18589</th>\n      <td>-1.299327e+07</td>\n      <td>3.948342e+06</td>\n      <td>19467</td>\n      <td>NaN</td>\n      <td>92536</td>\n      <td>1.0</td>\n      <td>2020/09/11 08:00:00+00</td>\n      <td>NaN</td>\n      <td>NaN</td>\n      <td>NaN</td>\n      <td>NaN</td>\n      <td>{1B2C5C9E-B655-4F20-BCDA-3F9191F5517E}</td>\n      <td>0.0</td>\n      <td>NaN</td>\n      <td>NaN</td>\n      <td>NaN</td>\n      <td>NaN</td>\n      <td>NaN</td>\n      <td>NaN</td>\n    </tr>\n    <tr>\n      <th>18590</th>\n      <td>-1.308800e+07</td>\n      <td>3.947071e+06</td>\n      <td>19468</td>\n      <td>NaN</td>\n      <td>92672</td>\n      <td>NaN</td>\n      <td>2020/09/11 08:00:00+00</td>\n      <td>NaN</td>\n      <td>NaN</td>\n      <td>NaN</td>\n      <td>NaN</td>\n      <td>{575EBC49-68C3-4EEF-B7C3-91E562E7C8D7}</td>\n      <td>NaN</td>\n      <td>NaN</td>\n      <td>NaN</td>\n      <td>NaN</td>\n      <td>NaN</td>\n      <td>NaN</td>\n      <td>NaN</td>\n    </tr>\n  </tbody>\n</table>\n<p>18591 rows × 19 columns</p>\n</div>"
     },
     "metadata": {},
     "execution_count": 75
    }
   ],
   "source": [
    "Zipcases = pd.read_csv(\"Datasets/COVID-19_Case_Statistics_by_ZIP_Code.csv\")\n",
    "Zipcases"
   ]
  },
  {
   "cell_type": "code",
   "execution_count": 77,
   "metadata": {},
   "outputs": [
    {
     "output_type": "execute_result",
     "data": {
      "text/plain": "113"
     },
     "metadata": {},
     "execution_count": 77
    }
   ],
   "source": [
    "Zipcases[\"zipcode_zip\"].nunique()"
   ]
  },
  {
   "cell_type": "code",
   "execution_count": 78,
   "metadata": {},
   "outputs": [
    {
     "output_type": "execute_result",
     "data": {
      "text/plain": "       zipcode_zip  case_count              updatedate\n0          91901.0         1.0  2020/04/01 08:00:00+00\n1          91902.0         9.0  2020/04/01 08:00:00+00\n2          91910.0        23.0  2020/04/01 08:00:00+00\n3          91911.0        21.0  2020/04/01 08:00:00+00\n4          91913.0        20.0  2020/04/01 08:00:00+00\n...            ...         ...                     ...\n18586          NaN      1416.0  2020/09/11 08:00:00+00\n18587          NaN         5.0  2020/09/11 08:00:00+00\n18588          NaN         NaN  2020/09/11 08:00:00+00\n18589          NaN         1.0  2020/09/11 08:00:00+00\n18590          NaN         NaN  2020/09/11 08:00:00+00\n\n[18591 rows x 3 columns]",
      "text/html": "<div>\n<style scoped>\n    .dataframe tbody tr th:only-of-type {\n        vertical-align: middle;\n    }\n\n    .dataframe tbody tr th {\n        vertical-align: top;\n    }\n\n    .dataframe thead th {\n        text-align: right;\n    }\n</style>\n<table border=\"1\" class=\"dataframe\">\n  <thead>\n    <tr style=\"text-align: right;\">\n      <th></th>\n      <th>zipcode_zip</th>\n      <th>case_count</th>\n      <th>updatedate</th>\n    </tr>\n  </thead>\n  <tbody>\n    <tr>\n      <th>0</th>\n      <td>91901.0</td>\n      <td>1.0</td>\n      <td>2020/04/01 08:00:00+00</td>\n    </tr>\n    <tr>\n      <th>1</th>\n      <td>91902.0</td>\n      <td>9.0</td>\n      <td>2020/04/01 08:00:00+00</td>\n    </tr>\n    <tr>\n      <th>2</th>\n      <td>91910.0</td>\n      <td>23.0</td>\n      <td>2020/04/01 08:00:00+00</td>\n    </tr>\n    <tr>\n      <th>3</th>\n      <td>91911.0</td>\n      <td>21.0</td>\n      <td>2020/04/01 08:00:00+00</td>\n    </tr>\n    <tr>\n      <th>4</th>\n      <td>91913.0</td>\n      <td>20.0</td>\n      <td>2020/04/01 08:00:00+00</td>\n    </tr>\n    <tr>\n      <th>...</th>\n      <td>...</td>\n      <td>...</td>\n      <td>...</td>\n    </tr>\n    <tr>\n      <th>18586</th>\n      <td>NaN</td>\n      <td>1416.0</td>\n      <td>2020/09/11 08:00:00+00</td>\n    </tr>\n    <tr>\n      <th>18587</th>\n      <td>NaN</td>\n      <td>5.0</td>\n      <td>2020/09/11 08:00:00+00</td>\n    </tr>\n    <tr>\n      <th>18588</th>\n      <td>NaN</td>\n      <td>NaN</td>\n      <td>2020/09/11 08:00:00+00</td>\n    </tr>\n    <tr>\n      <th>18589</th>\n      <td>NaN</td>\n      <td>1.0</td>\n      <td>2020/09/11 08:00:00+00</td>\n    </tr>\n    <tr>\n      <th>18590</th>\n      <td>NaN</td>\n      <td>NaN</td>\n      <td>2020/09/11 08:00:00+00</td>\n    </tr>\n  </tbody>\n</table>\n<p>18591 rows × 3 columns</p>\n</div>"
     },
     "metadata": {},
     "execution_count": 78
    }
   ],
   "source": [
    "Zipcases = Zipcases[[\"zipcode_zip\",\"case_count\",\"updatedate\"]]\n",
    "Zipcases"
   ]
  },
  {
   "cell_type": "code",
   "execution_count": 81,
   "metadata": {},
   "outputs": [
    {
     "output_type": "execute_result",
     "data": {
      "text/plain": "       zipcode_zip  case_count              updatedate\n0          91901.0         1.0  2020/04/01 08:00:00+00\n1          91902.0         9.0  2020/04/01 08:00:00+00\n2          91910.0        23.0  2020/04/01 08:00:00+00\n3          91911.0        21.0  2020/04/01 08:00:00+00\n4          91913.0        20.0  2020/04/01 08:00:00+00\n...            ...         ...                     ...\n17225      92140.0        89.0  2020/08/30 08:00:00+00\n17226      92145.0         8.0  2020/08/30 08:00:00+00\n17227      92154.0      2334.0  2020/08/30 08:00:00+00\n17230      92173.0      1294.0  2020/08/30 08:00:00+00\n17233      92536.0         1.0  2020/08/30 08:00:00+00\n\n[12249 rows x 3 columns]",
      "text/html": "<div>\n<style scoped>\n    .dataframe tbody tr th:only-of-type {\n        vertical-align: middle;\n    }\n\n    .dataframe tbody tr th {\n        vertical-align: top;\n    }\n\n    .dataframe thead th {\n        text-align: right;\n    }\n</style>\n<table border=\"1\" class=\"dataframe\">\n  <thead>\n    <tr style=\"text-align: right;\">\n      <th></th>\n      <th>zipcode_zip</th>\n      <th>case_count</th>\n      <th>updatedate</th>\n    </tr>\n  </thead>\n  <tbody>\n    <tr>\n      <th>0</th>\n      <td>91901.0</td>\n      <td>1.0</td>\n      <td>2020/04/01 08:00:00+00</td>\n    </tr>\n    <tr>\n      <th>1</th>\n      <td>91902.0</td>\n      <td>9.0</td>\n      <td>2020/04/01 08:00:00+00</td>\n    </tr>\n    <tr>\n      <th>2</th>\n      <td>91910.0</td>\n      <td>23.0</td>\n      <td>2020/04/01 08:00:00+00</td>\n    </tr>\n    <tr>\n      <th>3</th>\n      <td>91911.0</td>\n      <td>21.0</td>\n      <td>2020/04/01 08:00:00+00</td>\n    </tr>\n    <tr>\n      <th>4</th>\n      <td>91913.0</td>\n      <td>20.0</td>\n      <td>2020/04/01 08:00:00+00</td>\n    </tr>\n    <tr>\n      <th>...</th>\n      <td>...</td>\n      <td>...</td>\n      <td>...</td>\n    </tr>\n    <tr>\n      <th>17225</th>\n      <td>92140.0</td>\n      <td>89.0</td>\n      <td>2020/08/30 08:00:00+00</td>\n    </tr>\n    <tr>\n      <th>17226</th>\n      <td>92145.0</td>\n      <td>8.0</td>\n      <td>2020/08/30 08:00:00+00</td>\n    </tr>\n    <tr>\n      <th>17227</th>\n      <td>92154.0</td>\n      <td>2334.0</td>\n      <td>2020/08/30 08:00:00+00</td>\n    </tr>\n    <tr>\n      <th>17230</th>\n      <td>92173.0</td>\n      <td>1294.0</td>\n      <td>2020/08/30 08:00:00+00</td>\n    </tr>\n    <tr>\n      <th>17233</th>\n      <td>92536.0</td>\n      <td>1.0</td>\n      <td>2020/08/30 08:00:00+00</td>\n    </tr>\n  </tbody>\n</table>\n<p>12249 rows × 3 columns</p>\n</div>"
     },
     "metadata": {},
     "execution_count": 81
    }
   ],
   "source": [
    "Zipcases = Zipcases.dropna(axis=0)\n",
    "Zipcases"
   ]
  },
  {
   "cell_type": "code",
   "execution_count": 83,
   "metadata": {},
   "outputs": [
    {
     "output_type": "execute_result",
     "data": {
      "text/plain": "       zipcode_zip  case_count              updatedate\n0          91901.0         1.0  2020/04/01 08:00:00+00\n1          91902.0         9.0  2020/04/01 08:00:00+00\n2          91910.0        23.0  2020/04/01 08:00:00+00\n3          91911.0        21.0  2020/04/01 08:00:00+00\n4          91913.0        20.0  2020/04/01 08:00:00+00\n...            ...         ...                     ...\n17225      92140.0        89.0  2020/08/30 08:00:00+00\n17226      92145.0         8.0  2020/08/30 08:00:00+00\n17227      92154.0      2334.0  2020/08/30 08:00:00+00\n17230      92173.0      1294.0  2020/08/30 08:00:00+00\n17233      92536.0         1.0  2020/08/30 08:00:00+00\n\n[12249 rows x 3 columns]",
      "text/html": "<div>\n<style scoped>\n    .dataframe tbody tr th:only-of-type {\n        vertical-align: middle;\n    }\n\n    .dataframe tbody tr th {\n        vertical-align: top;\n    }\n\n    .dataframe thead th {\n        text-align: right;\n    }\n</style>\n<table border=\"1\" class=\"dataframe\">\n  <thead>\n    <tr style=\"text-align: right;\">\n      <th></th>\n      <th>zipcode_zip</th>\n      <th>case_count</th>\n      <th>updatedate</th>\n    </tr>\n  </thead>\n  <tbody>\n    <tr>\n      <th>0</th>\n      <td>91901.0</td>\n      <td>1.0</td>\n      <td>2020/04/01 08:00:00+00</td>\n    </tr>\n    <tr>\n      <th>1</th>\n      <td>91902.0</td>\n      <td>9.0</td>\n      <td>2020/04/01 08:00:00+00</td>\n    </tr>\n    <tr>\n      <th>2</th>\n      <td>91910.0</td>\n      <td>23.0</td>\n      <td>2020/04/01 08:00:00+00</td>\n    </tr>\n    <tr>\n      <th>3</th>\n      <td>91911.0</td>\n      <td>21.0</td>\n      <td>2020/04/01 08:00:00+00</td>\n    </tr>\n    <tr>\n      <th>4</th>\n      <td>91913.0</td>\n      <td>20.0</td>\n      <td>2020/04/01 08:00:00+00</td>\n    </tr>\n    <tr>\n      <th>...</th>\n      <td>...</td>\n      <td>...</td>\n      <td>...</td>\n    </tr>\n    <tr>\n      <th>17225</th>\n      <td>92140.0</td>\n      <td>89.0</td>\n      <td>2020/08/30 08:00:00+00</td>\n    </tr>\n    <tr>\n      <th>17226</th>\n      <td>92145.0</td>\n      <td>8.0</td>\n      <td>2020/08/30 08:00:00+00</td>\n    </tr>\n    <tr>\n      <th>17227</th>\n      <td>92154.0</td>\n      <td>2334.0</td>\n      <td>2020/08/30 08:00:00+00</td>\n    </tr>\n    <tr>\n      <th>17230</th>\n      <td>92173.0</td>\n      <td>1294.0</td>\n      <td>2020/08/30 08:00:00+00</td>\n    </tr>\n    <tr>\n      <th>17233</th>\n      <td>92536.0</td>\n      <td>1.0</td>\n      <td>2020/08/30 08:00:00+00</td>\n    </tr>\n  </tbody>\n</table>\n<p>12249 rows × 3 columns</p>\n</div>"
     },
     "metadata": {},
     "execution_count": 83
    }
   ],
   "source": [
    "Zipcases"
   ]
  },
  {
   "cell_type": "code",
   "execution_count": null,
   "metadata": {},
   "outputs": [],
   "source": []
  }
 ]
}